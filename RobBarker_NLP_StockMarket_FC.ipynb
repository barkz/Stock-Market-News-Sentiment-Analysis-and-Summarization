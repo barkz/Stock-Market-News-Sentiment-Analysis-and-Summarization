{
 "cells": [
  {
   "cell_type": "markdown",
   "id": "EvCcfwuSU-fz",
   "metadata": {
    "id": "EvCcfwuSU-fz"
   },
   "source": [
    "## **Problem Statement**"
   ]
  },
  {
   "cell_type": "markdown",
   "id": "6QR_RHvIVHT2",
   "metadata": {
    "id": "6QR_RHvIVHT2"
   },
   "source": [
    "### Business Context"
   ]
  },
  {
   "cell_type": "markdown",
   "id": "pl3dmH-EnJGl",
   "metadata": {
    "id": "pl3dmH-EnJGl"
   },
   "source": [
    "The prices of the stocks of companies listed under a global exchange are influenced by a variety of factors, with the company's financial performance, innovations and collaborations, and market sentiment being factors that play a significant role. News and media reports can rapidly affect investor perceptions and, consequently, stock prices in the highly competitive financial industry. With the sheer volume of news and opinions from a wide variety of sources, investors and financial analysts often struggle to stay updated and accurately interpret its impact on the market. As a result, investment firms need sophisticated tools to analyze market sentiment and integrate this information into their investment strategies."
   ]
  },
  {
   "cell_type": "markdown",
   "id": "Vn6bbxSwVKl3",
   "metadata": {
    "id": "Vn6bbxSwVKl3"
   },
   "source": [
    "### Problem Definition"
   ]
  },
  {
   "cell_type": "markdown",
   "id": "jCIswL3zobj6",
   "metadata": {
    "id": "jCIswL3zobj6"
   },
   "source": [
    "With an ever-rising number of news articles and opinions, an investment startup aims to leverage artificial intelligence to address the challenge of interpreting stock-related news and its impact on stock prices. They have collected historical daily news for a specific company listed under NASDAQ, along with data on its daily stock price and trade volumes.\n",
    "\n",
    "As a member of the Data Science and AI team in the startup, you have been tasked with analyzing the data, developing an AI-driven sentiment analysis system that will automatically process and analyze news articles to gauge market sentiment, and summarizing the news at a weekly level to enhance the accuracy of their stock price predictions and optimize investment strategies. This will empower their financial analysts with actionable insights, leading to more informed investment decisions and improved client outcomes."
   ]
  },
  {
   "cell_type": "markdown",
   "id": "ZJOtDHVSF5hu",
   "metadata": {
    "id": "ZJOtDHVSF5hu"
   },
   "source": [
    "### Data Dictionary"
   ]
  },
  {
   "cell_type": "markdown",
   "id": "ZlkjI8V5F9RK",
   "metadata": {
    "id": "ZlkjI8V5F9RK"
   },
   "source": [
    "* `Date` : The date the news was released\n",
    "* `News` : The content of news articles that could potentially affect the company's stock price\n",
    "* `Open` : The stock price (in \\$) at the beginning of the day\n",
    "* `High` : The highest stock price (in \\$) reached during the day\n",
    "* `Low` :  The lowest stock price (in \\$) reached during the day\n",
    "* `Close` : The adjusted stock price (in \\$) at the end of the day\n",
    "* `Volume` : The number of shares traded during the day\n",
    "* `Label` : The sentiment polarity of the news content\n",
    "    * 1: positive\n",
    "    * 0: neutral\n",
    "    * -1: negative"
   ]
  },
  {
   "cell_type": "markdown",
   "id": "47637cd3",
   "metadata": {},
   "source": [
    "---\n",
    "---\n",
    "# **Setup Environment**"
   ]
  },
  {
   "cell_type": "markdown",
   "id": "26da145a",
   "metadata": {},
   "source": [
    "## Development Environment\n",
    "* Local development with Visual Studio Code.\n",
    "* Jupyter Notebook and Python 3.11.7 with Anaconda3. \n",
    "* Google Colab/Drive not used.\n",
    "* Generated HTML using the jupyter cli\n",
    "\n",
    "   ```jupyter nbconvert --to html RobBarker_CV_PlantSeeding_FC.html.ipynb```\n",
    "\n",
    "* Added --- (markdown) lines for easier readability for myself. \n",
    "\n",
    "## Formatting Notes\n",
    "* Moved helper functions into separate sections according to task.\n",
    "* Added line separators for readability."
   ]
  },
  {
   "cell_type": "markdown",
   "id": "VrFQHcW5mYgv",
   "metadata": {
    "id": "VrFQHcW5mYgv"
   },
   "source": [
    "## Installing and Importing Necessary Libraries"
   ]
  },
  {
   "cell_type": "code",
   "execution_count": null,
   "id": "A-E2-iaumpo8",
   "metadata": {
    "id": "A-E2-iaumpo8"
   },
   "outputs": [
    {
     "name": "stdout",
     "output_type": "stream",
     "text": [
      "Note: you may need to restart the kernel to use updated packages.\n",
      "Requirement already satisfied: click in /opt/anaconda3/lib/python3.11/site-packages (8.1.7)\n",
      "Note: you may need to restart the kernel to use updated packages.\n",
      "1.5.2\n",
      "Requirement already satisfied: scikit-learn in /opt/anaconda3/lib/python3.11/site-packages (1.5.2)\n",
      "Requirement already satisfied: numpy>=1.19.5 in ./.local/lib/python3.11/site-packages (from scikit-learn) (1.25.2)\n",
      "Requirement already satisfied: scipy>=1.6.0 in /opt/anaconda3/lib/python3.11/site-packages (from scikit-learn) (1.11.4)\n",
      "Requirement already satisfied: joblib>=1.2.0 in /opt/anaconda3/lib/python3.11/site-packages (from scikit-learn) (1.2.0)\n",
      "Requirement already satisfied: threadpoolctl>=3.1.0 in /opt/anaconda3/lib/python3.11/site-packages (from scikit-learn) (3.5.0)\n",
      "Note: you may need to restart the kernel to use updated packages.\n"
     ]
    }
   ],
   "source": [
    "# Installing the libraries with the specified version.\n",
    "# Uncomment and run the following line if Google Colab is being used\n",
    "#!pip install -U sentence-transformers gensim transformers tqdm -q\n",
    "\n",
    "# Install the required libraries\n",
    "%pip install -U sentence-transformers gensim transformers tqdm -q\n",
    "\n",
    "# Upgrade the click package to resolve the dependency conflict\n",
    "%pip install click --upgrade\n",
    "\n",
    "# Check the version of scikit-learn\n",
    "import sklearn\n",
    "print(sklearn.__version__)\n",
    "\n",
    "# Reinstall scikit-learn if necessary\n",
    "%pip install --upgrade scikit-learn\n",
    "\n",
    "# To manipulate and analyze data\n",
    "import pandas as pd\n",
    "import numpy as np\n",
    "\n",
    "# To visualize data\n",
    "import matplotlib.pyplot as plt\n",
    "import seaborn as sns\n",
    "\n",
    "# To used time-related functions\n",
    "import time\n",
    "\n",
    "# To parse JSON data\n",
    "import json\n",
    "\n",
    "# To build, tune, and evaluate ML models\n",
    "from sklearn.tree import DecisionTreeClassifier\n",
    "from sklearn.ensemble import (\n",
    "    AdaBoostClassifier,\n",
    "    GradientBoostingClassifier,\n",
    "    RandomForestClassifier,\n",
    "    BaggingClassifier,\n",
    ")\n",
    "from xgboost import XGBClassifier\n",
    "\n",
    "from sklearn.model_selection import GridSearchCV\n",
    "from sklearn.metrics import confusion_matrix, accuracy_score, f1_score, precision_score, recall_score\n",
    "\n",
    "# To load/create word embeddings\n",
    "from gensim.models import Word2Vec\n",
    "from gensim.models import KeyedVectors\n",
    "from gensim.scripts.glove2word2vec import glove2word2vec\n",
    "\n",
    "# To work with transformer models\n",
    "import torch\n",
    "from sentence_transformers import SentenceTransformer\n",
    "\n",
    "# To implement progress bar related functionalities\n",
    "from tqdm import tqdm\n",
    "tqdm.pandas()\n",
    "\n",
    "# To suppress warnings.\n",
    "import warnings\n",
    "warnings.filterwarnings(\"ignore\", category=FutureWarning)\n",
    "warnings.filterwarnings(\"ignore\", category=DeprecationWarning)\n",
    "warnings.filterwarnings(\"ignore\", category=UserWarning)"
   ]
  },
  {
   "cell_type": "markdown",
   "id": "wQ46zPgumfjF",
   "metadata": {
    "id": "wQ46zPgumfjF"
   },
   "source": [
    "## Loading the dataset"
   ]
  },
  {
   "cell_type": "code",
   "execution_count": 93,
   "id": "CrlkyDb9yNhn",
   "metadata": {
    "id": "CrlkyDb9yNhn"
   },
   "outputs": [],
   "source": [
    "# Load dataset.\n",
    "stocknews_df_org = pd.read_csv(\"/Users/barkz/Desktop/GL Projects/Stock-Market-News-Sentiment-Analysis-and-Summarization/stock_news.csv\")\n",
    "stocknews_df = stocknews_df_org.copy()"
   ]
  },
  {
   "cell_type": "markdown",
   "id": "EvFNfrvGWthn",
   "metadata": {
    "id": "EvFNfrvGWthn"
   },
   "source": [
    "---\n",
    "---\n",
    "# **Data Overview**\n",
    "\n",
    "Summarization of all the data set elements that include:, Top 5 rows, bottom 5 rows, data info/type, data shape, image information (size, pixels, color) and distribution."
   ]
  },
  {
   "cell_type": "code",
   "execution_count": 94,
   "id": "bbH_NB6oyQKT",
   "metadata": {
    "id": "bbH_NB6oyQKT"
   },
   "outputs": [
    {
     "data": {
      "text/plain": [
       "(349, 8)"
      ]
     },
     "execution_count": 94,
     "metadata": {},
     "output_type": "execute_result"
    }
   ],
   "source": [
    "stocknews_df.shape"
   ]
  },
  {
   "cell_type": "markdown",
   "id": "535ed80f",
   "metadata": {},
   "source": [
    "**Observations:**\n",
    "* There are 349 records and 8 columns."
   ]
  },
  {
   "cell_type": "code",
   "execution_count": 95,
   "id": "19dbed4d",
   "metadata": {},
   "outputs": [
    {
     "data": {
      "text/html": [
       "<div>\n",
       "<style scoped>\n",
       "    .dataframe tbody tr th:only-of-type {\n",
       "        vertical-align: middle;\n",
       "    }\n",
       "\n",
       "    .dataframe tbody tr th {\n",
       "        vertical-align: top;\n",
       "    }\n",
       "\n",
       "    .dataframe thead th {\n",
       "        text-align: right;\n",
       "    }\n",
       "</style>\n",
       "<table border=\"1\" class=\"dataframe\">\n",
       "  <thead>\n",
       "    <tr style=\"text-align: right;\">\n",
       "      <th></th>\n",
       "      <th>Date</th>\n",
       "      <th>News</th>\n",
       "      <th>Open</th>\n",
       "      <th>High</th>\n",
       "      <th>Low</th>\n",
       "      <th>Close</th>\n",
       "      <th>Volume</th>\n",
       "      <th>Label</th>\n",
       "    </tr>\n",
       "  </thead>\n",
       "  <tbody>\n",
       "    <tr>\n",
       "      <th>0</th>\n",
       "      <td>2019-01-02</td>\n",
       "      <td>The tech sector experienced a significant dec...</td>\n",
       "      <td>41.740002</td>\n",
       "      <td>42.244999</td>\n",
       "      <td>41.482498</td>\n",
       "      <td>40.246914</td>\n",
       "      <td>130672400</td>\n",
       "      <td>-1</td>\n",
       "    </tr>\n",
       "    <tr>\n",
       "      <th>1</th>\n",
       "      <td>2019-01-02</td>\n",
       "      <td>Apple lowered its fiscal Q1 revenue guidance ...</td>\n",
       "      <td>41.740002</td>\n",
       "      <td>42.244999</td>\n",
       "      <td>41.482498</td>\n",
       "      <td>40.246914</td>\n",
       "      <td>130672400</td>\n",
       "      <td>-1</td>\n",
       "    </tr>\n",
       "    <tr>\n",
       "      <th>2</th>\n",
       "      <td>2019-01-02</td>\n",
       "      <td>Apple cut its fiscal first quarter revenue fo...</td>\n",
       "      <td>41.740002</td>\n",
       "      <td>42.244999</td>\n",
       "      <td>41.482498</td>\n",
       "      <td>40.246914</td>\n",
       "      <td>130672400</td>\n",
       "      <td>-1</td>\n",
       "    </tr>\n",
       "    <tr>\n",
       "      <th>3</th>\n",
       "      <td>2019-01-02</td>\n",
       "      <td>This news article reports that yields on long...</td>\n",
       "      <td>41.740002</td>\n",
       "      <td>42.244999</td>\n",
       "      <td>41.482498</td>\n",
       "      <td>40.246914</td>\n",
       "      <td>130672400</td>\n",
       "      <td>-1</td>\n",
       "    </tr>\n",
       "    <tr>\n",
       "      <th>4</th>\n",
       "      <td>2019-01-02</td>\n",
       "      <td>Apple's revenue warning led to a decline in U...</td>\n",
       "      <td>41.740002</td>\n",
       "      <td>42.244999</td>\n",
       "      <td>41.482498</td>\n",
       "      <td>40.246914</td>\n",
       "      <td>130672400</td>\n",
       "      <td>-1</td>\n",
       "    </tr>\n",
       "  </tbody>\n",
       "</table>\n",
       "</div>"
      ],
      "text/plain": [
       "         Date                                               News       Open  \\\n",
       "0  2019-01-02   The tech sector experienced a significant dec...  41.740002   \n",
       "1  2019-01-02   Apple lowered its fiscal Q1 revenue guidance ...  41.740002   \n",
       "2  2019-01-02   Apple cut its fiscal first quarter revenue fo...  41.740002   \n",
       "3  2019-01-02   This news article reports that yields on long...  41.740002   \n",
       "4  2019-01-02   Apple's revenue warning led to a decline in U...  41.740002   \n",
       "\n",
       "        High        Low      Close     Volume  Label  \n",
       "0  42.244999  41.482498  40.246914  130672400     -1  \n",
       "1  42.244999  41.482498  40.246914  130672400     -1  \n",
       "2  42.244999  41.482498  40.246914  130672400     -1  \n",
       "3  42.244999  41.482498  40.246914  130672400     -1  \n",
       "4  42.244999  41.482498  40.246914  130672400     -1  "
      ]
     },
     "execution_count": 95,
     "metadata": {},
     "output_type": "execute_result"
    }
   ],
   "source": [
    "stocknews_df.head()"
   ]
  },
  {
   "cell_type": "code",
   "execution_count": 96,
   "id": "41dde935",
   "metadata": {},
   "outputs": [
    {
     "name": "stdout",
     "output_type": "stream",
     "text": [
      "<class 'pandas.core.frame.DataFrame'>\n",
      "RangeIndex: 349 entries, 0 to 348\n",
      "Data columns (total 8 columns):\n",
      " #   Column  Non-Null Count  Dtype  \n",
      "---  ------  --------------  -----  \n",
      " 0   Date    349 non-null    object \n",
      " 1   News    349 non-null    object \n",
      " 2   Open    349 non-null    float64\n",
      " 3   High    349 non-null    float64\n",
      " 4   Low     349 non-null    float64\n",
      " 5   Close   349 non-null    float64\n",
      " 6   Volume  349 non-null    int64  \n",
      " 7   Label   349 non-null    int64  \n",
      "dtypes: float64(4), int64(2), object(2)\n",
      "memory usage: 21.9+ KB\n"
     ]
    }
   ],
   "source": [
    "stocknews_df.info()"
   ]
  },
  {
   "cell_type": "markdown",
   "id": "1c0980aa",
   "metadata": {},
   "source": [
    "**Observations:**\n",
    "* There are 2 object datatypes.\n",
    "* There are 4 float64 datatypes.\n",
    "* There are 2 int64 datatypes."
   ]
  },
  {
   "cell_type": "code",
   "execution_count": 97,
   "id": "c9158e23",
   "metadata": {},
   "outputs": [
    {
     "data": {
      "text/plain": [
       "Date      0\n",
       "News      0\n",
       "Open      0\n",
       "High      0\n",
       "Low       0\n",
       "Close     0\n",
       "Volume    0\n",
       "Label     0\n",
       "dtype: int64"
      ]
     },
     "execution_count": 97,
     "metadata": {},
     "output_type": "execute_result"
    }
   ],
   "source": [
    "stocknews_df.isnull().sum()"
   ]
  },
  {
   "cell_type": "markdown",
   "id": "940994a2",
   "metadata": {},
   "source": [
    "**Observations:**\n",
    "* There are no nulls values."
   ]
  },
  {
   "cell_type": "code",
   "execution_count": 98,
   "id": "3849b880",
   "metadata": {},
   "outputs": [
    {
     "data": {
      "text/html": [
       "<div>\n",
       "<style scoped>\n",
       "    .dataframe tbody tr th:only-of-type {\n",
       "        vertical-align: middle;\n",
       "    }\n",
       "\n",
       "    .dataframe tbody tr th {\n",
       "        vertical-align: top;\n",
       "    }\n",
       "\n",
       "    .dataframe thead th {\n",
       "        text-align: right;\n",
       "    }\n",
       "</style>\n",
       "<table border=\"1\" class=\"dataframe\">\n",
       "  <thead>\n",
       "    <tr style=\"text-align: right;\">\n",
       "      <th></th>\n",
       "      <th>count</th>\n",
       "      <th>mean</th>\n",
       "      <th>std</th>\n",
       "      <th>min</th>\n",
       "      <th>25%</th>\n",
       "      <th>50%</th>\n",
       "      <th>75%</th>\n",
       "      <th>max</th>\n",
       "    </tr>\n",
       "  </thead>\n",
       "  <tbody>\n",
       "    <tr>\n",
       "      <th>Open</th>\n",
       "      <td>349.0</td>\n",
       "      <td>4.622923e+01</td>\n",
       "      <td>6.442817e+00</td>\n",
       "      <td>3.756750e+01</td>\n",
       "      <td>4.174000e+01</td>\n",
       "      <td>4.597500e+01</td>\n",
       "      <td>5.070750e+01</td>\n",
       "      <td>6.681750e+01</td>\n",
       "    </tr>\n",
       "    <tr>\n",
       "      <th>High</th>\n",
       "      <td>349.0</td>\n",
       "      <td>4.670046e+01</td>\n",
       "      <td>6.507321e+00</td>\n",
       "      <td>3.781750e+01</td>\n",
       "      <td>4.224500e+01</td>\n",
       "      <td>4.602500e+01</td>\n",
       "      <td>5.085000e+01</td>\n",
       "      <td>6.706250e+01</td>\n",
       "    </tr>\n",
       "    <tr>\n",
       "      <th>Low</th>\n",
       "      <td>349.0</td>\n",
       "      <td>4.574539e+01</td>\n",
       "      <td>6.391976e+00</td>\n",
       "      <td>3.730500e+01</td>\n",
       "      <td>4.148250e+01</td>\n",
       "      <td>4.564000e+01</td>\n",
       "      <td>4.977750e+01</td>\n",
       "      <td>6.586250e+01</td>\n",
       "    </tr>\n",
       "    <tr>\n",
       "      <th>Close</th>\n",
       "      <td>349.0</td>\n",
       "      <td>4.492632e+01</td>\n",
       "      <td>6.398338e+00</td>\n",
       "      <td>3.625413e+01</td>\n",
       "      <td>4.024691e+01</td>\n",
       "      <td>4.459692e+01</td>\n",
       "      <td>4.911079e+01</td>\n",
       "      <td>6.480523e+01</td>\n",
       "    </tr>\n",
       "    <tr>\n",
       "      <th>Volume</th>\n",
       "      <td>349.0</td>\n",
       "      <td>1.289482e+08</td>\n",
       "      <td>4.317031e+07</td>\n",
       "      <td>4.544800e+07</td>\n",
       "      <td>1.032720e+08</td>\n",
       "      <td>1.156272e+08</td>\n",
       "      <td>1.511252e+08</td>\n",
       "      <td>2.444392e+08</td>\n",
       "    </tr>\n",
       "    <tr>\n",
       "      <th>Label</th>\n",
       "      <td>349.0</td>\n",
       "      <td>-5.444126e-02</td>\n",
       "      <td>7.151192e-01</td>\n",
       "      <td>-1.000000e+00</td>\n",
       "      <td>-1.000000e+00</td>\n",
       "      <td>0.000000e+00</td>\n",
       "      <td>0.000000e+00</td>\n",
       "      <td>1.000000e+00</td>\n",
       "    </tr>\n",
       "  </tbody>\n",
       "</table>\n",
       "</div>"
      ],
      "text/plain": [
       "        count          mean           std           min           25%  \\\n",
       "Open    349.0  4.622923e+01  6.442817e+00  3.756750e+01  4.174000e+01   \n",
       "High    349.0  4.670046e+01  6.507321e+00  3.781750e+01  4.224500e+01   \n",
       "Low     349.0  4.574539e+01  6.391976e+00  3.730500e+01  4.148250e+01   \n",
       "Close   349.0  4.492632e+01  6.398338e+00  3.625413e+01  4.024691e+01   \n",
       "Volume  349.0  1.289482e+08  4.317031e+07  4.544800e+07  1.032720e+08   \n",
       "Label   349.0 -5.444126e-02  7.151192e-01 -1.000000e+00 -1.000000e+00   \n",
       "\n",
       "                 50%           75%           max  \n",
       "Open    4.597500e+01  5.070750e+01  6.681750e+01  \n",
       "High    4.602500e+01  5.085000e+01  6.706250e+01  \n",
       "Low     4.564000e+01  4.977750e+01  6.586250e+01  \n",
       "Close   4.459692e+01  4.911079e+01  6.480523e+01  \n",
       "Volume  1.156272e+08  1.511252e+08  2.444392e+08  \n",
       "Label   0.000000e+00  0.000000e+00  1.000000e+00  "
      ]
     },
     "execution_count": 98,
     "metadata": {},
     "output_type": "execute_result"
    }
   ],
   "source": [
    "stocknews_df.describe().T"
   ]
  },
  {
   "cell_type": "code",
   "execution_count": 99,
   "id": "d8d8b725",
   "metadata": {},
   "outputs": [
    {
     "data": {
      "text/plain": [
       "['Date', 'News', 'Open', 'High', 'Low', 'Close', 'Volume', 'Label']"
      ]
     },
     "execution_count": 99,
     "metadata": {},
     "output_type": "execute_result"
    }
   ],
   "source": [
    "stocknews_df.columns.tolist()"
   ]
  },
  {
   "cell_type": "code",
   "execution_count": 100,
   "id": "ee4d2de4",
   "metadata": {},
   "outputs": [
    {
     "data": {
      "text/plain": [
       "Date       71\n",
       "News      349\n",
       "Open       70\n",
       "High       70\n",
       "Low        71\n",
       "Close      71\n",
       "Volume     71\n",
       "Label       3\n",
       "dtype: int64"
      ]
     },
     "execution_count": 100,
     "metadata": {},
     "output_type": "execute_result"
    }
   ],
   "source": [
    "stocknews_df.nunique()"
   ]
  },
  {
   "cell_type": "code",
   "execution_count": 101,
   "id": "e1719234",
   "metadata": {},
   "outputs": [
    {
     "data": {
      "text/plain": [
       "0"
      ]
     },
     "execution_count": 101,
     "metadata": {},
     "output_type": "execute_result"
    }
   ],
   "source": [
    "stocknews_df.duplicated().sum()"
   ]
  },
  {
   "cell_type": "markdown",
   "id": "965ae666",
   "metadata": {},
   "source": [
    "**Observations:**\n",
    "* There are no duplicate values."
   ]
  },
  {
   "cell_type": "code",
   "execution_count": 102,
   "id": "f262c51b",
   "metadata": {},
   "outputs": [
    {
     "name": "stdout",
     "output_type": "stream",
     "text": [
      "<class 'pandas.core.series.Series'>\n",
      "RangeIndex: 349 entries, 0 to 348\n",
      "Series name: Date\n",
      "Non-Null Count  Dtype \n",
      "--------------  ----- \n",
      "349 non-null    object\n",
      "dtypes: object(1)\n",
      "memory usage: 2.9+ KB\n"
     ]
    }
   ],
   "source": [
    "stocknews_df.Date.info()"
   ]
  },
  {
   "cell_type": "code",
   "execution_count": 103,
   "id": "8fc0484d",
   "metadata": {},
   "outputs": [
    {
     "data": {
      "text/plain": [
       "2019    349\n",
       "Name: Date, dtype: int64"
      ]
     },
     "execution_count": 103,
     "metadata": {},
     "output_type": "execute_result"
    }
   ],
   "source": [
    "stocknews_df[\"Date\"] = pd.to_datetime(stocknews_df[\"Date\"])\n",
    "stocknews_df[\"Date\"].dt.year.value_counts()"
   ]
  },
  {
   "cell_type": "markdown",
   "id": "555b6561",
   "metadata": {},
   "source": [
    "**Observations:**\n",
    "* Date column is of object and needs to be converted to date/time.\n",
    "* There are 349 entries."
   ]
  },
  {
   "cell_type": "markdown",
   "id": "hGHBK8-QeKOB",
   "metadata": {
    "id": "hGHBK8-QeKOB"
   },
   "source": [
    "---\n",
    "---\n",
    "# **Exploratory Data Analysis**"
   ]
  },
  {
   "cell_type": "markdown",
   "id": "Q0UlMQnyegl7",
   "metadata": {
    "id": "Q0UlMQnyegl7"
   },
   "source": [
    "## Univariate Analysis"
   ]
  },
  {
   "cell_type": "markdown",
   "id": "9GVt_AAbe29X",
   "metadata": {
    "id": "9GVt_AAbe29X"
   },
   "source": [
    "* Distribution of individual variables\n",
    "* Compute and check the distribution of the length of news content"
   ]
  },
  {
   "cell_type": "code",
   "execution_count": 112,
   "id": "d25d4137",
   "metadata": {},
   "outputs": [
    {
     "data": {
      "image/png": "[encoded data removed]",
      "text/plain": [
       "<Figure size 800x600 with 1 Axes>"
      ]
     },
     "metadata": {},
     "output_type": "display_data"
    }
   ],
   "source": [
    "# Define the dataframes for each sentiment\n",
    "stocknews_df = stocknews_df_org.copy()\n",
    "stocknews_df = pd.DataFrame(stocknews_df)\n",
    "\n",
    "# Create a mapping for the sentiment labels\n",
    "sentiment_mapping = {0: 'Neutral', 1: 'Positive', -1: 'Negative'}\n",
    "\n",
    "# Map the sentiment labels to the DataFrame\n",
    "stocknews_df['Label'] = stocknews_df['Label'].map(sentiment_mapping)\n",
    "\n",
    "# Define a custom color palette\n",
    "custom_palette = {'Neutral': 'yellow', 'Positive': 'green', 'Negative': 'red'}\n",
    "\n",
    "# Create the countplot with custom labels and colors\n",
    "plt.figure(figsize=(8, 6))\n",
    "ax = sns.countplot(data=stocknews_df, x=\"Label\", order=['Neutral', 'Positive', 'Negative'], palette=custom_palette)\n",
    "\n",
    "# Add percentage values to the countplot\n",
    "total = len(stocknews_df)\n",
    "for p in ax.patches:\n",
    "    percentage = '{:.1f}%'.format(100 * p.get_height() / total)\n",
    "    x = p.get_x() + p.get_width() / 2 - 0.05\n",
    "    y = p.get_height()\n",
    "    ax.annotate(percentage, (x, y), ha='center', va='bottom')\n",
    "\n",
    "# Rotate the x-axis labels by 45 degrees\n",
    "plt.xticks(rotation=45)\n",
    "\n",
    "# Set plot labels and title\n",
    "ax.set_xlabel('Sentiment')\n",
    "ax.set_ylabel('Percentage')\n",
    "ax.set_title('Sentiment Distribution with Percentages')\n",
    "\n",
    "# Show the plot\n",
    "plt.show()"
   ]
  },
  {
   "cell_type": "markdown",
   "id": "e2481273",
   "metadata": {},
   "source": [
    "**Observations**\n",
    "* 49% Neutral (0)\n",
    "* 23% Positive (1)\n",
    "* 28% Negative (-1)"
   ]
  },
  {
   "cell_type": "code",
   "execution_count": 117,
   "id": "7109af0f",
   "metadata": {},
   "outputs": [
    {
     "data": {
      "text/plain": [
       "<seaborn.axisgrid.FacetGrid at 0x32d2c7590>"
      ]
     },
     "execution_count": 117,
     "metadata": {},
     "output_type": "execute_result"
    },
    {
     "data": {
      "image/png": "[encoded data removed]",
      "text/plain": [
       "<Figure size 587.75x500 with 1 Axes>"
      ]
     },
     "metadata": {},
     "output_type": "display_data"
    }
   ],
   "source": [
    "sns.displot(data=stocknews_df[['High','Low','Close','Open']], kind=\"kde\", palette=\"tab10\")"
   ]
  },
  {
   "cell_type": "markdown",
   "id": "6ba10ffb",
   "metadata": {},
   "source": [
    "**Observations**\n",
    "* df\n",
    "* df\n",
    "* df"
   ]
  },
  {
   "cell_type": "code",
   "execution_count": 118,
   "id": "2368814a",
   "metadata": {},
   "outputs": [
    {
     "data": {
      "text/plain": [
       "<Axes: xlabel='Volume', ylabel='Count'>"
      ]
     },
     "execution_count": 118,
     "metadata": {},
     "output_type": "execute_result"
    },
    {
     "data": {
      "image/png": "[encoded data removed]",
      "text/plain": [
       "<Figure size 640x480 with 1 Axes>"
      ]
     },
     "metadata": {},
     "output_type": "display_data"
    }
   ],
   "source": [
    "sns.histplot(stocknews_df, x='Volume', bins=30, kde=True, color='blue')"
   ]
  },
  {
   "cell_type": "markdown",
   "id": "1ccb8334",
   "metadata": {},
   "source": [
    "**Observations**\n",
    "* df\n",
    "* df\n",
    "* df"
   ]
  },
  {
   "cell_type": "code",
   "execution_count": null,
   "id": "b380443f",
   "metadata": {},
   "outputs": [
    {
     "data": {
      "text/plain": [
       "count    349.000000\n",
       "mean      49.312321\n",
       "std        5.727770\n",
       "min       19.000000\n",
       "25%       46.000000\n",
       "50%       50.000000\n",
       "75%       53.000000\n",
       "max       61.000000\n",
       "Name: news_len, dtype: float64"
      ]
     },
     "execution_count": 119,
     "metadata": {},
     "output_type": "execute_result"
    }
   ],
   "source": [
    "# Calculating the total number of words present in the news content.\n",
    "stocknews_df['news_len'] = stocknews_df['News'].apply(lambda x: len(x.split(' ')))\n",
    "\n",
    "# Displaying the statistics of the news length.\n",
    "stocknews_df['news_len'].describe().T"
   ]
  },
  {
   "cell_type": "markdown",
   "id": "50a174a6",
   "metadata": {},
   "source": [
    "**Observations**\n",
    "* The dataset contains 349 news articles.\n",
    "* The average length of the news articles is approximately 49.31 words.\n",
    "* The lengths of the news articles vary, with a standard deviation of approximately 5.73 words.\n",
    "* The shortest news article contains 19 words, while the longest contains 61 words.\n",
    "* The median length of the news articles is 50 words, indicating that half of the articles have 50 words or fewer.\n",
    "* The 25th and 75th percentiles are 46 and 53 words, respectively, indicating the range within which the middle 50% of the news article lengths fall."
   ]
  },
  {
   "cell_type": "code",
   "execution_count": null,
   "id": "6c1bb6f8",
   "metadata": {},
   "outputs": [
    {
     "data": {
      "image/png": "[encoded data removed]",
      "text/plain": [
       "<Figure size 640x480 with 1 Axes>"
      ]
     },
     "metadata": {},
     "output_type": "display_data"
    }
   ],
   "source": [
    "# Histogram of news_len column\n",
    "sns.histplot(data=stocknews_df,x=\"news_len\",kde=True,bins=30,color='blue',); "
   ]
  },
  {
   "cell_type": "markdown",
   "id": "6d23620b",
   "metadata": {},
   "source": [
    "**Observations**\n",
    "* Length of news articles is left skewed."
   ]
  },
  {
   "cell_type": "markdown",
   "id": "hLE0s7OFKilB",
   "metadata": {
    "id": "hLE0s7OFKilB"
   },
   "source": [
    "---\n",
    "## Bivariate Analysis"
   ]
  },
  {
   "cell_type": "markdown",
   "id": "Yn_9wfzxL-r1",
   "metadata": {
    "id": "Yn_9wfzxL-r1"
   },
   "source": [
    "* Correlation\n",
    "* Sentiment Polarity vs Price\n",
    "* Date vs Price"
   ]
  },
  {
   "cell_type": "markdown",
   "metadata": {},
   "source": [
    "#### Correlation"
   ]
  },
  {
   "cell_type": "code",
   "execution_count": null,
   "id": "26f0a8f5",
   "metadata": {},
   "outputs": [
    {
     "data": {
      "image/png": "[encoded data removed]",
      "text/plain": [
       "<Figure size 1000x800 with 2 Axes>"
      ]
     },
     "metadata": {},
     "output_type": "display_data"
    }
   ],
   "source": [
    "# Select only the numeric columns from the stocknews_df DataFrame\n",
    "numeric_columns = stocknews_df.select_dtypes(include='number')\n",
    "\n",
    "# Plot the correlation matrix fir the numeric columns\n",
    "plt.figure(figsize=(10, 8))\n",
    "sns.heatmap(\n",
    "    numeric_columns.corr(), annot=True, vmin=-1, vmax=1, fmt=\".2f\", cmap=\"Spectral\"\n",
    ")\n",
    "\n",
    "# Set plot labels and title\n",
    "plt.title('Correlation Matrix for Numeric Columns')\n",
    "plt.show()"
   ]
  },
  {
   "cell_type": "markdown",
   "id": "5fa710da",
   "metadata": {},
   "source": [
    "**Observations**\n",
    "* df\n",
    "* df\n",
    "* df"
   ]
  },
  {
   "cell_type": "markdown",
   "id": "27bf7151",
   "metadata": {},
   "source": [
    "#### Label vs Price (Open, High, Low, Close)"
   ]
  },
  {
   "cell_type": "code",
   "execution_count": 125,
   "id": "9206f5c7",
   "metadata": {},
   "outputs": [
    {
     "data": {
      "image/png": "[encoded data removed]",
      "text/plain": [
       "<Figure size 1000x800 with 4 Axes>"
      ]
     },
     "metadata": {},
     "output_type": "display_data"
    }
   ],
   "source": [
    "plt.figure(figsize=(10, 8))\n",
    "\n",
    "for i, variable in enumerate(['Open', 'High', 'Low', 'Close']):\n",
    "    plt.subplot(2, 2, i + 1)\n",
    "    sns.boxplot(data=stocknews_df, x=\"Label\", y=variable)\n",
    "    plt.tight_layout(pad=2)\n",
    "\n",
    "plt.show()"
   ]
  },
  {
   "cell_type": "markdown",
   "id": "173bfa2b",
   "metadata": {},
   "source": [
    "#### Label vs Volume"
   ]
  },
  {
   "cell_type": "code",
   "execution_count": null,
   "id": "4e2a5211",
   "metadata": {},
   "outputs": [
    {
     "data": {
      "image/png": "[encoded data removed]",
      "text/plain": [
       "<Figure size 640x480 with 1 Axes>"
      ]
     },
     "metadata": {},
     "output_type": "display_data"
    }
   ],
   "source": [
    "# Boxplot of Label vs Volume\n",
    "sns.boxplot(\n",
    "    data=stocknews_df, x=\"Label\", y=\"Volume\"  \n",
    ")"
   ]
  },
  {
   "cell_type": "markdown",
   "id": "aade2c9d",
   "metadata": {},
   "source": [
    "**Observations**\n",
    "* df\n",
    "* df\n",
    "* df"
   ]
  },
  {
   "cell_type": "markdown",
   "id": "59434a42",
   "metadata": {},
   "source": [
    "#### Date vs Price (Open, High, Low, Close)"
   ]
  },
  {
   "cell_type": "code",
   "execution_count": 127,
   "id": "a2daa8ff",
   "metadata": {},
   "outputs": [
    {
     "data": {
      "text/html": [
       "<div>\n",
       "<style scoped>\n",
       "    .dataframe tbody tr th:only-of-type {\n",
       "        vertical-align: middle;\n",
       "    }\n",
       "\n",
       "    .dataframe tbody tr th {\n",
       "        vertical-align: top;\n",
       "    }\n",
       "\n",
       "    .dataframe thead th {\n",
       "        text-align: right;\n",
       "    }\n",
       "</style>\n",
       "<table border=\"1\" class=\"dataframe\">\n",
       "  <thead>\n",
       "    <tr style=\"text-align: right;\">\n",
       "      <th></th>\n",
       "      <th>Open</th>\n",
       "      <th>High</th>\n",
       "      <th>Low</th>\n",
       "      <th>Close</th>\n",
       "      <th>Volume</th>\n",
       "    </tr>\n",
       "    <tr>\n",
       "      <th>Date</th>\n",
       "      <th></th>\n",
       "      <th></th>\n",
       "      <th></th>\n",
       "      <th></th>\n",
       "      <th></th>\n",
       "    </tr>\n",
       "  </thead>\n",
       "  <tbody>\n",
       "    <tr>\n",
       "      <th>2019-01-02</th>\n",
       "      <td>41.740002</td>\n",
       "      <td>42.244999</td>\n",
       "      <td>41.482498</td>\n",
       "      <td>40.246914</td>\n",
       "      <td>130672400.0</td>\n",
       "    </tr>\n",
       "    <tr>\n",
       "      <th>2019-01-03</th>\n",
       "      <td>43.570000</td>\n",
       "      <td>43.787498</td>\n",
       "      <td>43.222500</td>\n",
       "      <td>42.470604</td>\n",
       "      <td>103544800.0</td>\n",
       "    </tr>\n",
       "    <tr>\n",
       "      <th>2019-01-04</th>\n",
       "      <td>47.910000</td>\n",
       "      <td>47.919998</td>\n",
       "      <td>47.095001</td>\n",
       "      <td>46.419842</td>\n",
       "      <td>111448000.0</td>\n",
       "    </tr>\n",
       "    <tr>\n",
       "      <th>2019-01-07</th>\n",
       "      <td>50.792500</td>\n",
       "      <td>51.122501</td>\n",
       "      <td>50.162498</td>\n",
       "      <td>49.110790</td>\n",
       "      <td>109012000.0</td>\n",
       "    </tr>\n",
       "    <tr>\n",
       "      <th>2019-01-08</th>\n",
       "      <td>53.474998</td>\n",
       "      <td>54.507500</td>\n",
       "      <td>51.685001</td>\n",
       "      <td>50.787209</td>\n",
       "      <td>216071600.0</td>\n",
       "    </tr>\n",
       "  </tbody>\n",
       "</table>\n",
       "</div>"
      ],
      "text/plain": [
       "                 Open       High        Low      Close       Volume\n",
       "Date                                                               \n",
       "2019-01-02  41.740002  42.244999  41.482498  40.246914  130672400.0\n",
       "2019-01-03  43.570000  43.787498  43.222500  42.470604  103544800.0\n",
       "2019-01-04  47.910000  47.919998  47.095001  46.419842  111448000.0\n",
       "2019-01-07  50.792500  51.122501  50.162498  49.110790  109012000.0\n",
       "2019-01-08  53.474998  54.507500  51.685001  50.787209  216071600.0"
      ]
     },
     "execution_count": 127,
     "metadata": {},
     "output_type": "execute_result"
    }
   ],
   "source": [
    "stock_daily = stocknews_df.groupby('Date').agg(\n",
    "    {\n",
    "        'Open': 'mean',\n",
    "        'High': 'mean',\n",
    "        'Low': 'mean',\n",
    "        'Close': 'mean',\n",
    "        'Volume': 'mean',\n",
    "    }\n",
    ").reset_index()  # Group the 'stocks' DataFrame by the 'Date' column\n",
    "\n",
    "stock_daily.set_index('Date', inplace=True)\n",
    "stock_daily.head()"
   ]
  },
  {
   "cell_type": "code",
   "execution_count": 128,
   "id": "929ee794",
   "metadata": {},
   "outputs": [
    {
     "data": {
      "image/png": "[encoded data removed]",
      "text/plain": [
       "<Figure size 1500x500 with 1 Axes>"
      ]
     },
     "metadata": {},
     "output_type": "display_data"
    }
   ],
   "source": [
    "# Lineplot of all the variables except Volume\n",
    "plt.figure(figsize=(15,5))\n",
    "sns.lineplot(stock_daily.drop(\"Volume\", axis=1)); "
   ]
  },
  {
   "cell_type": "markdown",
   "id": "f47864a8",
   "metadata": {},
   "source": [
    "**Observations**\n",
    "* df\n",
    "* df\n",
    "* df"
   ]
  },
  {
   "cell_type": "markdown",
   "id": "4632d8fa",
   "metadata": {},
   "source": [
    "#### Volume vs Close Price"
   ]
  },
  {
   "cell_type": "code",
   "execution_count": 129,
   "id": "4691b515",
   "metadata": {},
   "outputs": [
    {
     "data": {
      "image/png": "[encoded data removed]",
      "text/plain": [
       "<Figure size 1500x500 with 2 Axes>"
      ]
     },
     "metadata": {},
     "output_type": "display_data"
    }
   ],
   "source": [
    "# Create a figure and axis\n",
    "fig, ax1 = plt.subplots(figsize=(15,5))\n",
    "\n",
    "# Lineplot on primary y-axis\n",
    "sns.lineplot(data=stock_daily.reset_index(), x='Date', y='Close', ax=ax1, color='blue', marker='o', label='Close Price')\n",
    "\n",
    "# Create a secondary y-axis\n",
    "ax2 = ax1.twinx()\n",
    "\n",
    "# Lineplot on secondary y-axis\n",
    "sns.lineplot(data=stock_daily.reset_index(), x='Date', y='Volume', ax=ax2, color='gray', marker='o', label='Volume')\n",
    "\n",
    "ax1.legend(bbox_to_anchor=(1,1));"
   ]
  },
  {
   "cell_type": "markdown",
   "id": "6150b13c",
   "metadata": {},
   "source": [
    "**Observations**\n",
    "* df\n",
    "* df\n",
    "* df"
   ]
  },
  {
   "cell_type": "markdown",
   "id": "N8z4-vOBmwqv",
   "metadata": {
    "id": "N8z4-vOBmwqv"
   },
   "source": [
    "---\n",
    "---\n",
    "# **Data Preprocessing**"
   ]
  },
  {
   "cell_type": "markdown",
   "id": "ac4974c3",
   "metadata": {},
   "source": [
    "### Statistical Summary"
   ]
  },
  {
   "cell_type": "code",
   "execution_count": 133,
   "id": "3nutDrxdzDee",
   "metadata": {
    "id": "3nutDrxdzDee"
   },
   "outputs": [
    {
     "data": {
      "text/plain": [
       "count            349\n",
       "unique            71\n",
       "top       2019-01-03\n",
       "freq              28\n",
       "Name: Date, dtype: object"
      ]
     },
     "execution_count": 133,
     "metadata": {},
     "output_type": "execute_result"
    }
   ],
   "source": [
    "# Statistical summary of the 'Date' column\n",
    "stocknews_df[\"Date\"].describe()"
   ]
  },
  {
   "cell_type": "code",
   "execution_count": 134,
   "id": "d5185204",
   "metadata": {},
   "outputs": [
    {
     "name": "stdout",
     "output_type": "stream",
     "text": [
      "Year Summary:\n",
      "count     349.0\n",
      "mean     2019.0\n",
      "std         0.0\n",
      "min      2019.0\n",
      "25%      2019.0\n",
      "50%      2019.0\n",
      "75%      2019.0\n",
      "max      2019.0\n",
      "Name: Year, dtype: float64\n",
      "\n",
      "Month Summary:\n",
      "count    349.000000\n",
      "mean       2.077364\n",
      "std        1.177997\n",
      "min        1.000000\n",
      "25%        1.000000\n",
      "50%        2.000000\n",
      "75%        3.000000\n",
      "max        4.000000\n",
      "Name: Month, dtype: float64\n",
      "\n",
      "Day Summary:\n",
      "count    349.000000\n",
      "mean      15.389685\n",
      "std        9.351840\n",
      "min        1.000000\n",
      "25%        6.000000\n",
      "50%       15.000000\n",
      "75%       24.000000\n",
      "max       31.000000\n",
      "Name: Day, dtype: float64\n"
     ]
    }
   ],
   "source": [
    "# Ensure the 'Date' column is in datetime format\n",
    "stocknews_df['Date'] = pd.to_datetime(stocknews_df['Date'])\n",
    "\n",
    "# Extract relevant date components for summarization\n",
    "stocknews_df['Year'] = stocknews_df['Date'].dt.year\n",
    "stocknews_df['Month'] = stocknews_df['Date'].dt.month\n",
    "stocknews_df['Day'] = stocknews_df['Date'].dt.day\n",
    "\n",
    "# Print the statistical summary of the 'Date' column components\n",
    "print(\"Year Summary:\")\n",
    "print(stocknews_df['Year'].describe())\n",
    "print(\"\\nMonth Summary:\")\n",
    "print(stocknews_df['Month'].describe())\n",
    "print(\"\\nDay Summary:\")\n",
    "print(stocknews_df['Day'].describe())"
   ]
  },
  {
   "cell_type": "markdown",
   "id": "f268cc07",
   "metadata": {},
   "source": [
    "**Observations**\n",
    "* All entries in the dataset are from the year 2019.\n",
    "* The entries are concentrated in the first four months of the year, with a significant number of entries from January and February.\n",
    "* The entries are spread throughout the days of the month, with a relatively even distribution."
   ]
  },
  {
   "cell_type": "markdown",
   "id": "246a17b4",
   "metadata": {},
   "source": [
    "### Train-test-validation Split"
   ]
  },
  {
   "cell_type": "code",
   "execution_count": 135,
   "id": "bb143786",
   "metadata": {},
   "outputs": [],
   "source": [
    "# Select all rows where the 'Date' is before '2019-04-01'\n",
    "X_train = stocknews_df[(stocknews_df['Date'] < '2019-04-01')].reset_index()\n",
    "\n",
    "# Select all rows where the 'Date' is from '2019-04-01 to '2019-04-16' (excluded)\n",
    "X_val = stocknews_df[(stocknews_df['Date'] >= '2019-04-01') & (stocknews_df['Date'] < '2019-04-16')].reset_index()\n",
    "\n",
    "# Select all rows where the 'Date' is from '2019-04-16' till the end.\n",
    "X_test = stocknews_df[stocknews_df['Date'] >= '2019-04-16'].reset_index()    "
   ]
  },
  {
   "cell_type": "code",
   "execution_count": 136,
   "id": "3a779b17",
   "metadata": {},
   "outputs": [],
   "source": [
    "# Set 'Label' column as the target variable\n",
    "y_train = X_train[\"Label\"].copy()\n",
    "y_val = X_val[\"Label\"].copy()\n",
    "y_test = X_test[\"Label\"].copy()"
   ]
  },
  {
   "cell_type": "code",
   "execution_count": 137,
   "id": "abeae4bd",
   "metadata": {},
   "outputs": [
    {
     "name": "stdout",
     "output_type": "stream",
     "text": [
      "Train data shape:  (286, 13)\n",
      "Validation data shape:  (21, 13)\n",
      "Test data shape  (42, 13)\n",
      "Train label shape:  (286,)\n",
      "Validation label shape:  (21,)\n",
      "Test label shape:  (42,)\n"
     ]
    }
   ],
   "source": [
    "# Complete the code to print the shape of X_train,X_val,X_test,y_train,y_val and y_test\n",
    "print(\"Train data shape: \",X_train.shape)\n",
    "print(\"Validation data shape: \",X_val.shape)\n",
    "print(\"Test data shape \",X_test.shape)\n",
    "\n",
    "print(\"Train label shape: \",y_train.shape)\n",
    "print(\"Validation label shape: \",y_val.shape)\n",
    "print(\"Test label shape: \",y_test.shape)"
   ]
  },
  {
   "cell_type": "code",
   "execution_count": 138,
   "id": "2734fddb",
   "metadata": {},
   "outputs": [
    {
     "data": {
      "text/html": [
       "<div>\n",
       "<style scoped>\n",
       "    .dataframe tbody tr th:only-of-type {\n",
       "        vertical-align: middle;\n",
       "    }\n",
       "\n",
       "    .dataframe tbody tr th {\n",
       "        vertical-align: top;\n",
       "    }\n",
       "\n",
       "    .dataframe thead th {\n",
       "        text-align: right;\n",
       "    }\n",
       "</style>\n",
       "<table border=\"1\" class=\"dataframe\">\n",
       "  <thead>\n",
       "    <tr style=\"text-align: right;\">\n",
       "      <th></th>\n",
       "      <th>index</th>\n",
       "      <th>Date</th>\n",
       "      <th>News</th>\n",
       "      <th>Open</th>\n",
       "      <th>High</th>\n",
       "      <th>Low</th>\n",
       "      <th>Close</th>\n",
       "      <th>Volume</th>\n",
       "      <th>Label</th>\n",
       "      <th>news_len</th>\n",
       "      <th>Year</th>\n",
       "      <th>Month</th>\n",
       "      <th>Day</th>\n",
       "    </tr>\n",
       "  </thead>\n",
       "  <tbody>\n",
       "    <tr>\n",
       "      <th>0</th>\n",
       "      <td>0</td>\n",
       "      <td>2019-01-02</td>\n",
       "      <td>The tech sector experienced a significant dec...</td>\n",
       "      <td>41.740002</td>\n",
       "      <td>42.244999</td>\n",
       "      <td>41.482498</td>\n",
       "      <td>40.246914</td>\n",
       "      <td>130672400</td>\n",
       "      <td>Negative</td>\n",
       "      <td>46</td>\n",
       "      <td>2019</td>\n",
       "      <td>1</td>\n",
       "      <td>2</td>\n",
       "    </tr>\n",
       "    <tr>\n",
       "      <th>1</th>\n",
       "      <td>1</td>\n",
       "      <td>2019-01-02</td>\n",
       "      <td>Apple lowered its fiscal Q1 revenue guidance ...</td>\n",
       "      <td>41.740002</td>\n",
       "      <td>42.244999</td>\n",
       "      <td>41.482498</td>\n",
       "      <td>40.246914</td>\n",
       "      <td>130672400</td>\n",
       "      <td>Negative</td>\n",
       "      <td>51</td>\n",
       "      <td>2019</td>\n",
       "      <td>1</td>\n",
       "      <td>2</td>\n",
       "    </tr>\n",
       "    <tr>\n",
       "      <th>2</th>\n",
       "      <td>2</td>\n",
       "      <td>2019-01-02</td>\n",
       "      <td>Apple cut its fiscal first quarter revenue fo...</td>\n",
       "      <td>41.740002</td>\n",
       "      <td>42.244999</td>\n",
       "      <td>41.482498</td>\n",
       "      <td>40.246914</td>\n",
       "      <td>130672400</td>\n",
       "      <td>Negative</td>\n",
       "      <td>49</td>\n",
       "      <td>2019</td>\n",
       "      <td>1</td>\n",
       "      <td>2</td>\n",
       "    </tr>\n",
       "    <tr>\n",
       "      <th>3</th>\n",
       "      <td>3</td>\n",
       "      <td>2019-01-02</td>\n",
       "      <td>This news article reports that yields on long...</td>\n",
       "      <td>41.740002</td>\n",
       "      <td>42.244999</td>\n",
       "      <td>41.482498</td>\n",
       "      <td>40.246914</td>\n",
       "      <td>130672400</td>\n",
       "      <td>Negative</td>\n",
       "      <td>51</td>\n",
       "      <td>2019</td>\n",
       "      <td>1</td>\n",
       "      <td>2</td>\n",
       "    </tr>\n",
       "    <tr>\n",
       "      <th>4</th>\n",
       "      <td>4</td>\n",
       "      <td>2019-01-02</td>\n",
       "      <td>Apple's revenue warning led to a decline in U...</td>\n",
       "      <td>41.740002</td>\n",
       "      <td>42.244999</td>\n",
       "      <td>41.482498</td>\n",
       "      <td>40.246914</td>\n",
       "      <td>130672400</td>\n",
       "      <td>Negative</td>\n",
       "      <td>50</td>\n",
       "      <td>2019</td>\n",
       "      <td>1</td>\n",
       "      <td>2</td>\n",
       "    </tr>\n",
       "  </tbody>\n",
       "</table>\n",
       "</div>"
      ],
      "text/plain": [
       "   index       Date                                               News  \\\n",
       "0      0 2019-01-02   The tech sector experienced a significant dec...   \n",
       "1      1 2019-01-02   Apple lowered its fiscal Q1 revenue guidance ...   \n",
       "2      2 2019-01-02   Apple cut its fiscal first quarter revenue fo...   \n",
       "3      3 2019-01-02   This news article reports that yields on long...   \n",
       "4      4 2019-01-02   Apple's revenue warning led to a decline in U...   \n",
       "\n",
       "        Open       High        Low      Close     Volume     Label  news_len  \\\n",
       "0  41.740002  42.244999  41.482498  40.246914  130672400  Negative        46   \n",
       "1  41.740002  42.244999  41.482498  40.246914  130672400  Negative        51   \n",
       "2  41.740002  42.244999  41.482498  40.246914  130672400  Negative        49   \n",
       "3  41.740002  42.244999  41.482498  40.246914  130672400  Negative        51   \n",
       "4  41.740002  42.244999  41.482498  40.246914  130672400  Negative        50   \n",
       "\n",
       "   Year  Month  Day  \n",
       "0  2019      1    2  \n",
       "1  2019      1    2  \n",
       "2  2019      1    2  \n",
       "3  2019      1    2  \n",
       "4  2019      1    2  "
      ]
     },
     "execution_count": 138,
     "metadata": {},
     "output_type": "execute_result"
    }
   ],
   "source": [
    "X_train.head()"
   ]
  },
  {
   "cell_type": "code",
   "execution_count": 141,
   "id": "c261068d",
   "metadata": {},
   "outputs": [
    {
     "data": {
      "text/html": [
       "<div>\n",
       "<style scoped>\n",
       "    .dataframe tbody tr th:only-of-type {\n",
       "        vertical-align: middle;\n",
       "    }\n",
       "\n",
       "    .dataframe tbody tr th {\n",
       "        vertical-align: top;\n",
       "    }\n",
       "\n",
       "    .dataframe thead th {\n",
       "        text-align: right;\n",
       "    }\n",
       "</style>\n",
       "<table border=\"1\" class=\"dataframe\">\n",
       "  <thead>\n",
       "    <tr style=\"text-align: right;\">\n",
       "      <th></th>\n",
       "      <th>index</th>\n",
       "      <th>Date</th>\n",
       "      <th>News</th>\n",
       "      <th>Open</th>\n",
       "      <th>High</th>\n",
       "      <th>Low</th>\n",
       "      <th>Close</th>\n",
       "      <th>Volume</th>\n",
       "      <th>Label</th>\n",
       "      <th>news_len</th>\n",
       "      <th>Year</th>\n",
       "      <th>Month</th>\n",
       "      <th>Day</th>\n",
       "    </tr>\n",
       "  </thead>\n",
       "  <tbody>\n",
       "    <tr>\n",
       "      <th>0</th>\n",
       "      <td>286</td>\n",
       "      <td>2019-04-02</td>\n",
       "      <td>Apple and other consumer brands, including LV...</td>\n",
       "      <td>41.852501</td>\n",
       "      <td>42.915001</td>\n",
       "      <td>41.8200</td>\n",
       "      <td>41.390125</td>\n",
       "      <td>125982000</td>\n",
       "      <td>Neutral</td>\n",
       "      <td>45</td>\n",
       "      <td>2019</td>\n",
       "      <td>4</td>\n",
       "      <td>2</td>\n",
       "    </tr>\n",
       "    <tr>\n",
       "      <th>1</th>\n",
       "      <td>287</td>\n",
       "      <td>2019-04-02</td>\n",
       "      <td>Swatch Group successfully defended its use of...</td>\n",
       "      <td>41.852501</td>\n",
       "      <td>42.915001</td>\n",
       "      <td>41.8200</td>\n",
       "      <td>41.390125</td>\n",
       "      <td>125982000</td>\n",
       "      <td>Neutral</td>\n",
       "      <td>47</td>\n",
       "      <td>2019</td>\n",
       "      <td>4</td>\n",
       "      <td>2</td>\n",
       "    </tr>\n",
       "    <tr>\n",
       "      <th>2</th>\n",
       "      <td>288</td>\n",
       "      <td>2019-04-02</td>\n",
       "      <td>In premarket trade Tuesday, Apple's NASDAQ AA...</td>\n",
       "      <td>41.852501</td>\n",
       "      <td>42.915001</td>\n",
       "      <td>41.8200</td>\n",
       "      <td>41.390125</td>\n",
       "      <td>125982000</td>\n",
       "      <td>Neutral</td>\n",
       "      <td>35</td>\n",
       "      <td>2019</td>\n",
       "      <td>4</td>\n",
       "      <td>2</td>\n",
       "    </tr>\n",
       "    <tr>\n",
       "      <th>3</th>\n",
       "      <td>289</td>\n",
       "      <td>2019-04-02</td>\n",
       "      <td>In US markets, futures for the Dow, S&amp;P 500, ...</td>\n",
       "      <td>41.852501</td>\n",
       "      <td>42.915001</td>\n",
       "      <td>41.8200</td>\n",
       "      <td>41.390125</td>\n",
       "      <td>125982000</td>\n",
       "      <td>Negative</td>\n",
       "      <td>47</td>\n",
       "      <td>2019</td>\n",
       "      <td>4</td>\n",
       "      <td>2</td>\n",
       "    </tr>\n",
       "    <tr>\n",
       "      <th>4</th>\n",
       "      <td>290</td>\n",
       "      <td>2019-04-03</td>\n",
       "      <td>Japan Display, a key Apple supplier, is set t...</td>\n",
       "      <td>43.922501</td>\n",
       "      <td>44.437500</td>\n",
       "      <td>43.4925</td>\n",
       "      <td>42.684212</td>\n",
       "      <td>109744800</td>\n",
       "      <td>Positive</td>\n",
       "      <td>56</td>\n",
       "      <td>2019</td>\n",
       "      <td>4</td>\n",
       "      <td>3</td>\n",
       "    </tr>\n",
       "  </tbody>\n",
       "</table>\n",
       "</div>"
      ],
      "text/plain": [
       "   index       Date                                               News  \\\n",
       "0    286 2019-04-02   Apple and other consumer brands, including LV...   \n",
       "1    287 2019-04-02   Swatch Group successfully defended its use of...   \n",
       "2    288 2019-04-02   In premarket trade Tuesday, Apple's NASDAQ AA...   \n",
       "3    289 2019-04-02   In US markets, futures for the Dow, S&P 500, ...   \n",
       "4    290 2019-04-03   Japan Display, a key Apple supplier, is set t...   \n",
       "\n",
       "        Open       High      Low      Close     Volume     Label  news_len  \\\n",
       "0  41.852501  42.915001  41.8200  41.390125  125982000   Neutral        45   \n",
       "1  41.852501  42.915001  41.8200  41.390125  125982000   Neutral        47   \n",
       "2  41.852501  42.915001  41.8200  41.390125  125982000   Neutral        35   \n",
       "3  41.852501  42.915001  41.8200  41.390125  125982000  Negative        47   \n",
       "4  43.922501  44.437500  43.4925  42.684212  109744800  Positive        56   \n",
       "\n",
       "   Year  Month  Day  \n",
       "0  2019      4    2  \n",
       "1  2019      4    2  \n",
       "2  2019      4    2  \n",
       "3  2019      4    2  \n",
       "4  2019      4    3  "
      ]
     },
     "execution_count": 141,
     "metadata": {},
     "output_type": "execute_result"
    }
   ],
   "source": [
    "X_val.head()"
   ]
  },
  {
   "cell_type": "code",
   "execution_count": 144,
   "id": "d5af2138",
   "metadata": {},
   "outputs": [
    {
     "data": {
      "text/html": [
       "<div>\n",
       "<style scoped>\n",
       "    .dataframe tbody tr th:only-of-type {\n",
       "        vertical-align: middle;\n",
       "    }\n",
       "\n",
       "    .dataframe tbody tr th {\n",
       "        vertical-align: top;\n",
       "    }\n",
       "\n",
       "    .dataframe thead th {\n",
       "        text-align: right;\n",
       "    }\n",
       "</style>\n",
       "<table border=\"1\" class=\"dataframe\">\n",
       "  <thead>\n",
       "    <tr style=\"text-align: right;\">\n",
       "      <th></th>\n",
       "      <th>index</th>\n",
       "      <th>Date</th>\n",
       "      <th>News</th>\n",
       "      <th>Open</th>\n",
       "      <th>High</th>\n",
       "      <th>Low</th>\n",
       "      <th>Close</th>\n",
       "      <th>Volume</th>\n",
       "      <th>Label</th>\n",
       "      <th>news_len</th>\n",
       "      <th>Year</th>\n",
       "      <th>Month</th>\n",
       "      <th>Day</th>\n",
       "    </tr>\n",
       "  </thead>\n",
       "  <tbody>\n",
       "    <tr>\n",
       "      <th>0</th>\n",
       "      <td>307</td>\n",
       "      <td>2019-04-16</td>\n",
       "      <td>In a complex trial in San Diego, Apple accuse...</td>\n",
       "      <td>49.865002</td>\n",
       "      <td>50.342499</td>\n",
       "      <td>49.639999</td>\n",
       "      <td>48.364113</td>\n",
       "      <td>102785600</td>\n",
       "      <td>Neutral</td>\n",
       "      <td>54</td>\n",
       "      <td>2019</td>\n",
       "      <td>4</td>\n",
       "      <td>16</td>\n",
       "    </tr>\n",
       "    <tr>\n",
       "      <th>1</th>\n",
       "      <td>308</td>\n",
       "      <td>2019-04-17</td>\n",
       "      <td>Taiwan business tycoon Terry Gou, chairman of...</td>\n",
       "      <td>49.884998</td>\n",
       "      <td>50.845001</td>\n",
       "      <td>49.652500</td>\n",
       "      <td>49.305897</td>\n",
       "      <td>115627200</td>\n",
       "      <td>Neutral</td>\n",
       "      <td>44</td>\n",
       "      <td>2019</td>\n",
       "      <td>4</td>\n",
       "      <td>17</td>\n",
       "    </tr>\n",
       "    <tr>\n",
       "      <th>2</th>\n",
       "      <td>309</td>\n",
       "      <td>2019-04-17</td>\n",
       "      <td>Chinese video-sharing app TikTok, owned by By...</td>\n",
       "      <td>49.884998</td>\n",
       "      <td>50.845001</td>\n",
       "      <td>49.652500</td>\n",
       "      <td>49.305897</td>\n",
       "      <td>115627200</td>\n",
       "      <td>Neutral</td>\n",
       "      <td>52</td>\n",
       "      <td>2019</td>\n",
       "      <td>4</td>\n",
       "      <td>17</td>\n",
       "    </tr>\n",
       "    <tr>\n",
       "      <th>3</th>\n",
       "      <td>310</td>\n",
       "      <td>2019-04-17</td>\n",
       "      <td>TomTom, a Dutch navigation and digital maps f...</td>\n",
       "      <td>49.884998</td>\n",
       "      <td>50.845001</td>\n",
       "      <td>49.652500</td>\n",
       "      <td>49.305897</td>\n",
       "      <td>115627200</td>\n",
       "      <td>Positive</td>\n",
       "      <td>48</td>\n",
       "      <td>2019</td>\n",
       "      <td>4</td>\n",
       "      <td>17</td>\n",
       "    </tr>\n",
       "    <tr>\n",
       "      <th>4</th>\n",
       "      <td>311</td>\n",
       "      <td>2019-04-17</td>\n",
       "      <td>In a volatile trading session, the S&amp;P 500 wa...</td>\n",
       "      <td>49.884998</td>\n",
       "      <td>50.845001</td>\n",
       "      <td>49.652500</td>\n",
       "      <td>49.305897</td>\n",
       "      <td>115627200</td>\n",
       "      <td>Positive</td>\n",
       "      <td>49</td>\n",
       "      <td>2019</td>\n",
       "      <td>4</td>\n",
       "      <td>17</td>\n",
       "    </tr>\n",
       "  </tbody>\n",
       "</table>\n",
       "</div>"
      ],
      "text/plain": [
       "   index       Date                                               News  \\\n",
       "0    307 2019-04-16   In a complex trial in San Diego, Apple accuse...   \n",
       "1    308 2019-04-17   Taiwan business tycoon Terry Gou, chairman of...   \n",
       "2    309 2019-04-17   Chinese video-sharing app TikTok, owned by By...   \n",
       "3    310 2019-04-17   TomTom, a Dutch navigation and digital maps f...   \n",
       "4    311 2019-04-17   In a volatile trading session, the S&P 500 wa...   \n",
       "\n",
       "        Open       High        Low      Close     Volume     Label  news_len  \\\n",
       "0  49.865002  50.342499  49.639999  48.364113  102785600   Neutral        54   \n",
       "1  49.884998  50.845001  49.652500  49.305897  115627200   Neutral        44   \n",
       "2  49.884998  50.845001  49.652500  49.305897  115627200   Neutral        52   \n",
       "3  49.884998  50.845001  49.652500  49.305897  115627200  Positive        48   \n",
       "4  49.884998  50.845001  49.652500  49.305897  115627200  Positive        49   \n",
       "\n",
       "   Year  Month  Day  \n",
       "0  2019      4   16  \n",
       "1  2019      4   17  \n",
       "2  2019      4   17  \n",
       "3  2019      4   17  \n",
       "4  2019      4   17  "
      ]
     },
     "execution_count": 144,
     "metadata": {},
     "output_type": "execute_result"
    }
   ],
   "source": [
    "X_test.head()"
   ]
  },
  {
   "cell_type": "code",
   "execution_count": 142,
   "id": "8bfa6387",
   "metadata": {},
   "outputs": [
    {
     "data": {
      "text/plain": [
       "0    Negative\n",
       "1    Negative\n",
       "2    Negative\n",
       "3    Negative\n",
       "4    Negative\n",
       "Name: Label, dtype: object"
      ]
     },
     "execution_count": 142,
     "metadata": {},
     "output_type": "execute_result"
    }
   ],
   "source": [
    "y_train.head()"
   ]
  },
  {
   "cell_type": "code",
   "execution_count": 143,
   "id": "5fc96d81",
   "metadata": {},
   "outputs": [
    {
     "data": {
      "text/plain": [
       "0     Neutral\n",
       "1     Neutral\n",
       "2     Neutral\n",
       "3    Negative\n",
       "4    Positive\n",
       "Name: Label, dtype: object"
      ]
     },
     "execution_count": 143,
     "metadata": {},
     "output_type": "execute_result"
    }
   ],
   "source": [
    "y_val.head()"
   ]
  },
  {
   "cell_type": "code",
   "execution_count": 145,
   "id": "bc6775bf",
   "metadata": {},
   "outputs": [
    {
     "data": {
      "text/plain": [
       "0     Neutral\n",
       "1     Neutral\n",
       "2     Neutral\n",
       "3    Positive\n",
       "4    Positive\n",
       "Name: Label, dtype: object"
      ]
     },
     "execution_count": 145,
     "metadata": {},
     "output_type": "execute_result"
    }
   ],
   "source": [
    "y_test.head()"
   ]
  },
  {
   "cell_type": "markdown",
   "id": "0rYgR14ORf7b",
   "metadata": {
    "id": "0rYgR14ORf7b"
   },
   "source": [
    "---\n",
    "---\n",
    "# **Word Embeddings**"
   ]
  },
  {
   "cell_type": "markdown",
   "id": "5bf06627",
   "metadata": {},
   "source": [
    "### Word2Vec"
   ]
  },
  {
   "cell_type": "code",
   "execution_count": 146,
   "id": "H1_lN_o0zKlW",
   "metadata": {
    "id": "H1_lN_o0zKlW"
   },
   "outputs": [],
   "source": [
    "# Creating a list of all words in our data\n",
    "words_list = [item.split(\" \") for item in stocknews_df['News'].values]"
   ]
  },
  {
   "cell_type": "code",
   "execution_count": 147,
   "id": "aa7984c9",
   "metadata": {},
   "outputs": [],
   "source": [
    "# Creating an instance of Word2Vec\n",
    "vec_size = 300\n",
    "model_W2V = Word2Vec(words_list, vector_size = vec_size, min_count = 1, window=5, workers = 6)"
   ]
  },
  {
   "cell_type": "code",
   "execution_count": 148,
   "id": "4ab3afbb",
   "metadata": {},
   "outputs": [
    {
     "name": "stdout",
     "output_type": "stream",
     "text": [
      "Length of the vocabulary is  4682\n"
     ]
    }
   ],
   "source": [
    "# Checking the size of the vocabulary\n",
    "print(\"Length of the vocabulary is \", len(list(model_W2V.wv.key_to_index)))"
   ]
  },
  {
   "cell_type": "markdown",
   "id": "272ebdb3",
   "metadata": {},
   "source": [
    "#### Review Embeddings"
   ]
  },
  {
   "cell_type": "code",
   "execution_count": 149,
   "id": "2b61b8ad",
   "metadata": {},
   "outputs": [
    {
     "data": {
      "text/plain": [
       "array([ 4.25637979e-03,  4.32400033e-02,  5.90966130e-03,  2.40118261e-02,\n",
       "       -4.38744435e-03, -5.01582660e-02,  3.53526510e-02,  8.41019228e-02,\n",
       "        1.02291098e-02, -1.47978747e-02,  1.19092893e-02, -2.23921277e-02,\n",
       "        1.37537159e-03,  1.21555543e-02, -2.90587805e-02, -2.47421265e-02,\n",
       "        2.16012467e-02, -1.20804515e-02, -1.61911652e-03, -1.43914334e-02,\n",
       "       -2.75034290e-02,  3.06759169e-03,  3.74496952e-02,  7.24408915e-03,\n",
       "        1.51062673e-02,  6.41491916e-03, -4.45894711e-02,  6.25761831e-03,\n",
       "       -1.88159905e-02, -3.58549692e-02,  1.41559495e-02, -2.14823410e-02,\n",
       "        3.08281812e-03, -2.71334685e-03, -5.15447371e-03,  1.64517574e-02,\n",
       "        1.64492261e-02, -3.78544554e-02,  1.70136127e-03, -1.04967076e-02,\n",
       "       -1.60861965e-02, -2.05701077e-03, -1.81840407e-03, -2.59166993e-02,\n",
       "        1.61275733e-02,  3.96334119e-02, -1.61035714e-04,  9.26865637e-03,\n",
       "       -2.12359428e-03,  2.71581039e-02,  1.99140403e-02,  5.42046083e-03,\n",
       "       -1.70222968e-02,  1.30987912e-02, -1.12347649e-02,  2.68507954e-02,\n",
       "        1.38448579e-02,  4.79311962e-03,  1.53729375e-02, -4.83638747e-03,\n",
       "       -6.82617305e-03, -1.71609446e-02,  5.87575429e-04,  1.11498339e-02,\n",
       "        4.98645520e-03,  1.48331933e-02,  1.16176659e-03,  1.41477827e-02,\n",
       "       -2.35574394e-02, -5.47322538e-03, -1.82350515e-03,  2.74587814e-02,\n",
       "        3.07766069e-02, -2.66248491e-02,  2.73990934e-03,  1.91461947e-02,\n",
       "       -2.27473564e-02, -2.50393059e-03, -1.10712321e-02,  1.27321882e-02,\n",
       "       -2.60799900e-02, -3.67370546e-02,  6.86691189e-03,  6.38126731e-02,\n",
       "        6.74051233e-03,  1.72963412e-03, -1.25491563e-02,  5.50963590e-03,\n",
       "        4.10175920e-02,  2.56149005e-02,  3.35698463e-02, -1.81705933e-02,\n",
       "        2.07294561e-02, -2.93235971e-05,  3.83400545e-02,  3.03841047e-02,\n",
       "        3.03118378e-02, -1.62646119e-02, -1.87647808e-02,  1.73443258e-02,\n",
       "        5.08312322e-03,  2.53742817e-03,  2.99913716e-02,  1.07860500e-02,\n",
       "       -1.48279569e-03, -2.65550911e-02, -1.56444944e-02,  1.03778997e-02,\n",
       "       -2.12923139e-02, -2.18517450e-03, -4.68192659e-02, -2.28503980e-02,\n",
       "        3.54121812e-03,  2.70481892e-02,  3.67029360e-03,  2.78543923e-02,\n",
       "       -8.31642174e-05, -8.76658596e-03,  5.31505868e-02, -5.21602966e-02,\n",
       "        1.98093504e-02,  2.14634445e-02,  2.23892909e-02, -5.32801822e-03,\n",
       "       -2.59516016e-02,  1.74174923e-02,  7.08995061e-03, -2.46991999e-02,\n",
       "        2.38303863e-03,  2.27076672e-02,  1.64852012e-02,  3.98648195e-02,\n",
       "        2.02946737e-02, -4.09046561e-02,  1.26996906e-02,  2.23768633e-02,\n",
       "       -5.99217974e-03, -2.46880744e-02, -3.59998792e-02, -4.51238863e-02,\n",
       "        1.68825611e-02, -4.53502834e-02, -7.15065002e-03,  1.93254016e-02,\n",
       "        1.80695541e-02, -1.96579061e-02, -5.15609160e-02, -1.09420456e-02,\n",
       "        2.07186658e-02, -3.03722303e-02,  7.08071049e-03, -5.52584194e-02,\n",
       "       -1.16934543e-02, -1.30751142e-02,  5.13900025e-03,  2.29013488e-02,\n",
       "       -3.85023281e-02, -2.52431761e-02, -1.33969095e-02,  4.33426388e-02,\n",
       "        4.83757490e-03,  2.72779260e-02, -4.52102199e-02,  4.12609838e-02,\n",
       "       -1.00638475e-02,  1.00792814e-02, -1.10311387e-02,  1.00793410e-03,\n",
       "        8.08577798e-03,  6.27700090e-02, -3.50253144e-03,  1.36494273e-02,\n",
       "        2.12240834e-02,  8.58807378e-03, -8.01245868e-03,  1.51830073e-03,\n",
       "       -2.29888155e-05, -3.44576128e-02,  1.35986665e-02, -1.52912699e-02,\n",
       "       -2.65550446e-02,  1.67153832e-02, -3.26767974e-02, -1.83365438e-02,\n",
       "       -1.88939255e-02, -1.01614203e-02,  5.14754206e-02,  5.02644330e-02,\n",
       "        1.25541547e-02, -3.49007510e-02,  8.33426416e-03, -9.45940893e-03,\n",
       "       -4.63918038e-02, -8.24069022e-04, -2.58327764e-03, -2.50503588e-02,\n",
       "       -3.28382780e-03, -3.04683167e-02,  2.94745434e-02,  2.03511748e-03,\n",
       "       -1.62733402e-02,  1.90782938e-02,  2.62608728e-03, -2.58185212e-02,\n",
       "        1.04300706e-02, -1.36438375e-02, -7.71113997e-03,  1.85995772e-02,\n",
       "       -1.25418892e-02, -1.08190645e-02, -3.57177691e-03, -4.40242887e-02,\n",
       "       -1.28038879e-02, -9.90336202e-03,  2.76399273e-02, -3.91964912e-02,\n",
       "       -2.35266425e-02, -6.31119758e-02, -3.76950987e-02, -3.21708210e-02,\n",
       "        1.35801062e-02,  9.38950386e-03, -1.75675247e-02, -2.37867925e-02,\n",
       "       -1.33225163e-02, -2.56452803e-02,  5.19130705e-03,  3.18849296e-03,\n",
       "       -3.34639400e-02,  1.07074939e-02,  3.56273577e-02, -1.23816971e-02,\n",
       "       -2.16707718e-02,  2.54898556e-02, -2.41136998e-02,  2.18685567e-02,\n",
       "        4.53559682e-03,  1.76230595e-02,  8.13029800e-03, -5.20463549e-02,\n",
       "        2.02896278e-02, -1.75274722e-02, -2.07819249e-02,  2.53872038e-03,\n",
       "       -3.24142328e-03, -4.59886640e-02, -5.59842039e-04,  1.40258512e-02,\n",
       "        2.89820693e-03,  2.73865871e-02,  1.44948503e-02, -8.13846011e-04,\n",
       "        2.66610570e-02, -9.94144101e-03, -3.79549414e-02, -2.40102317e-02,\n",
       "        4.72755767e-02,  1.65878218e-02, -4.58044633e-02, -3.29874754e-02,\n",
       "        1.57886501e-02,  9.59177688e-03,  2.41647754e-02, -5.35287149e-02,\n",
       "       -4.77877073e-02,  2.92383460e-03,  1.86922289e-02,  3.14014927e-02,\n",
       "       -4.85219620e-02,  1.38482358e-02, -1.53696556e-02,  4.22872882e-03,\n",
       "        5.13641117e-03, -5.78176510e-03,  3.56722921e-02,  1.16355084e-02,\n",
       "        2.34026425e-02,  1.01014376e-02, -3.66313010e-02,  4.61548241e-03,\n",
       "        2.05264278e-02,  5.10906510e-04, -1.19441384e-02,  1.18420348e-02,\n",
       "       -1.65894739e-02, -4.22296301e-03, -4.77043428e-02,  1.93939582e-02,\n",
       "        4.41508507e-03,  3.82169858e-02,  1.84883736e-02,  4.44358997e-02,\n",
       "        3.66110615e-02,  5.21880400e-04,  4.49306779e-02,  5.75357080e-02,\n",
       "        3.80929676e-03, -2.46805474e-02,  2.64529176e-02, -2.87804063e-02],\n",
       "      dtype=float32)"
      ]
     },
     "execution_count": 149,
     "metadata": {},
     "output_type": "execute_result"
    }
   ],
   "source": [
    "# Checking the word embedding of a random word\n",
    "word = \"stock\"\n",
    "model_W2V.wv[word]"
   ]
  },
  {
   "cell_type": "code",
   "execution_count": 150,
   "id": "b2ad09cd",
   "metadata": {},
   "outputs": [
    {
     "data": {
      "text/plain": [
       "array([ 4.25637979e-03,  4.32400033e-02,  5.90966130e-03,  2.40118261e-02,\n",
       "       -4.38744435e-03, -5.01582660e-02,  3.53526510e-02,  8.41019228e-02,\n",
       "        1.02291098e-02, -1.47978747e-02,  1.19092893e-02, -2.23921277e-02,\n",
       "        1.37537159e-03,  1.21555543e-02, -2.90587805e-02, -2.47421265e-02,\n",
       "        2.16012467e-02, -1.20804515e-02, -1.61911652e-03, -1.43914334e-02,\n",
       "       -2.75034290e-02,  3.06759169e-03,  3.74496952e-02,  7.24408915e-03,\n",
       "        1.51062673e-02,  6.41491916e-03, -4.45894711e-02,  6.25761831e-03,\n",
       "       -1.88159905e-02, -3.58549692e-02,  1.41559495e-02, -2.14823410e-02,\n",
       "        3.08281812e-03, -2.71334685e-03, -5.15447371e-03,  1.64517574e-02,\n",
       "        1.64492261e-02, -3.78544554e-02,  1.70136127e-03, -1.04967076e-02,\n",
       "       -1.60861965e-02, -2.05701077e-03, -1.81840407e-03, -2.59166993e-02,\n",
       "        1.61275733e-02,  3.96334119e-02, -1.61035714e-04,  9.26865637e-03,\n",
       "       -2.12359428e-03,  2.71581039e-02,  1.99140403e-02,  5.42046083e-03,\n",
       "       -1.70222968e-02,  1.30987912e-02, -1.12347649e-02,  2.68507954e-02,\n",
       "        1.38448579e-02,  4.79311962e-03,  1.53729375e-02, -4.83638747e-03,\n",
       "       -6.82617305e-03, -1.71609446e-02,  5.87575429e-04,  1.11498339e-02,\n",
       "        4.98645520e-03,  1.48331933e-02,  1.16176659e-03,  1.41477827e-02,\n",
       "       -2.35574394e-02, -5.47322538e-03, -1.82350515e-03,  2.74587814e-02,\n",
       "        3.07766069e-02, -2.66248491e-02,  2.73990934e-03,  1.91461947e-02,\n",
       "       -2.27473564e-02, -2.50393059e-03, -1.10712321e-02,  1.27321882e-02,\n",
       "       -2.60799900e-02, -3.67370546e-02,  6.86691189e-03,  6.38126731e-02,\n",
       "        6.74051233e-03,  1.72963412e-03, -1.25491563e-02,  5.50963590e-03,\n",
       "        4.10175920e-02,  2.56149005e-02,  3.35698463e-02, -1.81705933e-02,\n",
       "        2.07294561e-02, -2.93235971e-05,  3.83400545e-02,  3.03841047e-02,\n",
       "        3.03118378e-02, -1.62646119e-02, -1.87647808e-02,  1.73443258e-02,\n",
       "        5.08312322e-03,  2.53742817e-03,  2.99913716e-02,  1.07860500e-02,\n",
       "       -1.48279569e-03, -2.65550911e-02, -1.56444944e-02,  1.03778997e-02,\n",
       "       -2.12923139e-02, -2.18517450e-03, -4.68192659e-02, -2.28503980e-02,\n",
       "        3.54121812e-03,  2.70481892e-02,  3.67029360e-03,  2.78543923e-02,\n",
       "       -8.31642174e-05, -8.76658596e-03,  5.31505868e-02, -5.21602966e-02,\n",
       "        1.98093504e-02,  2.14634445e-02,  2.23892909e-02, -5.32801822e-03,\n",
       "       -2.59516016e-02,  1.74174923e-02,  7.08995061e-03, -2.46991999e-02,\n",
       "        2.38303863e-03,  2.27076672e-02,  1.64852012e-02,  3.98648195e-02,\n",
       "        2.02946737e-02, -4.09046561e-02,  1.26996906e-02,  2.23768633e-02,\n",
       "       -5.99217974e-03, -2.46880744e-02, -3.59998792e-02, -4.51238863e-02,\n",
       "        1.68825611e-02, -4.53502834e-02, -7.15065002e-03,  1.93254016e-02,\n",
       "        1.80695541e-02, -1.96579061e-02, -5.15609160e-02, -1.09420456e-02,\n",
       "        2.07186658e-02, -3.03722303e-02,  7.08071049e-03, -5.52584194e-02,\n",
       "       -1.16934543e-02, -1.30751142e-02,  5.13900025e-03,  2.29013488e-02,\n",
       "       -3.85023281e-02, -2.52431761e-02, -1.33969095e-02,  4.33426388e-02,\n",
       "        4.83757490e-03,  2.72779260e-02, -4.52102199e-02,  4.12609838e-02,\n",
       "       -1.00638475e-02,  1.00792814e-02, -1.10311387e-02,  1.00793410e-03,\n",
       "        8.08577798e-03,  6.27700090e-02, -3.50253144e-03,  1.36494273e-02,\n",
       "        2.12240834e-02,  8.58807378e-03, -8.01245868e-03,  1.51830073e-03,\n",
       "       -2.29888155e-05, -3.44576128e-02,  1.35986665e-02, -1.52912699e-02,\n",
       "       -2.65550446e-02,  1.67153832e-02, -3.26767974e-02, -1.83365438e-02,\n",
       "       -1.88939255e-02, -1.01614203e-02,  5.14754206e-02,  5.02644330e-02,\n",
       "        1.25541547e-02, -3.49007510e-02,  8.33426416e-03, -9.45940893e-03,\n",
       "       -4.63918038e-02, -8.24069022e-04, -2.58327764e-03, -2.50503588e-02,\n",
       "       -3.28382780e-03, -3.04683167e-02,  2.94745434e-02,  2.03511748e-03,\n",
       "       -1.62733402e-02,  1.90782938e-02,  2.62608728e-03, -2.58185212e-02,\n",
       "        1.04300706e-02, -1.36438375e-02, -7.71113997e-03,  1.85995772e-02,\n",
       "       -1.25418892e-02, -1.08190645e-02, -3.57177691e-03, -4.40242887e-02,\n",
       "       -1.28038879e-02, -9.90336202e-03,  2.76399273e-02, -3.91964912e-02,\n",
       "       -2.35266425e-02, -6.31119758e-02, -3.76950987e-02, -3.21708210e-02,\n",
       "        1.35801062e-02,  9.38950386e-03, -1.75675247e-02, -2.37867925e-02,\n",
       "       -1.33225163e-02, -2.56452803e-02,  5.19130705e-03,  3.18849296e-03,\n",
       "       -3.34639400e-02,  1.07074939e-02,  3.56273577e-02, -1.23816971e-02,\n",
       "       -2.16707718e-02,  2.54898556e-02, -2.41136998e-02,  2.18685567e-02,\n",
       "        4.53559682e-03,  1.76230595e-02,  8.13029800e-03, -5.20463549e-02,\n",
       "        2.02896278e-02, -1.75274722e-02, -2.07819249e-02,  2.53872038e-03,\n",
       "       -3.24142328e-03, -4.59886640e-02, -5.59842039e-04,  1.40258512e-02,\n",
       "        2.89820693e-03,  2.73865871e-02,  1.44948503e-02, -8.13846011e-04,\n",
       "        2.66610570e-02, -9.94144101e-03, -3.79549414e-02, -2.40102317e-02,\n",
       "        4.72755767e-02,  1.65878218e-02, -4.58044633e-02, -3.29874754e-02,\n",
       "        1.57886501e-02,  9.59177688e-03,  2.41647754e-02, -5.35287149e-02,\n",
       "       -4.77877073e-02,  2.92383460e-03,  1.86922289e-02,  3.14014927e-02,\n",
       "       -4.85219620e-02,  1.38482358e-02, -1.53696556e-02,  4.22872882e-03,\n",
       "        5.13641117e-03, -5.78176510e-03,  3.56722921e-02,  1.16355084e-02,\n",
       "        2.34026425e-02,  1.01014376e-02, -3.66313010e-02,  4.61548241e-03,\n",
       "        2.05264278e-02,  5.10906510e-04, -1.19441384e-02,  1.18420348e-02,\n",
       "       -1.65894739e-02, -4.22296301e-03, -4.77043428e-02,  1.93939582e-02,\n",
       "        4.41508507e-03,  3.82169858e-02,  1.84883736e-02,  4.44358997e-02,\n",
       "        3.66110615e-02,  5.21880400e-04,  4.49306779e-02,  5.75357080e-02,\n",
       "        3.80929676e-03, -2.46805474e-02,  2.64529176e-02, -2.87804063e-02],\n",
       "      dtype=float32)"
      ]
     },
     "execution_count": 150,
     "metadata": {},
     "output_type": "execute_result"
    }
   ],
   "source": [
    "# Checking the word embedding of a random word\n",
    "word = \"stock\"\n",
    "model_W2V.wv[word]"
   ]
  },
  {
   "cell_type": "code",
   "execution_count": 152,
   "id": "202e1838",
   "metadata": {},
   "outputs": [
    {
     "name": "stdout",
     "output_type": "stream",
     "text": [
      "Length of the dictionary is  4682\n"
     ]
    }
   ],
   "source": [
    "# Retrieving the words present in the Word2Vec model's vocabulary\n",
    "words = list(model_W2V.wv.key_to_index.keys())\n",
    "\n",
    "# Retrieving word vectors for all the words present in the model's vocabulary\n",
    "wvs = model_W2V.wv[words].tolist()\n",
    "\n",
    "# Creating a dictionary of words and their corresponding vectors\n",
    "word_vector_dict = dict(zip(words, wvs))\n",
    "\n",
    "print(\"Length of the dictionary is \", len(word_vector_dict))"
   ]
  },
  {
   "cell_type": "code",
   "execution_count": 153,
   "id": "908cfcae",
   "metadata": {},
   "outputs": [],
   "source": [
    "def average_vectorizer_Word2Vec(doc):\n",
    "    # Initializing a feature vector for the sentence\n",
    "    feature_vector = np.zeros((vec_size,), dtype=\"float64\")\n",
    "\n",
    "    # Creating a list of words in the sentence that are present in the model vocabulary\n",
    "    words_in_vocab = [word for word in doc.split() if word in words]\n",
    "\n",
    "    # adding the vector representations of the words\n",
    "    for word in words_in_vocab:\n",
    "        feature_vector += np.array(word_vector_dict[word])\n",
    "\n",
    "    # Dividing by the number of words to get the average vector\n",
    "    if len(words_in_vocab) != 0:\n",
    "        feature_vector /= len(words_in_vocab)\n",
    "\n",
    "    return feature_vector"
   ]
  },
  {
   "cell_type": "code",
   "execution_count": 154,
   "id": "9805e258",
   "metadata": {},
   "outputs": [
    {
     "name": "stdout",
     "output_type": "stream",
     "text": [
      "Time taken  0.33152294158935547\n"
     ]
    }
   ],
   "source": [
    "# Creating a dataframe of the vectorized documents\n",
    "start = time.time()\n",
    "\n",
    "X_train_wv = pd.DataFrame(X_train[\"News\"].apply(average_vectorizer_Word2Vec).tolist(), columns=['Feature '+str(i) for i in range(vec_size)])\n",
    "X_val_wv = pd.DataFrame(X_val[\"News\"].apply(average_vectorizer_Word2Vec).tolist(), columns=['Feature '+str(i) for i in range(vec_size)])\n",
    "X_test_wv = pd.DataFrame(X_test[\"News\"].apply(average_vectorizer_Word2Vec).tolist(), columns=['Feature '+str(i) for i in range(vec_size)])\n",
    "\n",
    "end = time.time()\n",
    "print('Time taken ', (end-start))"
   ]
  },
  {
   "cell_type": "code",
   "execution_count": 155,
   "id": "ea6ac5c9",
   "metadata": {},
   "outputs": [
    {
     "name": "stdout",
     "output_type": "stream",
     "text": [
      "(286, 300) (21, 300) (42, 300)\n"
     ]
    }
   ],
   "source": [
    "print(X_train_wv.shape, X_val_wv.shape, X_test_wv.shape)"
   ]
  },
  {
   "cell_type": "markdown",
   "id": "19322128",
   "metadata": {},
   "source": [
    "### GloVe"
   ]
  },
  {
   "cell_type": "code",
   "execution_count": 157,
   "id": "7425fce0",
   "metadata": {},
   "outputs": [],
   "source": [
    "# Load the Stanford GloVe model\n",
    "filename = '/Users/barkz/Desktop/GL Projects/Stock-Market-News-Sentiment-Analysis-and-Summarization/glove.6B.100d.txt.word2vec'\n",
    "glove_model = KeyedVectors.load_word2vec_format(filename, binary=False)"
   ]
  },
  {
   "cell_type": "code",
   "execution_count": 158,
   "id": "3adc5132",
   "metadata": {},
   "outputs": [
    {
     "name": "stdout",
     "output_type": "stream",
     "text": [
      "Length of the vocabulary is 400000\n"
     ]
    }
   ],
   "source": [
    "# Checking the size of the vocabulary\n",
    "print(\"Length of the vocabulary is\", len(glove_model.index_to_key))"
   ]
  },
  {
   "cell_type": "markdown",
   "id": "2a2155c8",
   "metadata": {},
   "source": [
    "#### Review Embeddings"
   ]
  },
  {
   "cell_type": "code",
   "execution_count": 159,
   "id": "f98756fe",
   "metadata": {},
   "outputs": [
    {
     "data": {
      "text/plain": [
       "array([ 8.6341e-01,  6.9648e-01,  4.5794e-02, -9.5708e-03, -2.5498e-01,\n",
       "       -7.4666e-01, -2.2086e-01, -4.4615e-01, -1.0423e-01, -9.9931e-01,\n",
       "        7.2550e-02,  4.5049e-01, -5.9912e-02, -5.7837e-01, -4.6540e-01,\n",
       "        4.3429e-02, -5.0570e-01, -1.5442e-01,  9.8250e-01, -8.1571e-02,\n",
       "        2.6523e-01, -2.3734e-01,  9.7675e-02,  5.8588e-01, -1.2948e-01,\n",
       "       -6.8956e-01, -1.2811e-01, -5.2265e-02, -6.7719e-01,  3.0190e-02,\n",
       "        1.8058e-01,  8.6121e-01, -8.3206e-01, -5.6887e-02, -2.9578e-01,\n",
       "        4.7180e-01,  1.2811e+00, -2.5228e-01,  4.9557e-02, -7.2455e-01,\n",
       "        6.6758e-01, -1.1091e+00, -2.0493e-01, -5.8669e-01, -2.5375e-03,\n",
       "        8.2777e-01, -4.9102e-01, -2.6475e-01,  4.3015e-01, -2.0516e+00,\n",
       "       -3.3208e-01,  5.1845e-02,  5.2646e-01,  8.7452e-01, -9.0237e-01,\n",
       "       -1.7366e+00, -3.4727e-01,  1.6590e-01,  2.7727e+00,  6.5756e-02,\n",
       "       -4.0363e-01,  3.8252e-01, -3.0787e-01,  5.9202e-01,  1.3468e-01,\n",
       "       -3.3851e-01,  3.3646e-01,  2.0950e-01,  8.5905e-01,  5.1865e-01,\n",
       "       -1.0657e+00, -2.6371e-02, -3.1349e-01,  2.3231e-01, -7.0192e-01,\n",
       "       -5.5737e-01, -2.3418e-01,  1.3563e-01, -1.0016e+00, -1.4221e-01,\n",
       "        1.0372e+00,  3.5880e-01, -4.2608e-01, -1.9386e-01, -3.7867e-01,\n",
       "       -6.9646e-01, -3.9989e-01, -5.7782e-01,  1.0132e-01,  2.0123e-01,\n",
       "       -3.7153e-01,  5.0837e-01, -3.7758e-01, -2.6205e-01, -9.3676e-01,\n",
       "        1.0053e+00,  8.4393e-01, -2.4698e-01,  1.7339e-01,  9.4473e-01],\n",
       "      dtype=float32)"
      ]
     },
     "execution_count": 159,
     "metadata": {},
     "output_type": "execute_result"
    }
   ],
   "source": [
    "# Checking the word embedding of a random word\n",
    "word = \"stock\"\n",
    "glove_model[word]"
   ]
  },
  {
   "cell_type": "code",
   "execution_count": 160,
   "id": "8c3ab5f7",
   "metadata": {},
   "outputs": [
    {
     "data": {
      "text/plain": [
       "array([-0.19382  ,  1.017    ,  1.076    ,  0.02954  , -0.39192  ,\n",
       "       -1.3891   , -0.87873  , -0.63162  ,  0.9643   , -0.43035  ,\n",
       "       -0.34868  ,  0.22736  , -0.40296  ,  0.15641  , -0.16813  ,\n",
       "       -0.15343  , -0.15799  , -0.27612  ,  0.18088  , -0.28386  ,\n",
       "        0.49847  ,  0.29864  ,  0.32353  ,  0.18108  , -0.59623  ,\n",
       "       -0.54165  , -0.70019  , -0.64956  , -0.69063  ,  0.18084  ,\n",
       "       -0.38581  ,  0.56086  , -0.40313  , -0.38777  , -0.70615  ,\n",
       "        0.20657  ,  0.34171  , -0.23393  , -0.35882  , -0.2201   ,\n",
       "       -0.76182  , -1.2047   ,  0.4339   ,  1.1656   ,  0.1836   ,\n",
       "       -0.21601  ,  0.93198  , -0.059616 , -0.11624  , -1.3259   ,\n",
       "       -0.79772  , -0.0074957, -0.0889   ,  1.4749   ,  0.31157  ,\n",
       "       -2.2952   , -0.058351 ,  0.39353  ,  1.4983   ,  0.74023  ,\n",
       "       -0.20109  ,  0.098124 , -0.73081  , -0.32294  ,  0.16703  ,\n",
       "        0.87431  , -0.041624 , -0.51022  ,  1.0737   , -0.4257   ,\n",
       "        1.0581   ,  0.19859  , -0.60087  , -0.33906  ,  0.60243  ,\n",
       "       -0.091581 , -0.47201  ,  0.74933  , -0.60168  , -0.44178  ,\n",
       "        0.77391  ,  0.81114  , -1.2889   ,  0.32055  , -0.36117  ,\n",
       "       -0.88078  ,  0.055524 , -0.26837  , -0.33688  , -1.4359   ,\n",
       "        0.85666  ,  0.32025  , -0.15361  , -0.30208  , -0.38208  ,\n",
       "        0.30508  ,  0.75374  , -0.68041  ,  0.98619  , -0.19628  ],\n",
       "      dtype=float32)"
      ]
     },
     "execution_count": 160,
     "metadata": {},
     "output_type": "execute_result"
    }
   ],
   "source": [
    "# Checking the word embedding of a random word\n",
    "word = \"economy\"\n",
    "glove_model[word]"
   ]
  },
  {
   "cell_type": "code",
   "execution_count": 161,
   "id": "a4f3e18d",
   "metadata": {},
   "outputs": [],
   "source": [
    "# Retrieving the words present in the GloVe model's vocabulary\n",
    "glove_words = glove_model.index_to_key\n",
    "\n",
    "# Creating a dictionary of words and their corresponding vectors\n",
    "glove_word_vector_dict = dict(zip(glove_model.index_to_key,list(glove_model.vectors)))"
   ]
  },
  {
   "cell_type": "code",
   "execution_count": 162,
   "id": "ba80b868",
   "metadata": {},
   "outputs": [],
   "source": [
    "vec_size=100"
   ]
  },
  {
   "cell_type": "code",
   "execution_count": 163,
   "id": "dcdef098",
   "metadata": {},
   "outputs": [],
   "source": [
    "def average_vectorizer_GloVe(doc):\n",
    "    # Initializing a feature vector for the sentence\n",
    "    feature_vector = np.zeros((vec_size,), dtype=\"float64\")\n",
    "\n",
    "    # Creating a list of words in the sentence that are present in the model vocabulary\n",
    "    words_in_vocab = [word for word in doc.split() if word in glove_words]\n",
    "\n",
    "    # adding the vector representations of the words\n",
    "    for word in words_in_vocab:\n",
    "        feature_vector += np.array(glove_word_vector_dict[word])\n",
    "\n",
    "    # Dividing by the number of words to get the average vector\n",
    "    if len(words_in_vocab) != 0:\n",
    "        feature_vector /= len(words_in_vocab)\n",
    "\n",
    "    return feature_vector"
   ]
  },
  {
   "cell_type": "code",
   "execution_count": 164,
   "id": "df2eeb8d",
   "metadata": {},
   "outputs": [
    {
     "name": "stdout",
     "output_type": "stream",
     "text": [
      "Time taken  11.121623992919922\n"
     ]
    }
   ],
   "source": [
    "# Creating a dataframe of the vectorized documents\n",
    "start = time.time()\n",
    "\n",
    "X_train_gl = pd.DataFrame(X_train[\"News\"].apply(average_vectorizer_GloVe).tolist(), columns=['Feature '+str(i) for i in range(vec_size)]) #Complete the code to apply GloVe on 'News' column\n",
    "X_val_gl = pd.DataFrame(X_val[\"News\"].apply(average_vectorizer_GloVe).tolist(), columns=['Feature '+str(i) for i in range(vec_size)]) #Complete the code to apply GloVe on 'News' column\n",
    "X_test_gl = pd.DataFrame(X_test[\"News\"].apply(average_vectorizer_GloVe).tolist(), columns=['Feature '+str(i) for i in range(vec_size)]) #Complete the code to apply GloVe on 'News' column\n",
    "\n",
    "end = time.time()\n",
    "print('Time taken ', (end-start))"
   ]
  },
  {
   "cell_type": "code",
   "execution_count": 165,
   "id": "964c3e3b",
   "metadata": {},
   "outputs": [
    {
     "name": "stdout",
     "output_type": "stream",
     "text": [
      "(286, 100) (21, 100) (42, 100)\n"
     ]
    }
   ],
   "source": [
    "# Print the shapes of the final dataframes\n",
    "print(X_train_gl.shape, X_val_gl.shape, X_test_gl.shape) "
   ]
  },
  {
   "cell_type": "markdown",
   "id": "af793819",
   "metadata": {},
   "source": [
    "### Sentence Transformer"
   ]
  },
  {
   "cell_type": "markdown",
   "id": "c88e8771",
   "metadata": {},
   "source": [
    "#### Defining the model"
   ]
  },
  {
   "cell_type": "code",
   "execution_count": 166,
   "id": "e535d422",
   "metadata": {},
   "outputs": [
    {
     "data": {
      "application/vnd.jupyter.widget-view+json": {
       "model_id": "20f6f68c25f54192a673e76b1cd8e526",
       "version_major": 2,
       "version_minor": 0
      },
      "text/plain": [
       "modules.json:   0%|          | 0.00/349 [00:00<?, ?B/s]"
      ]
     },
     "metadata": {},
     "output_type": "display_data"
    },
    {
     "data": {
      "application/vnd.jupyter.widget-view+json": {
       "model_id": "73cb1cb977d14c9dbc481e0da88aad0c",
       "version_major": 2,
       "version_minor": 0
      },
      "text/plain": [
       "config_sentence_transformers.json:   0%|          | 0.00/116 [00:00<?, ?B/s]"
      ]
     },
     "metadata": {},
     "output_type": "display_data"
    },
    {
     "data": {
      "application/vnd.jupyter.widget-view+json": {
       "model_id": "28269b50c1ac45c893702d194317bb68",
       "version_major": 2,
       "version_minor": 0
      },
      "text/plain": [
       "README.md:   0%|          | 0.00/10.7k [00:00<?, ?B/s]"
      ]
     },
     "metadata": {},
     "output_type": "display_data"
    },
    {
     "data": {
      "application/vnd.jupyter.widget-view+json": {
       "model_id": "9732c3e0daa34c94969dfc550054b75e",
       "version_major": 2,
       "version_minor": 0
      },
      "text/plain": [
       "sentence_bert_config.json:   0%|          | 0.00/53.0 [00:00<?, ?B/s]"
      ]
     },
     "metadata": {},
     "output_type": "display_data"
    },
    {
     "data": {
      "application/vnd.jupyter.widget-view+json": {
       "model_id": "bdd686b1242844eaa7f494cc08c3b809",
       "version_major": 2,
       "version_minor": 0
      },
      "text/plain": [
       "config.json:   0%|          | 0.00/612 [00:00<?, ?B/s]"
      ]
     },
     "metadata": {},
     "output_type": "display_data"
    },
    {
     "data": {
      "application/vnd.jupyter.widget-view+json": {
       "model_id": "fea926b38f654375aef279501734e132",
       "version_major": 2,
       "version_minor": 0
      },
      "text/plain": [
       "model.safetensors:   0%|          | 0.00/90.9M [00:00<?, ?B/s]"
      ]
     },
     "metadata": {},
     "output_type": "display_data"
    },
    {
     "data": {
      "application/vnd.jupyter.widget-view+json": {
       "model_id": "00b00b1ad93f40deb1c784a43a620c7c",
       "version_major": 2,
       "version_minor": 0
      },
      "text/plain": [
       "tokenizer_config.json:   0%|          | 0.00/350 [00:00<?, ?B/s]"
      ]
     },
     "metadata": {},
     "output_type": "display_data"
    },
    {
     "data": {
      "application/vnd.jupyter.widget-view+json": {
       "model_id": "dfce8981243541a293f8dcc19d77e413",
       "version_major": 2,
       "version_minor": 0
      },
      "text/plain": [
       "vocab.txt:   0%|          | 0.00/232k [00:00<?, ?B/s]"
      ]
     },
     "metadata": {},
     "output_type": "display_data"
    },
    {
     "data": {
      "application/vnd.jupyter.widget-view+json": {
       "model_id": "7c5b3f8d4be14114b14c1a28adb7a65b",
       "version_major": 2,
       "version_minor": 0
      },
      "text/plain": [
       "tokenizer.json:   0%|          | 0.00/466k [00:00<?, ?B/s]"
      ]
     },
     "metadata": {},
     "output_type": "display_data"
    },
    {
     "data": {
      "application/vnd.jupyter.widget-view+json": {
       "model_id": "2d1fdeb5f6ab4543abb60cfa5f106af1",
       "version_major": 2,
       "version_minor": 0
      },
      "text/plain": [
       "special_tokens_map.json:   0%|          | 0.00/112 [00:00<?, ?B/s]"
      ]
     },
     "metadata": {},
     "output_type": "display_data"
    },
    {
     "data": {
      "application/vnd.jupyter.widget-view+json": {
       "model_id": "02286d3699a2457db23826a879ed04f1",
       "version_major": 2,
       "version_minor": 0
      },
      "text/plain": [
       "1_Pooling/config.json:   0%|          | 0.00/190 [00:00<?, ?B/s]"
      ]
     },
     "metadata": {},
     "output_type": "display_data"
    }
   ],
   "source": [
    "# Defining the model\n",
    "model = SentenceTransformer('sentence-transformers/all-MiniLM-L6-v2')"
   ]
  },
  {
   "cell_type": "markdown",
   "id": "33654194",
   "metadata": {},
   "source": [
    "#### Encoding the dataset"
   ]
  },
  {
   "cell_type": "code",
   "execution_count": 168,
   "id": "9aed55d6",
   "metadata": {},
   "outputs": [
    {
     "name": "stdout",
     "output_type": "stream",
     "text": [
      "Using device: cpu\n"
     ]
    }
   ],
   "source": [
    "# Setting the device to GPU if available, else CPU\n",
    "device = torch.device(\"cuda\" if torch.cuda.is_available() else \"cpu\")\n",
    "\n",
    "# Print the device being used\n",
    "print(f\"Using device: {device}\")"
   ]
  },
  {
   "cell_type": "code",
   "execution_count": 169,
   "id": "270ef76c",
   "metadata": {},
   "outputs": [
    {
     "data": {
      "application/vnd.jupyter.widget-view+json": {
       "model_id": "a3274c88a5b84533afc51155952e2e78",
       "version_major": 2,
       "version_minor": 0
      },
      "text/plain": [
       "Batches:   0%|          | 0/9 [00:00<?, ?it/s]"
      ]
     },
     "metadata": {},
     "output_type": "display_data"
    },
    {
     "data": {
      "application/vnd.jupyter.widget-view+json": {
       "model_id": "7f8df033c5ee4a73b280f2b62fe59687",
       "version_major": 2,
       "version_minor": 0
      },
      "text/plain": [
       "Batches:   0%|          | 0/1 [00:00<?, ?it/s]"
      ]
     },
     "metadata": {},
     "output_type": "display_data"
    },
    {
     "data": {
      "application/vnd.jupyter.widget-view+json": {
       "model_id": "f07e2c82a8524bf4a0062e967a6c4128",
       "version_major": 2,
       "version_minor": 0
      },
      "text/plain": [
       "Batches:   0%|          | 0/2 [00:00<?, ?it/s]"
      ]
     },
     "metadata": {},
     "output_type": "display_data"
    },
    {
     "name": "stdout",
     "output_type": "stream",
     "text": [
      "Time taken  1.7992830276489258\n"
     ]
    }
   ],
   "source": [
    "# Encoding the dataset\n",
    "start = time.time()\n",
    "\n",
    "# Apply Sentence Transformer on 'News' column\n",
    "X_train_st = model.encode(X_train[\"News\"].values, show_progress_bar=True, device=device) \n",
    "\n",
    "# Apply Sentence Transformer on 'News' column\n",
    "X_val_st = model.encode(X_val[\"News\"].values, show_progress_bar=True, device=device) \n",
    "\n",
    "# Apply Sentence Transformer on 'News' column\n",
    "X_test_st = model.encode(X_test[\"News\"].values, show_progress_bar=True, device=device) \n",
    "\n",
    "end = time.time()\n",
    "print(\"Time taken \",(end-start))"
   ]
  },
  {
   "cell_type": "code",
   "execution_count": 170,
   "id": "b929f0a5",
   "metadata": {},
   "outputs": [
    {
     "name": "stdout",
     "output_type": "stream",
     "text": [
      "(286, 384) (21, 384) (42, 384)\n"
     ]
    }
   ],
   "source": [
    "# Print the shapes of the final dataframes\n",
    "print(X_train_st.shape, X_val_st.shape, X_test_st.shape) "
   ]
  },
  {
   "cell_type": "markdown",
   "id": "cd6d0056",
   "metadata": {},
   "source": [
    "Each news content has been converted to a 384-dimensional vector."
   ]
  },
  {
   "cell_type": "markdown",
   "id": "f4lwYN5bYmHp",
   "metadata": {
    "id": "f4lwYN5bYmHp"
   },
   "source": [
    "---\n",
    "---\n",
    "# **Sentiment Analysis**"
   ]
  },
  {
   "cell_type": "markdown",
   "id": "071b8a28",
   "metadata": {},
   "source": [
    "### Helper Functions"
   ]
  },
  {
   "cell_type": "code",
   "execution_count": 171,
   "id": "Hvn8PxDmz063",
   "metadata": {
    "id": "Hvn8PxDmz063"
   },
   "outputs": [],
   "source": [
    "def plot_confusion_matrix(model, predictors, target):\n",
    "    \"\"\"\n",
    "    Plot a confusion matrix to visualize the performance of a classification model.\n",
    "\n",
    "    Parameters:\n",
    "    actual (array-like): The true labels.\n",
    "    predicted (array-like): The predicted labels from the model.\n",
    "\n",
    "    Returns:\n",
    "    None: Displays the confusion matrix plot.\n",
    "    \"\"\"\n",
    "    pred = model.predict(predictors)  # Make predictions using the classifier.\n",
    "\n",
    "    cm = confusion_matrix(target, pred)  # Compute the confusion matrix.\n",
    "\n",
    "    plt.figure(figsize=(5, 4))  # Create a new figure with a specified size.\n",
    "    label_list = [0, 1,-1]  # Define the labels for the confusion matrix.\n",
    "    sns.heatmap(cm, annot=True, fmt='.0f', cmap='Blues', xticklabels=label_list, yticklabels=label_list)\n",
    "    # Plot the confusion matrix using a heatmap with annotations.\n",
    "\n",
    "    plt.ylabel('Actual')  # Label for the y-axis.\n",
    "    plt.xlabel('Predicted')  # Label for the x-axis.\n",
    "    plt.title('Confusion Matrix')  # Title of the plot.\n",
    "    plt.show()  # Display the plot."
   ]
  },
  {
   "cell_type": "code",
   "execution_count": 172,
   "id": "55829c43",
   "metadata": {},
   "outputs": [],
   "source": [
    "def model_performance_classification_sklearn(model, predictors, target):\n",
    "    \"\"\"\n",
    "    Compute various performance metrics for a classification model using sklearn.\n",
    "\n",
    "    Parameters:\n",
    "    model (sklearn classifier): The classification model to evaluate.\n",
    "    predictors (array-like): The independent variables used for predictions.\n",
    "    target (array-like): The true labels for the dependent variable.\n",
    "\n",
    "    Returns:\n",
    "    pandas.DataFrame: A DataFrame containing the computed metrics (Accuracy, Recall, Precision, F1-score).\n",
    "    \"\"\"\n",
    "    pred = model.predict(predictors)  # Make predictions using the classifier.\n",
    "\n",
    "    acc = accuracy_score(target, pred)  # Compute Accuracy.\n",
    "    recall = recall_score(target, pred,average='weighted')  # Compute Recall.\n",
    "    precision = precision_score(target, pred,average='weighted')  # Compute Precision.\n",
    "    f1 = f1_score(target, pred,average='weighted')  # Compute F1-score.\n",
    "\n",
    "    # Create a DataFrame to store the computed metrics.\n",
    "    df_perf = pd.DataFrame(\n",
    "        {\n",
    "            \"Accuracy\": [acc],\n",
    "            \"Recall\": [recall],\n",
    "            \"Precision\": [precision],\n",
    "            \"F1\": [f1],\n",
    "        }\n",
    "    )\n",
    "\n",
    "    return df_perf  # Return the DataFrame with the metrics."
   ]
  },
  {
   "cell_type": "markdown",
   "id": "2067ebe5",
   "metadata": {},
   "source": [
    "### Base Model - Word2Vec"
   ]
  },
  {
   "cell_type": "code",
   "execution_count": 173,
   "id": "43c8c5d5",
   "metadata": {},
   "outputs": [
    {
     "data": {
      "text/html": [
       "<style>#sk-container-id-1 {\n",
       "  /* Definition of color scheme common for light and dark mode */\n",
       "  --sklearn-color-text: black;\n",
       "  --sklearn-color-line: gray;\n",
       "  /* Definition of color scheme for unfitted estimators */\n",
       "  --sklearn-color-unfitted-level-0: #fff5e6;\n",
       "  --sklearn-color-unfitted-level-1: #f6e4d2;\n",
       "  --sklearn-color-unfitted-level-2: #ffe0b3;\n",
       "  --sklearn-color-unfitted-level-3: chocolate;\n",
       "  /* Definition of color scheme for fitted estimators */\n",
       "  --sklearn-color-fitted-level-0: #f0f8ff;\n",
       "  --sklearn-color-fitted-level-1: #d4ebff;\n",
       "  --sklearn-color-fitted-level-2: #b3dbfd;\n",
       "  --sklearn-color-fitted-level-3: cornflowerblue;\n",
       "\n",
       "  /* Specific color for light theme */\n",
       "  --sklearn-color-text-on-default-background: var(--sg-text-color, var(--theme-code-foreground, var(--jp-content-font-color1, black)));\n",
       "  --sklearn-color-background: var(--sg-background-color, var(--theme-background, var(--jp-layout-color0, white)));\n",
       "  --sklearn-color-border-box: var(--sg-text-color, var(--theme-code-foreground, var(--jp-content-font-color1, black)));\n",
       "  --sklearn-color-icon: #696969;\n",
       "\n",
       "  @media (prefers-color-scheme: dark) {\n",
       "    /* Redefinition of color scheme for dark theme */\n",
       "    --sklearn-color-text-on-default-background: var(--sg-text-color, var(--theme-code-foreground, var(--jp-content-font-color1, white)));\n",
       "    --sklearn-color-background: var(--sg-background-color, var(--theme-background, var(--jp-layout-color0, #111)));\n",
       "    --sklearn-color-border-box: var(--sg-text-color, var(--theme-code-foreground, var(--jp-content-font-color1, white)));\n",
       "    --sklearn-color-icon: #878787;\n",
       "  }\n",
       "}\n",
       "\n",
       "#sk-container-id-1 {\n",
       "  color: var(--sklearn-color-text);\n",
       "}\n",
       "\n",
       "#sk-container-id-1 pre {\n",
       "  padding: 0;\n",
       "}\n",
       "\n",
       "#sk-container-id-1 input.sk-hidden--visually {\n",
       "  border: 0;\n",
       "  clip: rect(1px 1px 1px 1px);\n",
       "  clip: rect(1px, 1px, 1px, 1px);\n",
       "  height: 1px;\n",
       "  margin: -1px;\n",
       "  overflow: hidden;\n",
       "  padding: 0;\n",
       "  position: absolute;\n",
       "  width: 1px;\n",
       "}\n",
       "\n",
       "#sk-container-id-1 div.sk-dashed-wrapped {\n",
       "  border: 1px dashed var(--sklearn-color-line);\n",
       "  margin: 0 0.4em 0.5em 0.4em;\n",
       "  box-sizing: border-box;\n",
       "  padding-bottom: 0.4em;\n",
       "  background-color: var(--sklearn-color-background);\n",
       "}\n",
       "\n",
       "#sk-container-id-1 div.sk-container {\n",
       "  /* jupyter's `normalize.less` sets `[hidden] { display: none; }`\n",
       "     but bootstrap.min.css set `[hidden] { display: none !important; }`\n",
       "     so we also need the `!important` here to be able to override the\n",
       "     default hidden behavior on the sphinx rendered scikit-learn.org.\n",
       "     See: https://github.com/scikit-learn/scikit-learn/issues/21755 */\n",
       "  display: inline-block !important;\n",
       "  position: relative;\n",
       "}\n",
       "\n",
       "#sk-container-id-1 div.sk-text-repr-fallback {\n",
       "  display: none;\n",
       "}\n",
       "\n",
       "div.sk-parallel-item,\n",
       "div.sk-serial,\n",
       "div.sk-item {\n",
       "  /* draw centered vertical line to link estimators */\n",
       "  background-image: linear-gradient(var(--sklearn-color-text-on-default-background), var(--sklearn-color-text-on-default-background));\n",
       "  background-size: 2px 100%;\n",
       "  background-repeat: no-repeat;\n",
       "  background-position: center center;\n",
       "}\n",
       "\n",
       "/* Parallel-specific style estimator block */\n",
       "\n",
       "#sk-container-id-1 div.sk-parallel-item::after {\n",
       "  content: \"\";\n",
       "  width: 100%;\n",
       "  border-bottom: 2px solid var(--sklearn-color-text-on-default-background);\n",
       "  flex-grow: 1;\n",
       "}\n",
       "\n",
       "#sk-container-id-1 div.sk-parallel {\n",
       "  display: flex;\n",
       "  align-items: stretch;\n",
       "  justify-content: center;\n",
       "  background-color: var(--sklearn-color-background);\n",
       "  position: relative;\n",
       "}\n",
       "\n",
       "#sk-container-id-1 div.sk-parallel-item {\n",
       "  display: flex;\n",
       "  flex-direction: column;\n",
       "}\n",
       "\n",
       "#sk-container-id-1 div.sk-parallel-item:first-child::after {\n",
       "  align-self: flex-end;\n",
       "  width: 50%;\n",
       "}\n",
       "\n",
       "#sk-container-id-1 div.sk-parallel-item:last-child::after {\n",
       "  align-self: flex-start;\n",
       "  width: 50%;\n",
       "}\n",
       "\n",
       "#sk-container-id-1 div.sk-parallel-item:only-child::after {\n",
       "  width: 0;\n",
       "}\n",
       "\n",
       "/* Serial-specific style estimator block */\n",
       "\n",
       "#sk-container-id-1 div.sk-serial {\n",
       "  display: flex;\n",
       "  flex-direction: column;\n",
       "  align-items: center;\n",
       "  background-color: var(--sklearn-color-background);\n",
       "  padding-right: 1em;\n",
       "  padding-left: 1em;\n",
       "}\n",
       "\n",
       "\n",
       "/* Toggleable style: style used for estimator/Pipeline/ColumnTransformer box that is\n",
       "clickable and can be expanded/collapsed.\n",
       "- Pipeline and ColumnTransformer use this feature and define the default style\n",
       "- Estimators will overwrite some part of the style using the `sk-estimator` class\n",
       "*/\n",
       "\n",
       "/* Pipeline and ColumnTransformer style (default) */\n",
       "\n",
       "#sk-container-id-1 div.sk-toggleable {\n",
       "  /* Default theme specific background. It is overwritten whether we have a\n",
       "  specific estimator or a Pipeline/ColumnTransformer */\n",
       "  background-color: var(--sklearn-color-background);\n",
       "}\n",
       "\n",
       "/* Toggleable label */\n",
       "#sk-container-id-1 label.sk-toggleable__label {\n",
       "  cursor: pointer;\n",
       "  display: block;\n",
       "  width: 100%;\n",
       "  margin-bottom: 0;\n",
       "  padding: 0.5em;\n",
       "  box-sizing: border-box;\n",
       "  text-align: center;\n",
       "}\n",
       "\n",
       "#sk-container-id-1 label.sk-toggleable__label-arrow:before {\n",
       "  /* Arrow on the left of the label */\n",
       "  content: \"▸\";\n",
       "  float: left;\n",
       "  margin-right: 0.25em;\n",
       "  color: var(--sklearn-color-icon);\n",
       "}\n",
       "\n",
       "#sk-container-id-1 label.sk-toggleable__label-arrow:hover:before {\n",
       "  color: var(--sklearn-color-text);\n",
       "}\n",
       "\n",
       "/* Toggleable content - dropdown */\n",
       "\n",
       "#sk-container-id-1 div.sk-toggleable__content {\n",
       "  max-height: 0;\n",
       "  max-width: 0;\n",
       "  overflow: hidden;\n",
       "  text-align: left;\n",
       "  /* unfitted */\n",
       "  background-color: var(--sklearn-color-unfitted-level-0);\n",
       "}\n",
       "\n",
       "#sk-container-id-1 div.sk-toggleable__content.fitted {\n",
       "  /* fitted */\n",
       "  background-color: var(--sklearn-color-fitted-level-0);\n",
       "}\n",
       "\n",
       "#sk-container-id-1 div.sk-toggleable__content pre {\n",
       "  margin: 0.2em;\n",
       "  border-radius: 0.25em;\n",
       "  color: var(--sklearn-color-text);\n",
       "  /* unfitted */\n",
       "  background-color: var(--sklearn-color-unfitted-level-0);\n",
       "}\n",
       "\n",
       "#sk-container-id-1 div.sk-toggleable__content.fitted pre {\n",
       "  /* unfitted */\n",
       "  background-color: var(--sklearn-color-fitted-level-0);\n",
       "}\n",
       "\n",
       "#sk-container-id-1 input.sk-toggleable__control:checked~div.sk-toggleable__content {\n",
       "  /* Expand drop-down */\n",
       "  max-height: 200px;\n",
       "  max-width: 100%;\n",
       "  overflow: auto;\n",
       "}\n",
       "\n",
       "#sk-container-id-1 input.sk-toggleable__control:checked~label.sk-toggleable__label-arrow:before {\n",
       "  content: \"▾\";\n",
       "}\n",
       "\n",
       "/* Pipeline/ColumnTransformer-specific style */\n",
       "\n",
       "#sk-container-id-1 div.sk-label input.sk-toggleable__control:checked~label.sk-toggleable__label {\n",
       "  color: var(--sklearn-color-text);\n",
       "  background-color: var(--sklearn-color-unfitted-level-2);\n",
       "}\n",
       "\n",
       "#sk-container-id-1 div.sk-label.fitted input.sk-toggleable__control:checked~label.sk-toggleable__label {\n",
       "  background-color: var(--sklearn-color-fitted-level-2);\n",
       "}\n",
       "\n",
       "/* Estimator-specific style */\n",
       "\n",
       "/* Colorize estimator box */\n",
       "#sk-container-id-1 div.sk-estimator input.sk-toggleable__control:checked~label.sk-toggleable__label {\n",
       "  /* unfitted */\n",
       "  background-color: var(--sklearn-color-unfitted-level-2);\n",
       "}\n",
       "\n",
       "#sk-container-id-1 div.sk-estimator.fitted input.sk-toggleable__control:checked~label.sk-toggleable__label {\n",
       "  /* fitted */\n",
       "  background-color: var(--sklearn-color-fitted-level-2);\n",
       "}\n",
       "\n",
       "#sk-container-id-1 div.sk-label label.sk-toggleable__label,\n",
       "#sk-container-id-1 div.sk-label label {\n",
       "  /* The background is the default theme color */\n",
       "  color: var(--sklearn-color-text-on-default-background);\n",
       "}\n",
       "\n",
       "/* On hover, darken the color of the background */\n",
       "#sk-container-id-1 div.sk-label:hover label.sk-toggleable__label {\n",
       "  color: var(--sklearn-color-text);\n",
       "  background-color: var(--sklearn-color-unfitted-level-2);\n",
       "}\n",
       "\n",
       "/* Label box, darken color on hover, fitted */\n",
       "#sk-container-id-1 div.sk-label.fitted:hover label.sk-toggleable__label.fitted {\n",
       "  color: var(--sklearn-color-text);\n",
       "  background-color: var(--sklearn-color-fitted-level-2);\n",
       "}\n",
       "\n",
       "/* Estimator label */\n",
       "\n",
       "#sk-container-id-1 div.sk-label label {\n",
       "  font-family: monospace;\n",
       "  font-weight: bold;\n",
       "  display: inline-block;\n",
       "  line-height: 1.2em;\n",
       "}\n",
       "\n",
       "#sk-container-id-1 div.sk-label-container {\n",
       "  text-align: center;\n",
       "}\n",
       "\n",
       "/* Estimator-specific */\n",
       "#sk-container-id-1 div.sk-estimator {\n",
       "  font-family: monospace;\n",
       "  border: 1px dotted var(--sklearn-color-border-box);\n",
       "  border-radius: 0.25em;\n",
       "  box-sizing: border-box;\n",
       "  margin-bottom: 0.5em;\n",
       "  /* unfitted */\n",
       "  background-color: var(--sklearn-color-unfitted-level-0);\n",
       "}\n",
       "\n",
       "#sk-container-id-1 div.sk-estimator.fitted {\n",
       "  /* fitted */\n",
       "  background-color: var(--sklearn-color-fitted-level-0);\n",
       "}\n",
       "\n",
       "/* on hover */\n",
       "#sk-container-id-1 div.sk-estimator:hover {\n",
       "  /* unfitted */\n",
       "  background-color: var(--sklearn-color-unfitted-level-2);\n",
       "}\n",
       "\n",
       "#sk-container-id-1 div.sk-estimator.fitted:hover {\n",
       "  /* fitted */\n",
       "  background-color: var(--sklearn-color-fitted-level-2);\n",
       "}\n",
       "\n",
       "/* Specification for estimator info (e.g. \"i\" and \"?\") */\n",
       "\n",
       "/* Common style for \"i\" and \"?\" */\n",
       "\n",
       ".sk-estimator-doc-link,\n",
       "a:link.sk-estimator-doc-link,\n",
       "a:visited.sk-estimator-doc-link {\n",
       "  float: right;\n",
       "  font-size: smaller;\n",
       "  line-height: 1em;\n",
       "  font-family: monospace;\n",
       "  background-color: var(--sklearn-color-background);\n",
       "  border-radius: 1em;\n",
       "  height: 1em;\n",
       "  width: 1em;\n",
       "  text-decoration: none !important;\n",
       "  margin-left: 1ex;\n",
       "  /* unfitted */\n",
       "  border: var(--sklearn-color-unfitted-level-1) 1pt solid;\n",
       "  color: var(--sklearn-color-unfitted-level-1);\n",
       "}\n",
       "\n",
       ".sk-estimator-doc-link.fitted,\n",
       "a:link.sk-estimator-doc-link.fitted,\n",
       "a:visited.sk-estimator-doc-link.fitted {\n",
       "  /* fitted */\n",
       "  border: var(--sklearn-color-fitted-level-1) 1pt solid;\n",
       "  color: var(--sklearn-color-fitted-level-1);\n",
       "}\n",
       "\n",
       "/* On hover */\n",
       "div.sk-estimator:hover .sk-estimator-doc-link:hover,\n",
       ".sk-estimator-doc-link:hover,\n",
       "div.sk-label-container:hover .sk-estimator-doc-link:hover,\n",
       ".sk-estimator-doc-link:hover {\n",
       "  /* unfitted */\n",
       "  background-color: var(--sklearn-color-unfitted-level-3);\n",
       "  color: var(--sklearn-color-background);\n",
       "  text-decoration: none;\n",
       "}\n",
       "\n",
       "div.sk-estimator.fitted:hover .sk-estimator-doc-link.fitted:hover,\n",
       ".sk-estimator-doc-link.fitted:hover,\n",
       "div.sk-label-container:hover .sk-estimator-doc-link.fitted:hover,\n",
       ".sk-estimator-doc-link.fitted:hover {\n",
       "  /* fitted */\n",
       "  background-color: var(--sklearn-color-fitted-level-3);\n",
       "  color: var(--sklearn-color-background);\n",
       "  text-decoration: none;\n",
       "}\n",
       "\n",
       "/* Span, style for the box shown on hovering the info icon */\n",
       ".sk-estimator-doc-link span {\n",
       "  display: none;\n",
       "  z-index: 9999;\n",
       "  position: relative;\n",
       "  font-weight: normal;\n",
       "  right: .2ex;\n",
       "  padding: .5ex;\n",
       "  margin: .5ex;\n",
       "  width: min-content;\n",
       "  min-width: 20ex;\n",
       "  max-width: 50ex;\n",
       "  color: var(--sklearn-color-text);\n",
       "  box-shadow: 2pt 2pt 4pt #999;\n",
       "  /* unfitted */\n",
       "  background: var(--sklearn-color-unfitted-level-0);\n",
       "  border: .5pt solid var(--sklearn-color-unfitted-level-3);\n",
       "}\n",
       "\n",
       ".sk-estimator-doc-link.fitted span {\n",
       "  /* fitted */\n",
       "  background: var(--sklearn-color-fitted-level-0);\n",
       "  border: var(--sklearn-color-fitted-level-3);\n",
       "}\n",
       "\n",
       ".sk-estimator-doc-link:hover span {\n",
       "  display: block;\n",
       "}\n",
       "\n",
       "/* \"?\"-specific style due to the `<a>` HTML tag */\n",
       "\n",
       "#sk-container-id-1 a.estimator_doc_link {\n",
       "  float: right;\n",
       "  font-size: 1rem;\n",
       "  line-height: 1em;\n",
       "  font-family: monospace;\n",
       "  background-color: var(--sklearn-color-background);\n",
       "  border-radius: 1rem;\n",
       "  height: 1rem;\n",
       "  width: 1rem;\n",
       "  text-decoration: none;\n",
       "  /* unfitted */\n",
       "  color: var(--sklearn-color-unfitted-level-1);\n",
       "  border: var(--sklearn-color-unfitted-level-1) 1pt solid;\n",
       "}\n",
       "\n",
       "#sk-container-id-1 a.estimator_doc_link.fitted {\n",
       "  /* fitted */\n",
       "  border: var(--sklearn-color-fitted-level-1) 1pt solid;\n",
       "  color: var(--sklearn-color-fitted-level-1);\n",
       "}\n",
       "\n",
       "/* On hover */\n",
       "#sk-container-id-1 a.estimator_doc_link:hover {\n",
       "  /* unfitted */\n",
       "  background-color: var(--sklearn-color-unfitted-level-3);\n",
       "  color: var(--sklearn-color-background);\n",
       "  text-decoration: none;\n",
       "}\n",
       "\n",
       "#sk-container-id-1 a.estimator_doc_link.fitted:hover {\n",
       "  /* fitted */\n",
       "  background-color: var(--sklearn-color-fitted-level-3);\n",
       "}\n",
       "</style><div id=\"sk-container-id-1\" class=\"sk-top-container\"><div class=\"sk-text-repr-fallback\"><pre>GradientBoostingClassifier(random_state=42)</pre><b>In a Jupyter environment, please rerun this cell to show the HTML representation or trust the notebook. <br />On GitHub, the HTML representation is unable to render, please try loading this page with nbviewer.org.</b></div><div class=\"sk-container\" hidden><div class=\"sk-item\"><div class=\"sk-estimator fitted sk-toggleable\"><input class=\"sk-toggleable__control sk-hidden--visually\" id=\"sk-estimator-id-1\" type=\"checkbox\" checked><label for=\"sk-estimator-id-1\" class=\"sk-toggleable__label fitted sk-toggleable__label-arrow fitted\">&nbsp;&nbsp;GradientBoostingClassifier<a class=\"sk-estimator-doc-link fitted\" rel=\"noreferrer\" target=\"_blank\" href=\"https://scikit-learn.org/1.5/modules/generated/sklearn.ensemble.GradientBoostingClassifier.html\">?<span>Documentation for GradientBoostingClassifier</span></a><span class=\"sk-estimator-doc-link fitted\">i<span>Fitted</span></span></label><div class=\"sk-toggleable__content fitted\"><pre>GradientBoostingClassifier(random_state=42)</pre></div> </div></div></div></div>"
      ],
      "text/plain": [
       "GradientBoostingClassifier(random_state=42)"
      ]
     },
     "execution_count": 173,
     "metadata": {},
     "output_type": "execute_result"
    }
   ],
   "source": [
    "# Building the model\n",
    "\n",
    "# Uncomment only one of the snippets related to fitting the model to the data\n",
    "\n",
    "base_wv = GradientBoostingClassifier(random_state=42)\n",
    "#base_wv = RandomForestClassifier(random_state=42)\n",
    "#base_wv = DecisionTreeClassifier(random_state=42)\n",
    "\n",
    "# Fitting on train data\n",
    "base_wv.fit(X_train_wv, y_train)"
   ]
  },
  {
   "cell_type": "code",
   "execution_count": 174,
   "id": "e1c9bdc9",
   "metadata": {},
   "outputs": [
    {
     "data": {
      "image/png": "[encoded data removed]",
      "text/plain": [
       "<Figure size 500x400 with 2 Axes>"
      ]
     },
     "metadata": {},
     "output_type": "display_data"
    }
   ],
   "source": [
    "plot_confusion_matrix(base_wv,X_train_wv,y_train)"
   ]
  },
  {
   "cell_type": "code",
   "execution_count": 175,
   "id": "69d6f4ae",
   "metadata": {},
   "outputs": [
    {
     "data": {
      "image/png": "[encoded data removed]",
      "text/plain": [
       "<Figure size 500x400 with 2 Axes>"
      ]
     },
     "metadata": {},
     "output_type": "display_data"
    }
   ],
   "source": [
    "plot_confusion_matrix(base_wv,X_val_wv,y_val)"
   ]
  },
  {
   "cell_type": "code",
   "execution_count": 176,
   "id": "9911ac2b",
   "metadata": {},
   "outputs": [
    {
     "name": "stdout",
     "output_type": "stream",
     "text": [
      "Training performance:\n",
      "    Accuracy  Recall  Precision   F1\n",
      "0       1.0     1.0        1.0  1.0\n"
     ]
    }
   ],
   "source": [
    "# Calculating different metrics on training data\n",
    "base_train_wv = model_performance_classification_sklearn(base_wv,X_train_wv,y_train)\n",
    "print(\"Training performance:\\n\", base_train_wv)"
   ]
  },
  {
   "cell_type": "markdown",
   "id": "b4df1975",
   "metadata": {},
   "source": [
    "Summary:\n",
    "The model has achieved perfect scores (1.0) for accuracy, recall, precision, and F1 on the training data.\n",
    "These results suggest that the model has perfectly learned the training data without any errors.\n",
    "Potential Concerns:\n",
    "Overfitting:\n",
    "\n",
    "The perfect scores on the training data may indicate that the model has overfitted to the training data. Overfitting occurs when a model learns the training data too well, including noise and outliers, and fails to generalize to new, unseen data.\n",
    "To confirm whether the model is overfitting, it is essential to evaluate its performance on the validation and test datasets. If the model's performance on these datasets is significantly lower than on the training data, it is likely overfitting.\n",
    "Model Complexity:\n",
    "\n",
    "The perfect training performance may also suggest that the model is highly complex and has a large capacity to memorize the training data. Simplifying the model or using regularization techniques may help improve its generalization ability.\n",
    "Next Steps:\n",
    "Evaluate on Validation Data: Assess the model's performance on the validation dataset to check for overfitting. This can be done using the provided code snippet:\n"
   ]
  },
  {
   "cell_type": "code",
   "execution_count": 177,
   "id": "a722a5a8",
   "metadata": {},
   "outputs": [
    {
     "name": "stdout",
     "output_type": "stream",
     "text": [
      "Validation performance:\n",
      "    Accuracy   Recall  Precision        F1\n",
      "0   0.47619  0.47619   0.381886  0.414204\n"
     ]
    }
   ],
   "source": [
    "# Calculating different metrics on validation data\n",
    "base_val_wv = model_performance_classification_sklearn(base_wv,X_val_wv,y_val)\n",
    "print(\"Validation performance:\\n\",base_val_wv)"
   ]
  },
  {
   "cell_type": "markdown",
   "id": "ce05673a",
   "metadata": {},
   "source": [
    "Summary:\n",
    "The model's performance on the validation data is relatively low, with an accuracy of 47.62%, recall of 47.62%, precision of 38.19%, and F1 score of 41.42%.\n",
    "These results suggest that the model is not performing well on the validation data and may have difficulty generalizing to new, unseen data.\n",
    "Potential Concerns:\n",
    "Underfitting:\n",
    "\n",
    "The low performance metrics on the validation data may indicate that the model is underfitting. Underfitting occurs when a model is too simple to capture the underlying patterns in the data, leading to poor performance on both the training and validation datasets.\n",
    "To confirm whether the model is underfitting, it is essential to compare its performance on the training data. If the training performance is also low, the model is likely underfitting.\n",
    "Model Complexity:\n",
    "\n",
    "The model may be too simple or not well-tuned for the task at hand. Increasing the model complexity, adding more features, or tuning hyperparameters may help improve its performance.\n",
    "Data Quality and Quantity:\n",
    "\n",
    "The quality and quantity of the training data can significantly impact the model's performance. Ensuring that the data is clean, well-labeled, and representative of the problem domain is crucial.\n",
    "Gathering more training data or using data augmentation techniques may help improve the model's performance."
   ]
  },
  {
   "cell_type": "markdown",
   "id": "7cfbb372",
   "metadata": {},
   "source": [
    "### Base Model - GloVe"
   ]
  },
  {
   "cell_type": "code",
   "execution_count": 185,
   "id": "f445a36b",
   "metadata": {},
   "outputs": [
    {
     "data": {
      "text/html": [
       "<style>#sk-container-id-4 {\n",
       "  /* Definition of color scheme common for light and dark mode */\n",
       "  --sklearn-color-text: black;\n",
       "  --sklearn-color-line: gray;\n",
       "  /* Definition of color scheme for unfitted estimators */\n",
       "  --sklearn-color-unfitted-level-0: #fff5e6;\n",
       "  --sklearn-color-unfitted-level-1: #f6e4d2;\n",
       "  --sklearn-color-unfitted-level-2: #ffe0b3;\n",
       "  --sklearn-color-unfitted-level-3: chocolate;\n",
       "  /* Definition of color scheme for fitted estimators */\n",
       "  --sklearn-color-fitted-level-0: #f0f8ff;\n",
       "  --sklearn-color-fitted-level-1: #d4ebff;\n",
       "  --sklearn-color-fitted-level-2: #b3dbfd;\n",
       "  --sklearn-color-fitted-level-3: cornflowerblue;\n",
       "\n",
       "  /* Specific color for light theme */\n",
       "  --sklearn-color-text-on-default-background: var(--sg-text-color, var(--theme-code-foreground, var(--jp-content-font-color1, black)));\n",
       "  --sklearn-color-background: var(--sg-background-color, var(--theme-background, var(--jp-layout-color0, white)));\n",
       "  --sklearn-color-border-box: var(--sg-text-color, var(--theme-code-foreground, var(--jp-content-font-color1, black)));\n",
       "  --sklearn-color-icon: #696969;\n",
       "\n",
       "  @media (prefers-color-scheme: dark) {\n",
       "    /* Redefinition of color scheme for dark theme */\n",
       "    --sklearn-color-text-on-default-background: var(--sg-text-color, var(--theme-code-foreground, var(--jp-content-font-color1, white)));\n",
       "    --sklearn-color-background: var(--sg-background-color, var(--theme-background, var(--jp-layout-color0, #111)));\n",
       "    --sklearn-color-border-box: var(--sg-text-color, var(--theme-code-foreground, var(--jp-content-font-color1, white)));\n",
       "    --sklearn-color-icon: #878787;\n",
       "  }\n",
       "}\n",
       "\n",
       "#sk-container-id-4 {\n",
       "  color: var(--sklearn-color-text);\n",
       "}\n",
       "\n",
       "#sk-container-id-4 pre {\n",
       "  padding: 0;\n",
       "}\n",
       "\n",
       "#sk-container-id-4 input.sk-hidden--visually {\n",
       "  border: 0;\n",
       "  clip: rect(1px 1px 1px 1px);\n",
       "  clip: rect(1px, 1px, 1px, 1px);\n",
       "  height: 1px;\n",
       "  margin: -1px;\n",
       "  overflow: hidden;\n",
       "  padding: 0;\n",
       "  position: absolute;\n",
       "  width: 1px;\n",
       "}\n",
       "\n",
       "#sk-container-id-4 div.sk-dashed-wrapped {\n",
       "  border: 1px dashed var(--sklearn-color-line);\n",
       "  margin: 0 0.4em 0.5em 0.4em;\n",
       "  box-sizing: border-box;\n",
       "  padding-bottom: 0.4em;\n",
       "  background-color: var(--sklearn-color-background);\n",
       "}\n",
       "\n",
       "#sk-container-id-4 div.sk-container {\n",
       "  /* jupyter's `normalize.less` sets `[hidden] { display: none; }`\n",
       "     but bootstrap.min.css set `[hidden] { display: none !important; }`\n",
       "     so we also need the `!important` here to be able to override the\n",
       "     default hidden behavior on the sphinx rendered scikit-learn.org.\n",
       "     See: https://github.com/scikit-learn/scikit-learn/issues/21755 */\n",
       "  display: inline-block !important;\n",
       "  position: relative;\n",
       "}\n",
       "\n",
       "#sk-container-id-4 div.sk-text-repr-fallback {\n",
       "  display: none;\n",
       "}\n",
       "\n",
       "div.sk-parallel-item,\n",
       "div.sk-serial,\n",
       "div.sk-item {\n",
       "  /* draw centered vertical line to link estimators */\n",
       "  background-image: linear-gradient(var(--sklearn-color-text-on-default-background), var(--sklearn-color-text-on-default-background));\n",
       "  background-size: 2px 100%;\n",
       "  background-repeat: no-repeat;\n",
       "  background-position: center center;\n",
       "}\n",
       "\n",
       "/* Parallel-specific style estimator block */\n",
       "\n",
       "#sk-container-id-4 div.sk-parallel-item::after {\n",
       "  content: \"\";\n",
       "  width: 100%;\n",
       "  border-bottom: 2px solid var(--sklearn-color-text-on-default-background);\n",
       "  flex-grow: 1;\n",
       "}\n",
       "\n",
       "#sk-container-id-4 div.sk-parallel {\n",
       "  display: flex;\n",
       "  align-items: stretch;\n",
       "  justify-content: center;\n",
       "  background-color: var(--sklearn-color-background);\n",
       "  position: relative;\n",
       "}\n",
       "\n",
       "#sk-container-id-4 div.sk-parallel-item {\n",
       "  display: flex;\n",
       "  flex-direction: column;\n",
       "}\n",
       "\n",
       "#sk-container-id-4 div.sk-parallel-item:first-child::after {\n",
       "  align-self: flex-end;\n",
       "  width: 50%;\n",
       "}\n",
       "\n",
       "#sk-container-id-4 div.sk-parallel-item:last-child::after {\n",
       "  align-self: flex-start;\n",
       "  width: 50%;\n",
       "}\n",
       "\n",
       "#sk-container-id-4 div.sk-parallel-item:only-child::after {\n",
       "  width: 0;\n",
       "}\n",
       "\n",
       "/* Serial-specific style estimator block */\n",
       "\n",
       "#sk-container-id-4 div.sk-serial {\n",
       "  display: flex;\n",
       "  flex-direction: column;\n",
       "  align-items: center;\n",
       "  background-color: var(--sklearn-color-background);\n",
       "  padding-right: 1em;\n",
       "  padding-left: 1em;\n",
       "}\n",
       "\n",
       "\n",
       "/* Toggleable style: style used for estimator/Pipeline/ColumnTransformer box that is\n",
       "clickable and can be expanded/collapsed.\n",
       "- Pipeline and ColumnTransformer use this feature and define the default style\n",
       "- Estimators will overwrite some part of the style using the `sk-estimator` class\n",
       "*/\n",
       "\n",
       "/* Pipeline and ColumnTransformer style (default) */\n",
       "\n",
       "#sk-container-id-4 div.sk-toggleable {\n",
       "  /* Default theme specific background. It is overwritten whether we have a\n",
       "  specific estimator or a Pipeline/ColumnTransformer */\n",
       "  background-color: var(--sklearn-color-background);\n",
       "}\n",
       "\n",
       "/* Toggleable label */\n",
       "#sk-container-id-4 label.sk-toggleable__label {\n",
       "  cursor: pointer;\n",
       "  display: block;\n",
       "  width: 100%;\n",
       "  margin-bottom: 0;\n",
       "  padding: 0.5em;\n",
       "  box-sizing: border-box;\n",
       "  text-align: center;\n",
       "}\n",
       "\n",
       "#sk-container-id-4 label.sk-toggleable__label-arrow:before {\n",
       "  /* Arrow on the left of the label */\n",
       "  content: \"▸\";\n",
       "  float: left;\n",
       "  margin-right: 0.25em;\n",
       "  color: var(--sklearn-color-icon);\n",
       "}\n",
       "\n",
       "#sk-container-id-4 label.sk-toggleable__label-arrow:hover:before {\n",
       "  color: var(--sklearn-color-text);\n",
       "}\n",
       "\n",
       "/* Toggleable content - dropdown */\n",
       "\n",
       "#sk-container-id-4 div.sk-toggleable__content {\n",
       "  max-height: 0;\n",
       "  max-width: 0;\n",
       "  overflow: hidden;\n",
       "  text-align: left;\n",
       "  /* unfitted */\n",
       "  background-color: var(--sklearn-color-unfitted-level-0);\n",
       "}\n",
       "\n",
       "#sk-container-id-4 div.sk-toggleable__content.fitted {\n",
       "  /* fitted */\n",
       "  background-color: var(--sklearn-color-fitted-level-0);\n",
       "}\n",
       "\n",
       "#sk-container-id-4 div.sk-toggleable__content pre {\n",
       "  margin: 0.2em;\n",
       "  border-radius: 0.25em;\n",
       "  color: var(--sklearn-color-text);\n",
       "  /* unfitted */\n",
       "  background-color: var(--sklearn-color-unfitted-level-0);\n",
       "}\n",
       "\n",
       "#sk-container-id-4 div.sk-toggleable__content.fitted pre {\n",
       "  /* unfitted */\n",
       "  background-color: var(--sklearn-color-fitted-level-0);\n",
       "}\n",
       "\n",
       "#sk-container-id-4 input.sk-toggleable__control:checked~div.sk-toggleable__content {\n",
       "  /* Expand drop-down */\n",
       "  max-height: 200px;\n",
       "  max-width: 100%;\n",
       "  overflow: auto;\n",
       "}\n",
       "\n",
       "#sk-container-id-4 input.sk-toggleable__control:checked~label.sk-toggleable__label-arrow:before {\n",
       "  content: \"▾\";\n",
       "}\n",
       "\n",
       "/* Pipeline/ColumnTransformer-specific style */\n",
       "\n",
       "#sk-container-id-4 div.sk-label input.sk-toggleable__control:checked~label.sk-toggleable__label {\n",
       "  color: var(--sklearn-color-text);\n",
       "  background-color: var(--sklearn-color-unfitted-level-2);\n",
       "}\n",
       "\n",
       "#sk-container-id-4 div.sk-label.fitted input.sk-toggleable__control:checked~label.sk-toggleable__label {\n",
       "  background-color: var(--sklearn-color-fitted-level-2);\n",
       "}\n",
       "\n",
       "/* Estimator-specific style */\n",
       "\n",
       "/* Colorize estimator box */\n",
       "#sk-container-id-4 div.sk-estimator input.sk-toggleable__control:checked~label.sk-toggleable__label {\n",
       "  /* unfitted */\n",
       "  background-color: var(--sklearn-color-unfitted-level-2);\n",
       "}\n",
       "\n",
       "#sk-container-id-4 div.sk-estimator.fitted input.sk-toggleable__control:checked~label.sk-toggleable__label {\n",
       "  /* fitted */\n",
       "  background-color: var(--sklearn-color-fitted-level-2);\n",
       "}\n",
       "\n",
       "#sk-container-id-4 div.sk-label label.sk-toggleable__label,\n",
       "#sk-container-id-4 div.sk-label label {\n",
       "  /* The background is the default theme color */\n",
       "  color: var(--sklearn-color-text-on-default-background);\n",
       "}\n",
       "\n",
       "/* On hover, darken the color of the background */\n",
       "#sk-container-id-4 div.sk-label:hover label.sk-toggleable__label {\n",
       "  color: var(--sklearn-color-text);\n",
       "  background-color: var(--sklearn-color-unfitted-level-2);\n",
       "}\n",
       "\n",
       "/* Label box, darken color on hover, fitted */\n",
       "#sk-container-id-4 div.sk-label.fitted:hover label.sk-toggleable__label.fitted {\n",
       "  color: var(--sklearn-color-text);\n",
       "  background-color: var(--sklearn-color-fitted-level-2);\n",
       "}\n",
       "\n",
       "/* Estimator label */\n",
       "\n",
       "#sk-container-id-4 div.sk-label label {\n",
       "  font-family: monospace;\n",
       "  font-weight: bold;\n",
       "  display: inline-block;\n",
       "  line-height: 1.2em;\n",
       "}\n",
       "\n",
       "#sk-container-id-4 div.sk-label-container {\n",
       "  text-align: center;\n",
       "}\n",
       "\n",
       "/* Estimator-specific */\n",
       "#sk-container-id-4 div.sk-estimator {\n",
       "  font-family: monospace;\n",
       "  border: 1px dotted var(--sklearn-color-border-box);\n",
       "  border-radius: 0.25em;\n",
       "  box-sizing: border-box;\n",
       "  margin-bottom: 0.5em;\n",
       "  /* unfitted */\n",
       "  background-color: var(--sklearn-color-unfitted-level-0);\n",
       "}\n",
       "\n",
       "#sk-container-id-4 div.sk-estimator.fitted {\n",
       "  /* fitted */\n",
       "  background-color: var(--sklearn-color-fitted-level-0);\n",
       "}\n",
       "\n",
       "/* on hover */\n",
       "#sk-container-id-4 div.sk-estimator:hover {\n",
       "  /* unfitted */\n",
       "  background-color: var(--sklearn-color-unfitted-level-2);\n",
       "}\n",
       "\n",
       "#sk-container-id-4 div.sk-estimator.fitted:hover {\n",
       "  /* fitted */\n",
       "  background-color: var(--sklearn-color-fitted-level-2);\n",
       "}\n",
       "\n",
       "/* Specification for estimator info (e.g. \"i\" and \"?\") */\n",
       "\n",
       "/* Common style for \"i\" and \"?\" */\n",
       "\n",
       ".sk-estimator-doc-link,\n",
       "a:link.sk-estimator-doc-link,\n",
       "a:visited.sk-estimator-doc-link {\n",
       "  float: right;\n",
       "  font-size: smaller;\n",
       "  line-height: 1em;\n",
       "  font-family: monospace;\n",
       "  background-color: var(--sklearn-color-background);\n",
       "  border-radius: 1em;\n",
       "  height: 1em;\n",
       "  width: 1em;\n",
       "  text-decoration: none !important;\n",
       "  margin-left: 1ex;\n",
       "  /* unfitted */\n",
       "  border: var(--sklearn-color-unfitted-level-1) 1pt solid;\n",
       "  color: var(--sklearn-color-unfitted-level-1);\n",
       "}\n",
       "\n",
       ".sk-estimator-doc-link.fitted,\n",
       "a:link.sk-estimator-doc-link.fitted,\n",
       "a:visited.sk-estimator-doc-link.fitted {\n",
       "  /* fitted */\n",
       "  border: var(--sklearn-color-fitted-level-1) 1pt solid;\n",
       "  color: var(--sklearn-color-fitted-level-1);\n",
       "}\n",
       "\n",
       "/* On hover */\n",
       "div.sk-estimator:hover .sk-estimator-doc-link:hover,\n",
       ".sk-estimator-doc-link:hover,\n",
       "div.sk-label-container:hover .sk-estimator-doc-link:hover,\n",
       ".sk-estimator-doc-link:hover {\n",
       "  /* unfitted */\n",
       "  background-color: var(--sklearn-color-unfitted-level-3);\n",
       "  color: var(--sklearn-color-background);\n",
       "  text-decoration: none;\n",
       "}\n",
       "\n",
       "div.sk-estimator.fitted:hover .sk-estimator-doc-link.fitted:hover,\n",
       ".sk-estimator-doc-link.fitted:hover,\n",
       "div.sk-label-container:hover .sk-estimator-doc-link.fitted:hover,\n",
       ".sk-estimator-doc-link.fitted:hover {\n",
       "  /* fitted */\n",
       "  background-color: var(--sklearn-color-fitted-level-3);\n",
       "  color: var(--sklearn-color-background);\n",
       "  text-decoration: none;\n",
       "}\n",
       "\n",
       "/* Span, style for the box shown on hovering the info icon */\n",
       ".sk-estimator-doc-link span {\n",
       "  display: none;\n",
       "  z-index: 9999;\n",
       "  position: relative;\n",
       "  font-weight: normal;\n",
       "  right: .2ex;\n",
       "  padding: .5ex;\n",
       "  margin: .5ex;\n",
       "  width: min-content;\n",
       "  min-width: 20ex;\n",
       "  max-width: 50ex;\n",
       "  color: var(--sklearn-color-text);\n",
       "  box-shadow: 2pt 2pt 4pt #999;\n",
       "  /* unfitted */\n",
       "  background: var(--sklearn-color-unfitted-level-0);\n",
       "  border: .5pt solid var(--sklearn-color-unfitted-level-3);\n",
       "}\n",
       "\n",
       ".sk-estimator-doc-link.fitted span {\n",
       "  /* fitted */\n",
       "  background: var(--sklearn-color-fitted-level-0);\n",
       "  border: var(--sklearn-color-fitted-level-3);\n",
       "}\n",
       "\n",
       ".sk-estimator-doc-link:hover span {\n",
       "  display: block;\n",
       "}\n",
       "\n",
       "/* \"?\"-specific style due to the `<a>` HTML tag */\n",
       "\n",
       "#sk-container-id-4 a.estimator_doc_link {\n",
       "  float: right;\n",
       "  font-size: 1rem;\n",
       "  line-height: 1em;\n",
       "  font-family: monospace;\n",
       "  background-color: var(--sklearn-color-background);\n",
       "  border-radius: 1rem;\n",
       "  height: 1rem;\n",
       "  width: 1rem;\n",
       "  text-decoration: none;\n",
       "  /* unfitted */\n",
       "  color: var(--sklearn-color-unfitted-level-1);\n",
       "  border: var(--sklearn-color-unfitted-level-1) 1pt solid;\n",
       "}\n",
       "\n",
       "#sk-container-id-4 a.estimator_doc_link.fitted {\n",
       "  /* fitted */\n",
       "  border: var(--sklearn-color-fitted-level-1) 1pt solid;\n",
       "  color: var(--sklearn-color-fitted-level-1);\n",
       "}\n",
       "\n",
       "/* On hover */\n",
       "#sk-container-id-4 a.estimator_doc_link:hover {\n",
       "  /* unfitted */\n",
       "  background-color: var(--sklearn-color-unfitted-level-3);\n",
       "  color: var(--sklearn-color-background);\n",
       "  text-decoration: none;\n",
       "}\n",
       "\n",
       "#sk-container-id-4 a.estimator_doc_link.fitted:hover {\n",
       "  /* fitted */\n",
       "  background-color: var(--sklearn-color-fitted-level-3);\n",
       "}\n",
       "</style><div id=\"sk-container-id-4\" class=\"sk-top-container\"><div class=\"sk-text-repr-fallback\"><pre>GradientBoostingClassifier(random_state=42)</pre><b>In a Jupyter environment, please rerun this cell to show the HTML representation or trust the notebook. <br />On GitHub, the HTML representation is unable to render, please try loading this page with nbviewer.org.</b></div><div class=\"sk-container\" hidden><div class=\"sk-item\"><div class=\"sk-estimator fitted sk-toggleable\"><input class=\"sk-toggleable__control sk-hidden--visually\" id=\"sk-estimator-id-4\" type=\"checkbox\" checked><label for=\"sk-estimator-id-4\" class=\"sk-toggleable__label fitted sk-toggleable__label-arrow fitted\">&nbsp;&nbsp;GradientBoostingClassifier<a class=\"sk-estimator-doc-link fitted\" rel=\"noreferrer\" target=\"_blank\" href=\"https://scikit-learn.org/1.5/modules/generated/sklearn.ensemble.GradientBoostingClassifier.html\">?<span>Documentation for GradientBoostingClassifier</span></a><span class=\"sk-estimator-doc-link fitted\">i<span>Fitted</span></span></label><div class=\"sk-toggleable__content fitted\"><pre>GradientBoostingClassifier(random_state=42)</pre></div> </div></div></div></div>"
      ],
      "text/plain": [
       "GradientBoostingClassifier(random_state=42)"
      ]
     },
     "execution_count": 185,
     "metadata": {},
     "output_type": "execute_result"
    }
   ],
   "source": [
    "# Building the model\n",
    "\n",
    "# Uncomment only one of the snippets related to fitting the model to the data\n",
    "\n",
    "#base_wv = GradientBoostingClassifier(random_state=42)\n",
    "#base_wv = RandomForestClassifier(random_state=42)\n",
    "#base_wv = DecisionTreeClassifier(random_state=42)\n",
    "\n",
    "base_gl = GradientBoostingClassifier(random_state=42)\n",
    "#base_wv = RandomForestClassifier(random_state=42)\n",
    "#base_wv = DecisionTreeClassifier(random_state=42)\n",
    "\n",
    "# Fitting on train data\n",
    "base_gl.fit(X_train_gl, y_train) #Complete the code to fit the chosen model on the train data"
   ]
  },
  {
   "cell_type": "code",
   "execution_count": 186,
   "id": "d9b1ea53",
   "metadata": {},
   "outputs": [
    {
     "data": {
      "image/png": "[encoded data removed]",
      "text/plain": [
       "<Figure size 500x400 with 2 Axes>"
      ]
     },
     "metadata": {},
     "output_type": "display_data"
    }
   ],
   "source": [
    "# Plot the confusion matrix for the train data\n",
    "plot_confusion_matrix(base_gl,X_train_gl,y_train) "
   ]
  },
  {
   "cell_type": "code",
   "execution_count": 187,
   "id": "461f50ea",
   "metadata": {},
   "outputs": [
    {
     "data": {
      "image/png": "[encoded data removed]",
      "text/plain": [
       "<Figure size 500x400 with 2 Axes>"
      ]
     },
     "metadata": {},
     "output_type": "display_data"
    }
   ],
   "source": [
    "# Plot the confusion matrix for the validation data\n",
    "plot_confusion_matrix(base_gl,X_val_gl,y_val) "
   ]
  },
  {
   "cell_type": "code",
   "execution_count": 188,
   "id": "456007f6",
   "metadata": {},
   "outputs": [
    {
     "name": "stdout",
     "output_type": "stream",
     "text": [
      "Training performance:\n",
      "    Accuracy  Recall  Precision   F1\n",
      "0       1.0     1.0        1.0  1.0\n"
     ]
    }
   ],
   "source": [
    "# Calculating different metrics on training data\n",
    "\n",
    "# Compute the model performance for the training data\n",
    "base_train_gl=model_performance_classification_sklearn(base_gl,X_train_gl,y_train)\n",
    "print(\"Training performance:\\n\", base_train_gl)"
   ]
  },
  {
   "cell_type": "markdown",
   "id": "63876d5b",
   "metadata": {},
   "source": [
    "Summary:\n",
    "The model has achieved perfect scores (1.0) for accuracy, recall, precision, and F1 on the training data.\n",
    "These results suggest that the model has perfectly learned the training data without any errors.\n",
    "Potential Concerns:\n",
    "Overfitting:\n",
    "\n",
    "The perfect scores on the training data may indicate that the model has overfitted to the training data. Overfitting occurs when a model learns the training data too well, including noise and outliers, and fails to generalize to new, unseen data.\n",
    "To confirm whether the model is overfitting, it is essential to evaluate its performance on the validation and test datasets. If the model's performance on these datasets is significantly lower than on the training data, it is likely overfitting.\n",
    "Model Complexity:\n",
    "\n",
    "The perfect training performance may also suggest that the model is highly complex and has a large capacity to memorize the training data. Simplifying the model or using regularization techniques may help improve its generalization ability."
   ]
  },
  {
   "cell_type": "code",
   "execution_count": 189,
   "id": "8f6a58ab",
   "metadata": {},
   "outputs": [
    {
     "name": "stdout",
     "output_type": "stream",
     "text": [
      "Validation performance:\n",
      "    Accuracy    Recall  Precision        F1\n",
      "0  0.380952  0.380952   0.326531  0.351648\n"
     ]
    }
   ],
   "source": [
    "# Calculating different metrics on validation data\n",
    "\n",
    "# Compute the model performance for the validation data\n",
    "base_val_gl = model_performance_classification_sklearn(base_gl,X_val_gl,y_val) \n",
    "print(\"Validation performance:\\n\",base_val_gl)\n"
   ]
  },
  {
   "cell_type": "markdown",
   "id": "32274565",
   "metadata": {},
   "source": [
    "Summary:\n",
    "The model's performance on the validation data is relatively low, with an accuracy of 38.10%, recall of 38.10%, precision of 32.65%, and F1 score of 35.16%.\n",
    "These results suggest that the model is not performing well on the validation data and may have difficulty generalizing to new, unseen data.\n",
    "Potential Concerns:\n",
    "Underfitting:\n",
    "\n",
    "The low performance metrics on the validation data may indicate that the model is underfitting. Underfitting occurs when a model is too simple to capture the underlying patterns in the data, leading to poor performance on both the training and validation datasets.\n",
    "To confirm whether the model is underfitting, it is essential to compare its performance on the training data. If the training performance is also low, the model is likely underfitting.\n",
    "Model Complexity:\n",
    "\n",
    "The model may be too simple or not well-tuned for the task at hand. Increasing the model complexity, adding more features, or tuning hyperparameters may help improve its performance.\n",
    "Data Quality and Quantity:\n",
    "\n",
    "The quality and quantity of the training data can significantly impact the model's performance. Ensuring that the data is clean, well-labeled, and representative of the problem domain is crucial.\n",
    "Gathering more training data or using data augmentation techniques may help improve the model's performance."
   ]
  },
  {
   "cell_type": "markdown",
   "id": "40a538cb",
   "metadata": {},
   "source": [
    "### Base Model - Sentence Transformer"
   ]
  },
  {
   "cell_type": "code",
   "execution_count": 190,
   "id": "faf4eafe",
   "metadata": {},
   "outputs": [
    {
     "data": {
      "text/html": [
       "<style>#sk-container-id-5 {\n",
       "  /* Definition of color scheme common for light and dark mode */\n",
       "  --sklearn-color-text: black;\n",
       "  --sklearn-color-line: gray;\n",
       "  /* Definition of color scheme for unfitted estimators */\n",
       "  --sklearn-color-unfitted-level-0: #fff5e6;\n",
       "  --sklearn-color-unfitted-level-1: #f6e4d2;\n",
       "  --sklearn-color-unfitted-level-2: #ffe0b3;\n",
       "  --sklearn-color-unfitted-level-3: chocolate;\n",
       "  /* Definition of color scheme for fitted estimators */\n",
       "  --sklearn-color-fitted-level-0: #f0f8ff;\n",
       "  --sklearn-color-fitted-level-1: #d4ebff;\n",
       "  --sklearn-color-fitted-level-2: #b3dbfd;\n",
       "  --sklearn-color-fitted-level-3: cornflowerblue;\n",
       "\n",
       "  /* Specific color for light theme */\n",
       "  --sklearn-color-text-on-default-background: var(--sg-text-color, var(--theme-code-foreground, var(--jp-content-font-color1, black)));\n",
       "  --sklearn-color-background: var(--sg-background-color, var(--theme-background, var(--jp-layout-color0, white)));\n",
       "  --sklearn-color-border-box: var(--sg-text-color, var(--theme-code-foreground, var(--jp-content-font-color1, black)));\n",
       "  --sklearn-color-icon: #696969;\n",
       "\n",
       "  @media (prefers-color-scheme: dark) {\n",
       "    /* Redefinition of color scheme for dark theme */\n",
       "    --sklearn-color-text-on-default-background: var(--sg-text-color, var(--theme-code-foreground, var(--jp-content-font-color1, white)));\n",
       "    --sklearn-color-background: var(--sg-background-color, var(--theme-background, var(--jp-layout-color0, #111)));\n",
       "    --sklearn-color-border-box: var(--sg-text-color, var(--theme-code-foreground, var(--jp-content-font-color1, white)));\n",
       "    --sklearn-color-icon: #878787;\n",
       "  }\n",
       "}\n",
       "\n",
       "#sk-container-id-5 {\n",
       "  color: var(--sklearn-color-text);\n",
       "}\n",
       "\n",
       "#sk-container-id-5 pre {\n",
       "  padding: 0;\n",
       "}\n",
       "\n",
       "#sk-container-id-5 input.sk-hidden--visually {\n",
       "  border: 0;\n",
       "  clip: rect(1px 1px 1px 1px);\n",
       "  clip: rect(1px, 1px, 1px, 1px);\n",
       "  height: 1px;\n",
       "  margin: -1px;\n",
       "  overflow: hidden;\n",
       "  padding: 0;\n",
       "  position: absolute;\n",
       "  width: 1px;\n",
       "}\n",
       "\n",
       "#sk-container-id-5 div.sk-dashed-wrapped {\n",
       "  border: 1px dashed var(--sklearn-color-line);\n",
       "  margin: 0 0.4em 0.5em 0.4em;\n",
       "  box-sizing: border-box;\n",
       "  padding-bottom: 0.4em;\n",
       "  background-color: var(--sklearn-color-background);\n",
       "}\n",
       "\n",
       "#sk-container-id-5 div.sk-container {\n",
       "  /* jupyter's `normalize.less` sets `[hidden] { display: none; }`\n",
       "     but bootstrap.min.css set `[hidden] { display: none !important; }`\n",
       "     so we also need the `!important` here to be able to override the\n",
       "     default hidden behavior on the sphinx rendered scikit-learn.org.\n",
       "     See: https://github.com/scikit-learn/scikit-learn/issues/21755 */\n",
       "  display: inline-block !important;\n",
       "  position: relative;\n",
       "}\n",
       "\n",
       "#sk-container-id-5 div.sk-text-repr-fallback {\n",
       "  display: none;\n",
       "}\n",
       "\n",
       "div.sk-parallel-item,\n",
       "div.sk-serial,\n",
       "div.sk-item {\n",
       "  /* draw centered vertical line to link estimators */\n",
       "  background-image: linear-gradient(var(--sklearn-color-text-on-default-background), var(--sklearn-color-text-on-default-background));\n",
       "  background-size: 2px 100%;\n",
       "  background-repeat: no-repeat;\n",
       "  background-position: center center;\n",
       "}\n",
       "\n",
       "/* Parallel-specific style estimator block */\n",
       "\n",
       "#sk-container-id-5 div.sk-parallel-item::after {\n",
       "  content: \"\";\n",
       "  width: 100%;\n",
       "  border-bottom: 2px solid var(--sklearn-color-text-on-default-background);\n",
       "  flex-grow: 1;\n",
       "}\n",
       "\n",
       "#sk-container-id-5 div.sk-parallel {\n",
       "  display: flex;\n",
       "  align-items: stretch;\n",
       "  justify-content: center;\n",
       "  background-color: var(--sklearn-color-background);\n",
       "  position: relative;\n",
       "}\n",
       "\n",
       "#sk-container-id-5 div.sk-parallel-item {\n",
       "  display: flex;\n",
       "  flex-direction: column;\n",
       "}\n",
       "\n",
       "#sk-container-id-5 div.sk-parallel-item:first-child::after {\n",
       "  align-self: flex-end;\n",
       "  width: 50%;\n",
       "}\n",
       "\n",
       "#sk-container-id-5 div.sk-parallel-item:last-child::after {\n",
       "  align-self: flex-start;\n",
       "  width: 50%;\n",
       "}\n",
       "\n",
       "#sk-container-id-5 div.sk-parallel-item:only-child::after {\n",
       "  width: 0;\n",
       "}\n",
       "\n",
       "/* Serial-specific style estimator block */\n",
       "\n",
       "#sk-container-id-5 div.sk-serial {\n",
       "  display: flex;\n",
       "  flex-direction: column;\n",
       "  align-items: center;\n",
       "  background-color: var(--sklearn-color-background);\n",
       "  padding-right: 1em;\n",
       "  padding-left: 1em;\n",
       "}\n",
       "\n",
       "\n",
       "/* Toggleable style: style used for estimator/Pipeline/ColumnTransformer box that is\n",
       "clickable and can be expanded/collapsed.\n",
       "- Pipeline and ColumnTransformer use this feature and define the default style\n",
       "- Estimators will overwrite some part of the style using the `sk-estimator` class\n",
       "*/\n",
       "\n",
       "/* Pipeline and ColumnTransformer style (default) */\n",
       "\n",
       "#sk-container-id-5 div.sk-toggleable {\n",
       "  /* Default theme specific background. It is overwritten whether we have a\n",
       "  specific estimator or a Pipeline/ColumnTransformer */\n",
       "  background-color: var(--sklearn-color-background);\n",
       "}\n",
       "\n",
       "/* Toggleable label */\n",
       "#sk-container-id-5 label.sk-toggleable__label {\n",
       "  cursor: pointer;\n",
       "  display: block;\n",
       "  width: 100%;\n",
       "  margin-bottom: 0;\n",
       "  padding: 0.5em;\n",
       "  box-sizing: border-box;\n",
       "  text-align: center;\n",
       "}\n",
       "\n",
       "#sk-container-id-5 label.sk-toggleable__label-arrow:before {\n",
       "  /* Arrow on the left of the label */\n",
       "  content: \"▸\";\n",
       "  float: left;\n",
       "  margin-right: 0.25em;\n",
       "  color: var(--sklearn-color-icon);\n",
       "}\n",
       "\n",
       "#sk-container-id-5 label.sk-toggleable__label-arrow:hover:before {\n",
       "  color: var(--sklearn-color-text);\n",
       "}\n",
       "\n",
       "/* Toggleable content - dropdown */\n",
       "\n",
       "#sk-container-id-5 div.sk-toggleable__content {\n",
       "  max-height: 0;\n",
       "  max-width: 0;\n",
       "  overflow: hidden;\n",
       "  text-align: left;\n",
       "  /* unfitted */\n",
       "  background-color: var(--sklearn-color-unfitted-level-0);\n",
       "}\n",
       "\n",
       "#sk-container-id-5 div.sk-toggleable__content.fitted {\n",
       "  /* fitted */\n",
       "  background-color: var(--sklearn-color-fitted-level-0);\n",
       "}\n",
       "\n",
       "#sk-container-id-5 div.sk-toggleable__content pre {\n",
       "  margin: 0.2em;\n",
       "  border-radius: 0.25em;\n",
       "  color: var(--sklearn-color-text);\n",
       "  /* unfitted */\n",
       "  background-color: var(--sklearn-color-unfitted-level-0);\n",
       "}\n",
       "\n",
       "#sk-container-id-5 div.sk-toggleable__content.fitted pre {\n",
       "  /* unfitted */\n",
       "  background-color: var(--sklearn-color-fitted-level-0);\n",
       "}\n",
       "\n",
       "#sk-container-id-5 input.sk-toggleable__control:checked~div.sk-toggleable__content {\n",
       "  /* Expand drop-down */\n",
       "  max-height: 200px;\n",
       "  max-width: 100%;\n",
       "  overflow: auto;\n",
       "}\n",
       "\n",
       "#sk-container-id-5 input.sk-toggleable__control:checked~label.sk-toggleable__label-arrow:before {\n",
       "  content: \"▾\";\n",
       "}\n",
       "\n",
       "/* Pipeline/ColumnTransformer-specific style */\n",
       "\n",
       "#sk-container-id-5 div.sk-label input.sk-toggleable__control:checked~label.sk-toggleable__label {\n",
       "  color: var(--sklearn-color-text);\n",
       "  background-color: var(--sklearn-color-unfitted-level-2);\n",
       "}\n",
       "\n",
       "#sk-container-id-5 div.sk-label.fitted input.sk-toggleable__control:checked~label.sk-toggleable__label {\n",
       "  background-color: var(--sklearn-color-fitted-level-2);\n",
       "}\n",
       "\n",
       "/* Estimator-specific style */\n",
       "\n",
       "/* Colorize estimator box */\n",
       "#sk-container-id-5 div.sk-estimator input.sk-toggleable__control:checked~label.sk-toggleable__label {\n",
       "  /* unfitted */\n",
       "  background-color: var(--sklearn-color-unfitted-level-2);\n",
       "}\n",
       "\n",
       "#sk-container-id-5 div.sk-estimator.fitted input.sk-toggleable__control:checked~label.sk-toggleable__label {\n",
       "  /* fitted */\n",
       "  background-color: var(--sklearn-color-fitted-level-2);\n",
       "}\n",
       "\n",
       "#sk-container-id-5 div.sk-label label.sk-toggleable__label,\n",
       "#sk-container-id-5 div.sk-label label {\n",
       "  /* The background is the default theme color */\n",
       "  color: var(--sklearn-color-text-on-default-background);\n",
       "}\n",
       "\n",
       "/* On hover, darken the color of the background */\n",
       "#sk-container-id-5 div.sk-label:hover label.sk-toggleable__label {\n",
       "  color: var(--sklearn-color-text);\n",
       "  background-color: var(--sklearn-color-unfitted-level-2);\n",
       "}\n",
       "\n",
       "/* Label box, darken color on hover, fitted */\n",
       "#sk-container-id-5 div.sk-label.fitted:hover label.sk-toggleable__label.fitted {\n",
       "  color: var(--sklearn-color-text);\n",
       "  background-color: var(--sklearn-color-fitted-level-2);\n",
       "}\n",
       "\n",
       "/* Estimator label */\n",
       "\n",
       "#sk-container-id-5 div.sk-label label {\n",
       "  font-family: monospace;\n",
       "  font-weight: bold;\n",
       "  display: inline-block;\n",
       "  line-height: 1.2em;\n",
       "}\n",
       "\n",
       "#sk-container-id-5 div.sk-label-container {\n",
       "  text-align: center;\n",
       "}\n",
       "\n",
       "/* Estimator-specific */\n",
       "#sk-container-id-5 div.sk-estimator {\n",
       "  font-family: monospace;\n",
       "  border: 1px dotted var(--sklearn-color-border-box);\n",
       "  border-radius: 0.25em;\n",
       "  box-sizing: border-box;\n",
       "  margin-bottom: 0.5em;\n",
       "  /* unfitted */\n",
       "  background-color: var(--sklearn-color-unfitted-level-0);\n",
       "}\n",
       "\n",
       "#sk-container-id-5 div.sk-estimator.fitted {\n",
       "  /* fitted */\n",
       "  background-color: var(--sklearn-color-fitted-level-0);\n",
       "}\n",
       "\n",
       "/* on hover */\n",
       "#sk-container-id-5 div.sk-estimator:hover {\n",
       "  /* unfitted */\n",
       "  background-color: var(--sklearn-color-unfitted-level-2);\n",
       "}\n",
       "\n",
       "#sk-container-id-5 div.sk-estimator.fitted:hover {\n",
       "  /* fitted */\n",
       "  background-color: var(--sklearn-color-fitted-level-2);\n",
       "}\n",
       "\n",
       "/* Specification for estimator info (e.g. \"i\" and \"?\") */\n",
       "\n",
       "/* Common style for \"i\" and \"?\" */\n",
       "\n",
       ".sk-estimator-doc-link,\n",
       "a:link.sk-estimator-doc-link,\n",
       "a:visited.sk-estimator-doc-link {\n",
       "  float: right;\n",
       "  font-size: smaller;\n",
       "  line-height: 1em;\n",
       "  font-family: monospace;\n",
       "  background-color: var(--sklearn-color-background);\n",
       "  border-radius: 1em;\n",
       "  height: 1em;\n",
       "  width: 1em;\n",
       "  text-decoration: none !important;\n",
       "  margin-left: 1ex;\n",
       "  /* unfitted */\n",
       "  border: var(--sklearn-color-unfitted-level-1) 1pt solid;\n",
       "  color: var(--sklearn-color-unfitted-level-1);\n",
       "}\n",
       "\n",
       ".sk-estimator-doc-link.fitted,\n",
       "a:link.sk-estimator-doc-link.fitted,\n",
       "a:visited.sk-estimator-doc-link.fitted {\n",
       "  /* fitted */\n",
       "  border: var(--sklearn-color-fitted-level-1) 1pt solid;\n",
       "  color: var(--sklearn-color-fitted-level-1);\n",
       "}\n",
       "\n",
       "/* On hover */\n",
       "div.sk-estimator:hover .sk-estimator-doc-link:hover,\n",
       ".sk-estimator-doc-link:hover,\n",
       "div.sk-label-container:hover .sk-estimator-doc-link:hover,\n",
       ".sk-estimator-doc-link:hover {\n",
       "  /* unfitted */\n",
       "  background-color: var(--sklearn-color-unfitted-level-3);\n",
       "  color: var(--sklearn-color-background);\n",
       "  text-decoration: none;\n",
       "}\n",
       "\n",
       "div.sk-estimator.fitted:hover .sk-estimator-doc-link.fitted:hover,\n",
       ".sk-estimator-doc-link.fitted:hover,\n",
       "div.sk-label-container:hover .sk-estimator-doc-link.fitted:hover,\n",
       ".sk-estimator-doc-link.fitted:hover {\n",
       "  /* fitted */\n",
       "  background-color: var(--sklearn-color-fitted-level-3);\n",
       "  color: var(--sklearn-color-background);\n",
       "  text-decoration: none;\n",
       "}\n",
       "\n",
       "/* Span, style for the box shown on hovering the info icon */\n",
       ".sk-estimator-doc-link span {\n",
       "  display: none;\n",
       "  z-index: 9999;\n",
       "  position: relative;\n",
       "  font-weight: normal;\n",
       "  right: .2ex;\n",
       "  padding: .5ex;\n",
       "  margin: .5ex;\n",
       "  width: min-content;\n",
       "  min-width: 20ex;\n",
       "  max-width: 50ex;\n",
       "  color: var(--sklearn-color-text);\n",
       "  box-shadow: 2pt 2pt 4pt #999;\n",
       "  /* unfitted */\n",
       "  background: var(--sklearn-color-unfitted-level-0);\n",
       "  border: .5pt solid var(--sklearn-color-unfitted-level-3);\n",
       "}\n",
       "\n",
       ".sk-estimator-doc-link.fitted span {\n",
       "  /* fitted */\n",
       "  background: var(--sklearn-color-fitted-level-0);\n",
       "  border: var(--sklearn-color-fitted-level-3);\n",
       "}\n",
       "\n",
       ".sk-estimator-doc-link:hover span {\n",
       "  display: block;\n",
       "}\n",
       "\n",
       "/* \"?\"-specific style due to the `<a>` HTML tag */\n",
       "\n",
       "#sk-container-id-5 a.estimator_doc_link {\n",
       "  float: right;\n",
       "  font-size: 1rem;\n",
       "  line-height: 1em;\n",
       "  font-family: monospace;\n",
       "  background-color: var(--sklearn-color-background);\n",
       "  border-radius: 1rem;\n",
       "  height: 1rem;\n",
       "  width: 1rem;\n",
       "  text-decoration: none;\n",
       "  /* unfitted */\n",
       "  color: var(--sklearn-color-unfitted-level-1);\n",
       "  border: var(--sklearn-color-unfitted-level-1) 1pt solid;\n",
       "}\n",
       "\n",
       "#sk-container-id-5 a.estimator_doc_link.fitted {\n",
       "  /* fitted */\n",
       "  border: var(--sklearn-color-fitted-level-1) 1pt solid;\n",
       "  color: var(--sklearn-color-fitted-level-1);\n",
       "}\n",
       "\n",
       "/* On hover */\n",
       "#sk-container-id-5 a.estimator_doc_link:hover {\n",
       "  /* unfitted */\n",
       "  background-color: var(--sklearn-color-unfitted-level-3);\n",
       "  color: var(--sklearn-color-background);\n",
       "  text-decoration: none;\n",
       "}\n",
       "\n",
       "#sk-container-id-5 a.estimator_doc_link.fitted:hover {\n",
       "  /* fitted */\n",
       "  background-color: var(--sklearn-color-fitted-level-3);\n",
       "}\n",
       "</style><div id=\"sk-container-id-5\" class=\"sk-top-container\"><div class=\"sk-text-repr-fallback\"><pre>GradientBoostingClassifier(random_state=42)</pre><b>In a Jupyter environment, please rerun this cell to show the HTML representation or trust the notebook. <br />On GitHub, the HTML representation is unable to render, please try loading this page with nbviewer.org.</b></div><div class=\"sk-container\" hidden><div class=\"sk-item\"><div class=\"sk-estimator fitted sk-toggleable\"><input class=\"sk-toggleable__control sk-hidden--visually\" id=\"sk-estimator-id-5\" type=\"checkbox\" checked><label for=\"sk-estimator-id-5\" class=\"sk-toggleable__label fitted sk-toggleable__label-arrow fitted\">&nbsp;&nbsp;GradientBoostingClassifier<a class=\"sk-estimator-doc-link fitted\" rel=\"noreferrer\" target=\"_blank\" href=\"https://scikit-learn.org/1.5/modules/generated/sklearn.ensemble.GradientBoostingClassifier.html\">?<span>Documentation for GradientBoostingClassifier</span></a><span class=\"sk-estimator-doc-link fitted\">i<span>Fitted</span></span></label><div class=\"sk-toggleable__content fitted\"><pre>GradientBoostingClassifier(random_state=42)</pre></div> </div></div></div></div>"
      ],
      "text/plain": [
       "GradientBoostingClassifier(random_state=42)"
      ]
     },
     "execution_count": 190,
     "metadata": {},
     "output_type": "execute_result"
    }
   ],
   "source": [
    "# Building the model\n",
    "\n",
    "#Uncomment only one of the snippets related to fitting the model to the data\n",
    "\n",
    "#base_wv = GradientBoostingClassifier(random_state = 42)\n",
    "#base_wv = RandomForestClassifier(random_state=42)\n",
    "#base_wv = DecisionTreeClassifier(random_state=42)\n",
    "\n",
    "base_st = GradientBoostingClassifier(random_state=42)\n",
    "#base_wv = RandomForestClassifier(random_state=42)\n",
    "#base_wv = DecisionTreeClassifier(random_state=42)\n",
    "\n",
    "# Fitting on train data\n",
    "base_st.fit(X_train_st, y_train) #Complete the code to fit the chosen model on the train data"
   ]
  },
  {
   "cell_type": "code",
   "execution_count": 191,
   "id": "976e28da",
   "metadata": {},
   "outputs": [
    {
     "data": {
      "image/png": "[encoded data removed]",
      "text/plain": [
       "<Figure size 500x400 with 2 Axes>"
      ]
     },
     "metadata": {},
     "output_type": "display_data"
    }
   ],
   "source": [
    "# Plot the confusion matrix for the train data\n",
    "plot_confusion_matrix(base_st,X_train_st,y_train) "
   ]
  },
  {
   "cell_type": "code",
   "execution_count": 192,
   "id": "cc757dea",
   "metadata": {},
   "outputs": [
    {
     "data": {
      "image/png": "[encoded data removed]",
      "text/plain": [
       "<Figure size 500x400 with 2 Axes>"
      ]
     },
     "metadata": {},
     "output_type": "display_data"
    }
   ],
   "source": [
    "# Plot the confusion matrix for the validation data\n",
    "plot_confusion_matrix(base_st,X_val_st,y_val) "
   ]
  },
  {
   "cell_type": "code",
   "execution_count": 193,
   "id": "dc77e962",
   "metadata": {},
   "outputs": [
    {
     "name": "stdout",
     "output_type": "stream",
     "text": [
      "Training performance:\n",
      "    Accuracy  Recall  Precision   F1\n",
      "0       1.0     1.0        1.0  1.0\n"
     ]
    }
   ],
   "source": [
    "# Calculating different metrics on training data\n",
    "\n",
    "# Compute the model performance for the training data\n",
    "base_train_st=model_performance_classification_sklearn(base_st,X_train_st,y_train) \n",
    "print(\"Training performance:\\n\", base_train_st)"
   ]
  },
  {
   "cell_type": "markdown",
   "id": "f4672503",
   "metadata": {},
   "source": [
    "**Observations**\n",
    "\n",
    "\n",
    "\n",
    "\n",
    "\n",
    "\n",
    "\n"
   ]
  },
  {
   "cell_type": "code",
   "execution_count": 194,
   "id": "cfadd782",
   "metadata": {},
   "outputs": [
    {
     "name": "stdout",
     "output_type": "stream",
     "text": [
      "Validation performance:\n",
      "    Accuracy    Recall  Precision        F1\n",
      "0  0.428571  0.428571   0.321429  0.367347\n"
     ]
    }
   ],
   "source": [
    "#Calculating different metrics on validation data\n",
    "\n",
    "# Compute the model performance for the validation data\n",
    "base_val_st = model_performance_classification_sklearn(base_st,X_val_st,y_val) \n",
    "print(\"Validation performance:\\n\",base_val_st)"
   ]
  },
  {
   "cell_type": "markdown",
   "id": "89dbc862",
   "metadata": {},
   "source": [
    "**Observations**\n",
    "\n",
    "\n",
    "\n",
    "\n",
    "\n",
    "\n",
    "\n"
   ]
  },
  {
   "cell_type": "markdown",
   "id": "3f3aad93",
   "metadata": {},
   "source": [
    "---\n",
    "---\n",
    "---\n",
    "---\n",
    "### Tuned Model - Word2Vec"
   ]
  },
  {
   "cell_type": "code",
   "execution_count": null,
   "id": "599b08c4",
   "metadata": {},
   "outputs": [
    {
     "name": "stdout",
     "output_type": "stream",
     "text": [
      "Time taken  655.9046559333801\n"
     ]
    }
   ],
   "source": [
    "start = time.time()\n",
    "\n",
    "# Choose the type of classifier.\n",
    "\n",
    "#Uncomment only one of the snippets corrrsponding to the base model trained previously\n",
    "\n",
    "tuned_wv = GradientBoostingClassifier(random_state=42)\n",
    "#tuned_wv = RandomForestClassifier(random_state=42)\n",
    "#tuned_wv = DecisionTreeClassifier(random_state=42)\n",
    "\n",
    "parameters = {\n",
    "    'max_depth': np.arange(3,7),\n",
    "    'min_samples_split': np.arange(5,12,2),\n",
    "    'max_features': ['log2', 'sqrt', 0.2, 0.4]\n",
    "}\n",
    "\n",
    "# Run the grid search\n",
    "grid_obj = GridSearchCV(tuned_wv, parameters, scoring='f1_weighted',cv=5,n_jobs=-1)\n",
    "grid_obj = grid_obj.fit(X_train_wv, y_train)\n",
    "\n",
    "end = time.time()\n",
    "print(\"Time taken \",(end-start))\n",
    "\n",
    "# Set the clf to the best combination of parameters\n",
    "tuned_wv = grid_obj.best_estimator_"
   ]
  },
  {
   "cell_type": "code",
   "execution_count": null,
   "id": "3f154756",
   "metadata": {},
   "outputs": [],
   "source": [
    "# Fit the best algorithm to the data.\n",
    "tuned_wv.fit(X_train_wv, y_train)"
   ]
  },
  {
   "cell_type": "code",
   "execution_count": null,
   "id": "20c69c67",
   "metadata": {},
   "outputs": [],
   "source": [
    "plot_confusion_matrix(tuned_wv,X_train_wv,y_train)"
   ]
  },
  {
   "cell_type": "code",
   "execution_count": null,
   "id": "1eda7a20",
   "metadata": {},
   "outputs": [],
   "source": [
    "plot_confusion_matrix(tuned_wv,X_val_wv,y_val)"
   ]
  },
  {
   "cell_type": "code",
   "execution_count": null,
   "id": "efc5abe9",
   "metadata": {},
   "outputs": [],
   "source": [
    "#Calculating different metrics on training data\n",
    "tuned_train_wv=model_performance_classification_sklearn(tuned_wv,X_train_wv,y_train)\n",
    "print(\"Training performance:\\n\",tuned_train_wv)"
   ]
  },
  {
   "cell_type": "code",
   "execution_count": null,
   "id": "de72cf29",
   "metadata": {},
   "outputs": [],
   "source": [
    "#Calculating different metrics on validation data\n",
    "tuned_val_wv = model_performance_classification_sklearn(tuned_wv,X_val_wv,y_val)\n",
    "print(\"Validation performance:\\n\",tuned_val_wv)"
   ]
  },
  {
   "cell_type": "markdown",
   "id": "fae097f2",
   "metadata": {},
   "source": [
    "### Tuned Model - GloVe"
   ]
  },
  {
   "cell_type": "code",
   "execution_count": null,
   "id": "f06e8115",
   "metadata": {},
   "outputs": [],
   "source": [
    "start = time.time()\n",
    "\n",
    "#Uncomment only one of the snippets corrrsponding to the base model trained previously\n",
    "\n",
    "#tuned_wv = GradientBoostingClassifier(random_state = 42)\n",
    "#tuned_wv = RandomForestClassifier(random_state=42)\n",
    "#tuned_wv = DecisionTreeClassifier(random_state=42)\n",
    "\n",
    "tuned_gl = GradientBoostingClassifier(random_state=42)\n",
    "#tuned_wv = RandomForestClassifier(random_state=42)\n",
    "#tuned_wv = DecisionTreeClassifier(random_state=42)\n",
    "\n",
    "parameters = {\n",
    "    'max_depth': np.arange(3,7),\n",
    "    'min_samples_split': np.arange(5,12,2),\n",
    "    'max_features': ['log2', 'sqrt', 0.2, 0.4]\n",
    "}\n",
    "\n",
    "# Run the grid search\n",
    "\n",
    "# Complete the code to pass the chosen model, parameters, scoring metric, and number of \n",
    "# cross-validation folds to GridSearchCV\n",
    "grid_obj = GridSearchCV(tuned_gl, parameters, scoring='f1_weighted',cv=5,n_jobs=-1) \n",
    "grid_obj = grid_obj.fit(X_train_gl, y_train)\n",
    "\n",
    "end = time.time()\n",
    "print(\"Time taken \",(end-start))\n",
    "\n",
    "# Set the clf to the best combination of parameters\n",
    "tuned_gl = grid_obj.best_estimator_"
   ]
  },
  {
   "cell_type": "code",
   "execution_count": null,
   "id": "84081445",
   "metadata": {},
   "outputs": [],
   "source": [
    "# Fit the best algorithm to the data.\n",
    "\n",
    "#Complete the code to fit the chosen model on the train data\n",
    "tuned_gl.fit(X_train_gl, y_train) "
   ]
  },
  {
   "cell_type": "code",
   "execution_count": null,
   "id": "25081314",
   "metadata": {},
   "outputs": [],
   "source": [
    "#Complete the code to plot the confusion matrix for the train data\n",
    "plot_confusion_matrix(tuned_gl,_____,_____) "
   ]
  },
  {
   "cell_type": "code",
   "execution_count": null,
   "id": "4f8bcf16",
   "metadata": {},
   "outputs": [],
   "source": [
    "#Complete the code to plot the confusion matrix for the validation data\n",
    "plot_confusion_matrix(tuned_gl,_____,_____) "
   ]
  },
  {
   "cell_type": "code",
   "execution_count": null,
   "id": "1af0fa17",
   "metadata": {},
   "outputs": [],
   "source": [
    "#Calculating different metrics on training data\n",
    "\n",
    "#Complete the code to compute the model performance for the training data\n",
    "tuned_train_gl=model_performance_classification_sklearn(tuned_gl,_____,_____) \n",
    "print(\"Training performance:\\n\",tuned_train_gl)"
   ]
  },
  {
   "cell_type": "code",
   "execution_count": null,
   "id": "6198cb78",
   "metadata": {},
   "outputs": [],
   "source": [
    "#Calculating different metrics on validation data\n",
    "\n",
    "#Complete the code to compute the model performance for the validation data\n",
    "tuned_val_gl = model_performance_classification_sklearn(tuned_gl,_____,_____) \n",
    "print(\"Validation performance:\\n\",tuned_val_gl)"
   ]
  },
  {
   "cell_type": "markdown",
   "id": "ca9253a7",
   "metadata": {},
   "source": [
    "### Tuned Model - Sentence Transformer"
   ]
  },
  {
   "cell_type": "code",
   "execution_count": null,
   "id": "fa8d4c79",
   "metadata": {},
   "outputs": [],
   "source": [
    "start = time.time()\n",
    "\n",
    "# Choose the type of classifier.\n",
    "\n",
    "#Uncomment only one of the snippets corrrsponding to the base model trained previously\n",
    "\n",
    "#tuned_wv = GradientBoostingClassifier(random_state = 42)\n",
    "#tuned_wv = RandomForestClassifier(random_state=42)\n",
    "#tuned_wv = DecisionTreeClassifier(random_state=42)\n",
    "\n",
    "tuned_st = GradientBoostingClassifier(random_state=42)\n",
    "#tuned_wv = RandomForestClassifier(random_state=42)\n",
    "#tuned_wv = DecisionTreeClassifier(random_state=42)\n",
    "\n",
    "parameters = {\n",
    "    'max_depth': np.arange(3,7),\n",
    "    'min_samples_split': np.arange(5,12,2),\n",
    "    'max_features': ['log2', 'sqrt', 0.2, 0.4]\n",
    "}\n",
    "\n",
    "# Run the grid search\n",
    "\n",
    "#Complete the code to pass the chosen model\n",
    "grid_obj = GridSearchCV(tuned_st, parameters, scoring='f1_weighted',cv=5,n_jobs=-1) \n",
    "grid_obj = grid_obj.fit(X_train_st, y_train)\n",
    "\n",
    "end = time.time()\n",
    "print(\"Time taken \",(end-start))\n",
    "\n",
    "# Set the clf to the best combination of parameters\n",
    "tuned_st = grid_obj.best_estimator_"
   ]
  },
  {
   "cell_type": "code",
   "execution_count": null,
   "id": "8205bcaa",
   "metadata": {},
   "outputs": [],
   "source": [
    "# Fit the best algorithm to the data.\n",
    "\n",
    "#Complete the code to fit the chosen model on the train data\n",
    "tuned_st.fit(X_train_st, y_train) "
   ]
  },
  {
   "cell_type": "code",
   "execution_count": null,
   "id": "08ff7bd9",
   "metadata": {},
   "outputs": [],
   "source": [
    "#Complete the code to plot the confusion matrix for the train data\n",
    "plot_confusion_matrix(tuned_st,_____,_____) "
   ]
  },
  {
   "cell_type": "code",
   "execution_count": null,
   "id": "97864d13",
   "metadata": {},
   "outputs": [],
   "source": [
    "#Complete the code to plot the confusion matrix for the validation data\n",
    "plot_confusion_matrix(tuned_st,_____,_____) "
   ]
  },
  {
   "cell_type": "code",
   "execution_count": null,
   "id": "be1c75c0",
   "metadata": {},
   "outputs": [],
   "source": [
    "#Calculating different metrics on training data\n",
    "\n",
    "#Complete the code to compute the model performance for the training data\n",
    "tuned_train_st=model_performance_classification_sklearn(tuned_st,_____,_____) \n",
    "print(\"Training performance:\\n\",tuned_train_st)"
   ]
  },
  {
   "cell_type": "code",
   "execution_count": null,
   "id": "927542a9",
   "metadata": {},
   "outputs": [],
   "source": [
    "#Calculating different metrics on validation data\n",
    "\n",
    "#Complete the code to compute the model performance for the validation data\n",
    "tuned_val_st = model_performance_classification_sklearn(tuned_st,_____,_____) \n",
    "print(\"Validation performance:\\n\",tuned_val_st)"
   ]
  },
  {
   "cell_type": "markdown",
   "id": "91d94adf",
   "metadata": {},
   "source": [
    "### Model Performance Summary and Final Model Selection"
   ]
  },
  {
   "cell_type": "code",
   "execution_count": null,
   "id": "3fdf161c",
   "metadata": {},
   "outputs": [],
   "source": [
    "#training performance comparison\n",
    "\n",
    "models_train_comp_df = pd.concat(\n",
    "    [base_train_wv.T,\n",
    "     base_train_gl.T,\n",
    "     base_train_st.T,\n",
    "     tuned_train_wv.T,\n",
    "     tuned_train_gl.T,\n",
    "     tuned_train_st.T,\n",
    "    ],axis=1\n",
    ")\n",
    "\n",
    "models_train_comp_df.columns = [\n",
    "    \"Base Model (Word2Vec)\",\n",
    "    \"Base Model (GloVe)\",\n",
    "    \"Base Model (Sentence Transformer)\",\n",
    "    \"Tuned Model (Word2Vec)\",\n",
    "    \"Tuned Model (GloVe)\",\n",
    "    \"Tuned Model (Sentence Transformer)\",\n",
    "]\n",
    "\n",
    "print(\"Training performance comparison:\")\n",
    "models_train_comp_df"
   ]
  },
  {
   "cell_type": "code",
   "execution_count": null,
   "id": "c7044896",
   "metadata": {},
   "outputs": [],
   "source": [
    "#validation performance comparison\n",
    "\n",
    "models_val_comp_df = pd.concat(\n",
    "    [base_val_wv.T,\n",
    "     base_val_gl.T,\n",
    "     base_val_st.T,\n",
    "     tuned_val_wv.T,\n",
    "     tuned_val_gl.T,\n",
    "     tuned_val_st.T,\n",
    "     ],axis=1\n",
    ")\n",
    "\n",
    "models_val_comp_df.columns = [\n",
    "    \"Base Model (Word2Vec)\",\n",
    "    \"Base Model (GloVe)\",\n",
    "    \"Base Model (Sentence Transformer)\",\n",
    "    \"Tuned Model (Word2Vec)\",\n",
    "    \"Tuned Model (GloVe)\",\n",
    "    \"Tuned Model (Sentence Transformer)\",\n",
    "]\n",
    "\n",
    "print(\"Validation performance comparison:\")\n",
    "models_val_comp_df"
   ]
  },
  {
   "cell_type": "markdown",
   "id": "785b9ee5",
   "metadata": {},
   "source": [
    "### Model Performance Check on Test Data"
   ]
  },
  {
   "cell_type": "code",
   "execution_count": null,
   "id": "28953b7a",
   "metadata": {},
   "outputs": [],
   "source": [
    "plot_confusion_matrix(_____,_____,_____) #Complete the code to plot the confusion matrix for the final model and test data"
   ]
  },
  {
   "cell_type": "code",
   "execution_count": null,
   "id": "190fb818",
   "metadata": {},
   "outputs": [],
   "source": [
    "#Calculating different metrics on training data\n",
    "final_model_test = model_performance_classification_sklearn(_____,_____,_____) #Complete the code to compute the final model's performance for the test data\n",
    "print(\"Test performance for the final model:\\n\",final_model_test)"
   ]
  },
  {
   "cell_type": "markdown",
   "id": "0qP5KTLo3OOC",
   "metadata": {
    "id": "0qP5KTLo3OOC"
   },
   "source": [
    "---\n",
    "---\n",
    "# **Weekly News Summarization**"
   ]
  },
  {
   "cell_type": "markdown",
   "id": "UX5laeu27ZEt",
   "metadata": {
    "id": "UX5laeu27ZEt"
   },
   "source": [
    "**Important Note**: It is recommended to run this section of the project independently from the previous sections in order to avoid runtime crashes due to RAM overload."
   ]
  },
  {
   "cell_type": "markdown",
   "id": "oWvf3R3An5K4",
   "metadata": {
    "id": "oWvf3R3An5K4"
   },
   "source": [
    "#### Installing and Importing the necessary libraries"
   ]
  },
  {
   "cell_type": "code",
   "execution_count": null,
   "id": "7CZm5cGb3Qnq",
   "metadata": {
    "id": "7CZm5cGb3Qnq"
   },
   "outputs": [],
   "source": [
    "# Installation for GPU llama-cpp-python\n",
    "# uncomment and run the following code in case GPU is being used\n",
    "!CMAKE_ARGS=\"-DLLAMA_CUBLAS=on\" FORCE_CMAKE=1 pip install llama-cpp-python -q\n",
    "\n",
    "# Installation for CPU llama-cpp-python\n",
    "# uncomment and run the following code in case GPU is not being used\n",
    "#!CMAKE_ARGS=\"-DLLAMA_CUBLAS=off\" FORCE_CMAKE=1 pip install llama-cpp-python -q"
   ]
  },
  {
   "cell_type": "code",
   "execution_count": null,
   "id": "KcRnKYZnCulX",
   "metadata": {
    "id": "KcRnKYZnCulX"
   },
   "outputs": [],
   "source": [
    "# Function to download the model from the Hugging Face model hub\n",
    "from huggingface_hub import hf_hub_download\n",
    "\n",
    "# Importing the Llama class from the llama_cpp module\n",
    "from llama_cpp import Llama\n",
    "\n",
    "# Importing the library for data manipulation\n",
    "import pandas as pd\n",
    "\n",
    "from tqdm import tqdm # For progress bar related functionalities\n",
    "tqdm.pandas()"
   ]
  },
  {
   "cell_type": "markdown",
   "id": "tZHRX2P2f40H",
   "metadata": {
    "id": "tZHRX2P2f40H"
   },
   "source": [
    "#### Loading the data"
   ]
  },
  {
   "cell_type": "code",
   "execution_count": null,
   "id": "i3mS-CYPz4ll",
   "metadata": {
    "id": "i3mS-CYPz4ll"
   },
   "outputs": [],
   "source": [
    "stock_news = pd.read_csv(\"_____\") #Complete the code to load the dataset\n",
    "data = stock_news.copy()"
   ]
  },
  {
   "cell_type": "markdown",
   "id": "q5ACqb0C7lxn",
   "metadata": {
    "id": "q5ACqb0C7lxn"
   },
   "source": [
    "#### Loading the model"
   ]
  },
  {
   "cell_type": "code",
   "execution_count": null,
   "id": "MtnDYTc80Pj3",
   "metadata": {
    "id": "MtnDYTc80Pj3"
   },
   "outputs": [],
   "source": [
    "model_name_or_path = \"TheBloke/Mistral-7B-Instruct-v0.2-GGUF\"\n",
    "model_basename = \"mistral-7b-instruct-v0.2.Q6_K.gguf\"\n",
    "\n",
    "\n",
    "model_path = hf_hub_download(\n",
    "    repo_id=_____, # Complete the code to mention the repo_id\n",
    "    filename=_____ # Complete the code to mention the filename\n",
    ")"
   ]
  },
  {
   "cell_type": "code",
   "execution_count": null,
   "id": "aaa1825e",
   "metadata": {},
   "outputs": [],
   "source": [
    "#uncomment the below snippet of code if the runtime is connected to GPU.\n",
    "llm = Llama(\n",
    "    model_path=model_path, # Path to the model\n",
    "    n_gpu_layers=100, #Number of layers transferred to GPU\n",
    "    n_ctx=4500, #Context window\n",
    ")"
   ]
  },
  {
   "cell_type": "code",
   "execution_count": null,
   "id": "1048e670",
   "metadata": {},
   "outputs": [],
   "source": [
    "# uncomment and run the following code in case GPU is not being used\n",
    "\n",
    "# llm = Llama(\n",
    "#     model_path=model_path,\n",
    "#     n_ctx=4500, # Context window\n",
    "#     n_cores=-2 # Number of CPU cores to use\n",
    "# )"
   ]
  },
  {
   "cell_type": "markdown",
   "id": "ueZl6x_0m6dJ",
   "metadata": {
    "id": "ueZl6x_0m6dJ"
   },
   "source": [
    "#### Aggregating the data weekly"
   ]
  },
  {
   "cell_type": "code",
   "execution_count": null,
   "id": "x2_Wb4rTz_cI",
   "metadata": {
    "id": "x2_Wb4rTz_cI"
   },
   "outputs": [],
   "source": [
    "data[\"Date\"] = pd.to_datetime(data['Date'])  # Convert the 'Date' column to datetime format."
   ]
  },
  {
   "cell_type": "code",
   "execution_count": null,
   "id": "AmaZ-8wG0GKS",
   "metadata": {
    "id": "AmaZ-8wG0GKS"
   },
   "outputs": [],
   "source": [
    "# Group the data by week using the 'Date' column.\n",
    "weekly_grouped = data.groupby(pd.Grouper(key='Date', freq='W'))"
   ]
  },
  {
   "cell_type": "code",
   "execution_count": null,
   "id": "8O9L9hZy0mto",
   "metadata": {
    "id": "8O9L9hZy0mto"
   },
   "outputs": [],
   "source": [
    "weekly_grouped = weekly_grouped.agg(\n",
    "    {\n",
    "        'News': lambda x: ' || '.join(x)  # Join the news values with ' || ' separator.\n",
    "    }\n",
    ").reset_index()\n",
    "\n",
    "print(weekly_grouped.shape)"
   ]
  },
  {
   "cell_type": "code",
   "execution_count": null,
   "id": "WtjfOgZ41bW7",
   "metadata": {
    "id": "WtjfOgZ41bW7"
   },
   "outputs": [],
   "source": [
    "weekly_grouped"
   ]
  },
  {
   "cell_type": "code",
   "execution_count": null,
   "id": "R31ZwDpRbcwh",
   "metadata": {
    "id": "R31ZwDpRbcwh"
   },
   "outputs": [],
   "source": [
    "# creating a copy of the data\n",
    "data_1 = weekly_grouped.copy()"
   ]
  },
  {
   "cell_type": "markdown",
   "id": "V-mESljUbcwY",
   "metadata": {
    "id": "V-mESljUbcwY"
   },
   "source": [
    "#### Summarization"
   ]
  },
  {
   "cell_type": "markdown",
   "id": "AuoEISFH59m0",
   "metadata": {
    "id": "AuoEISFH59m0"
   },
   "source": [
    "**Note**:\n",
    "\n",
    "- The model is expected to summarize the news from the week by identifying the top three positive and negative events that are most likely to impact the price of the stock.\n",
    "\n",
    "- As an output, the model is expected to return a JSON containing two keys, one for Positive Events and one for Negative Events."
   ]
  },
  {
   "cell_type": "markdown",
   "id": "ottdZvWzWWY9",
   "metadata": {
    "id": "ottdZvWzWWY9"
   },
   "source": [
    "For the project, we need to define the prompt to be fed to the LLM to help it understand the task to perform. The following should be the components of the prompt:\n",
    "\n",
    "1. **Role**: Specifies the role the LLM will be taking up to perform the specified task, along with any specific details regarding the role\n",
    "\n",
    "  - **Example**: `You are an expert data analyst specializing in news content analysis.`\n",
    "\n",
    "2. **Task**: Specifies the task to be performed and outlines what needs to be accomplished, clearly defining the objective\n",
    "\n",
    "  - **Example**: `Analyze the provided news headline and return the main topics contained within it.`\n",
    "\n",
    "3. **Instructions**: Provides detailed guidelines on how to perform the task, which includes steps, rules, and criteria to ensure the task is executed correctly\n",
    "\n",
    "  - **Example**:\n",
    "\n",
    "```\n",
    "Instructions:\n",
    "1. Read the news headline carefully.\n",
    "2. Identify the main subjects or entities mentioned in the headline.\n",
    "3. Determine the key events or actions described in the headline.\n",
    "4. Extract relevant keywords that represent the topics.\n",
    "5. List the topics in a concise manner.\n",
    "```\n",
    "\n",
    "4. **Output Format**: Specifies the format in which the final response should be structured, ensuring consistency and clarity in the generated output\n",
    "\n",
    "  - **Example**: `Return the output in JSON format with keys as the topic number and values as the actual topic.`"
   ]
  },
  {
   "cell_type": "markdown",
   "id": "1C7HTeXVYn8i",
   "metadata": {
    "id": "1C7HTeXVYn8i"
   },
   "source": [
    "**Full Prompt Example**:\n",
    "\n",
    "```\n",
    "You are an expert data analyst specializing in news content analysis.\n",
    "\n",
    "Task: Analyze the provided news headline and return the main topics contained within it.\n",
    "\n",
    "Instructions:\n",
    "1. Read the news headline carefully.\n",
    "2. Identify the main subjects or entities mentioned in the headline.\n",
    "3. Determine the key events or actions described in the headline.\n",
    "4. Extract relevant keywords that represent the topics.\n",
    "5. List the topics in a concise manner.\n",
    "\n",
    "Return the output in JSON format with keys as the topic number and values as the actual topic.\n",
    "```\n",
    "\n",
    "**Sample Output**:\n",
    "\n",
    "`{\"1\": \"Politics\", \"2\": \"Economy\", \"3\": \"Health\" }`"
   ]
  },
  {
   "cell_type": "markdown",
   "id": "re3HZr3BcB5v",
   "metadata": {
    "id": "re3HZr3BcB5v"
   },
   "source": [
    "##### Utility Functions"
   ]
  },
  {
   "cell_type": "code",
   "execution_count": null,
   "id": "3Zy4GD2DcF9z",
   "metadata": {
    "id": "3Zy4GD2DcF9z"
   },
   "outputs": [],
   "source": [
    "# defining a function to parse the JSON output from the model\n",
    "def extract_json_data(json_str):\n",
    "    import json\n",
    "    try:\n",
    "        # Find the indices of the opening and closing curly braces\n",
    "        json_start = json_str.find('{')\n",
    "        json_end = json_str.rfind('}')\n",
    "\n",
    "        if json_start != -1 and json_end != -1:\n",
    "            extracted_category = json_str[json_start:json_end + 1]  # Extract the JSON object\n",
    "            data_dict = json.loads(extracted_category)\n",
    "            return data_dict\n",
    "        else:\n",
    "            print(f\"Warning: JSON object not found in response: {json_str}\")\n",
    "            return {}\n",
    "    except json.JSONDecodeError as e:\n",
    "        print(f\"Error parsing JSON: {e}\")\n",
    "        return {}"
   ]
  },
  {
   "cell_type": "markdown",
   "id": "XwtB-hG4h9GL",
   "metadata": {
    "id": "XwtB-hG4h9GL"
   },
   "source": [
    "##### Defining the response function"
   ]
  },
  {
   "cell_type": "code",
   "execution_count": null,
   "id": "wNXpBE7sDrr-",
   "metadata": {
    "id": "wNXpBE7sDrr-"
   },
   "outputs": [],
   "source": [
    "#Defining the response function\n",
    "def response_mistral_1(prompt, news):\n",
    "    model_output = llm(\n",
    "      f\"\"\"\n",
    "      [INST]\n",
    "      {prompt}\n",
    "      News Articles: {news}\n",
    "      [/INST]\n",
    "      \"\"\",\n",
    "      max_tokens=_____, #Complete the code to set the maximum number of tokens the model should generate for this task.\n",
    "      temperature=_____, #Complete the code to set the value for temperature.\n",
    "      top_p=_____, #Complete the code to set the value for top_p\n",
    "      top_k=_____, #Complete the code to set the value for top_k\n",
    "      echo=False,\n",
    "    )\n",
    "\n",
    "    final_output = model_output[\"choices\"][0][\"text\"]\n",
    "\n",
    "    return final_output"
   ]
  },
  {
   "cell_type": "markdown",
   "id": "JRsgiVSXbcwi",
   "metadata": {
    "id": "JRsgiVSXbcwi"
   },
   "source": [
    "##### Checking the model output on a sample"
   ]
  },
  {
   "cell_type": "markdown",
   "id": "osPo6gq_0vZa",
   "metadata": {
    "id": "osPo6gq_0vZa"
   },
   "source": [
    "**Note**: Use this section to test out the prompt with one instance before using it for the entire weekly data."
   ]
  },
  {
   "cell_type": "code",
   "execution_count": null,
   "id": "erNvfAZs0o7B",
   "metadata": {
    "id": "erNvfAZs0o7B"
   },
   "outputs": [],
   "source": []
  },
  {
   "cell_type": "markdown",
   "id": "nFNa_MMwTCyA",
   "metadata": {
    "id": "nFNa_MMwTCyA"
   },
   "source": [
    "##### Checking the model output on the weekly data"
   ]
  },
  {
   "cell_type": "code",
   "execution_count": null,
   "id": "pSYYfSCb0pYw",
   "metadata": {
    "id": "pSYYfSCb0pYw"
   },
   "outputs": [],
   "source": []
  },
  {
   "cell_type": "markdown",
   "id": "C-MW3XpmQfqN",
   "metadata": {
    "id": "C-MW3XpmQfqN"
   },
   "source": [
    "##### Formatting the model output"
   ]
  },
  {
   "cell_type": "code",
   "execution_count": null,
   "id": "2cs3Ww3J0py_",
   "metadata": {
    "id": "2cs3Ww3J0py_"
   },
   "outputs": [],
   "source": []
  },
  {
   "cell_type": "markdown",
   "id": "HiOLoD7BO3L-",
   "metadata": {
    "id": "HiOLoD7BO3L-"
   },
   "source": [
    "---\n",
    "---\n",
    "# **Conclusions and Recommendations**"
   ]
  },
  {
   "cell_type": "markdown",
   "id": "5r0z8qUZ4MOE",
   "metadata": {
    "id": "5r0z8qUZ4MOE"
   },
   "source": [
    "-\n",
    "\n",
    "\n"
   ]
  },
  {
   "cell_type": "markdown",
   "id": "uAOPv9oQtWcC",
   "metadata": {
    "id": "uAOPv9oQtWcC"
   },
   "source": [
    "<font size=6 color='blue'>Power Ahead</font>\n",
    "___"
   ]
  }
 ],
 "metadata": {
  "accelerator": "GPU",
  "colab": {
   "collapsed_sections": [
    "EvCcfwuSU-fz",
    "6QR_RHvIVHT2",
    "Vn6bbxSwVKl3",
    "ZJOtDHVSF5hu",
    "EWGlpDNkrTqA",
    "VrFQHcW5mYgv",
    "wQ46zPgumfjF",
    "EvFNfrvGWthn",
    "hGHBK8-QeKOB",
    "Q0UlMQnyegl7",
    "hLE0s7OFKilB",
    "N8z4-vOBmwqv",
    "0rYgR14ORf7b",
    "f4lwYN5bYmHp",
    "0qP5KTLo3OOC",
    "oWvf3R3An5K4",
    "tZHRX2P2f40H",
    "q5ACqb0C7lxn",
    "ueZl6x_0m6dJ",
    "V-mESljUbcwY",
    "re3HZr3BcB5v",
    "XwtB-hG4h9GL",
    "JRsgiVSXbcwi",
    "nFNa_MMwTCyA",
    "C-MW3XpmQfqN",
    "HiOLoD7BO3L-"
   ],
   "gpuType": "T4",
   "provenance": []
  },
  "kernelspec": {
   "display_name": "Python 3 (ipykernel)",
   "language": "python",
   "name": "python3"
  },
  "language_info": {
   "codemirror_mode": {
    "name": "ipython",
    "version": 3
   },
   "file_extension": ".py",
   "mimetype": "text/x-python",
   "name": "python",
   "nbconvert_exporter": "python",
   "pygments_lexer": "ipython3",
   "version": "3.11.7"
  }
 },
 "nbformat": 4,
 "nbformat_minor": 5
}
